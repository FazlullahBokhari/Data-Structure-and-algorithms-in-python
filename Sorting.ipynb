{
 "cells": [
  {
   "cell_type": "code",
   "execution_count": 74,
   "id": "854f9268",
   "metadata": {},
   "outputs": [],
   "source": [
    "#Bubble Sort"
   ]
  },
  {
   "cell_type": "code",
   "execution_count": 75,
   "id": "1f0b4266",
   "metadata": {},
   "outputs": [],
   "source": [
    "def bubbleSort(arr):\n",
    "    for i in range(0,len(arr)):\n",
    "        for j in range(0,len(arr)-i-1):\n",
    "            if arr[j]>arr[j+1]:\n",
    "                arr[j],arr[j+1] = arr[j+1],arr[j]\n",
    "    return arr        "
   ]
  },
  {
   "cell_type": "code",
   "execution_count": 76,
   "id": "2c0ca6df",
   "metadata": {},
   "outputs": [
    {
     "data": {
      "text/plain": [
       "[1, 2, 3, 4, 5]"
      ]
     },
     "execution_count": 76,
     "metadata": {},
     "output_type": "execute_result"
    }
   ],
   "source": [
    "b = [3,4,1,5,2]\n",
    "bubbleSort(b)"
   ]
  },
  {
   "cell_type": "code",
   "execution_count": 77,
   "id": "3dbeb46a",
   "metadata": {},
   "outputs": [],
   "source": [
    "def selectionSort(arr):\n",
    "    for i in range(0,len(arr)):\n",
    "        fixed = i\n",
    "        for j in range(i+1,len(arr)):\n",
    "            if arr[fixed] > arr[j]:\n",
    "                arr[fixed],arr[j] = arr[j],arr[fixed]\n",
    "    return arr        "
   ]
  },
  {
   "cell_type": "code",
   "execution_count": 78,
   "id": "4a24b201",
   "metadata": {},
   "outputs": [
    {
     "data": {
      "text/plain": [
       "[1, 2, 3, 4, 5]"
      ]
     },
     "execution_count": 78,
     "metadata": {},
     "output_type": "execute_result"
    }
   ],
   "source": [
    "s = [5,4,3,2,1]\n",
    "selectionSort(s)"
   ]
  },
  {
   "cell_type": "code",
   "execution_count": 79,
   "id": "ef66a8db",
   "metadata": {},
   "outputs": [],
   "source": [
    "def insertionSort(arr):\n",
    "    for i in range(0,len(arr)):\n",
    "        j = i-1\n",
    "        while j>=0 and arr[j]>arr[j+1]:\n",
    "            arr[j],arr[j+1] = arr[j+1],arr[j]\n",
    "            j -=1\n",
    "            print(arr)\n",
    "        print()   \n",
    "    return arr        "
   ]
  },
  {
   "cell_type": "code",
   "execution_count": 80,
   "id": "753c0d3a",
   "metadata": {},
   "outputs": [
    {
     "name": "stdout",
     "output_type": "stream",
     "text": [
      "\n",
      "[4, 5, 3, 2, 1]\n",
      "\n",
      "[4, 3, 5, 2, 1]\n",
      "[3, 4, 5, 2, 1]\n",
      "\n",
      "[3, 4, 2, 5, 1]\n",
      "[3, 2, 4, 5, 1]\n",
      "[2, 3, 4, 5, 1]\n",
      "\n",
      "[2, 3, 4, 1, 5]\n",
      "[2, 3, 1, 4, 5]\n",
      "[2, 1, 3, 4, 5]\n",
      "[1, 2, 3, 4, 5]\n",
      "\n"
     ]
    },
    {
     "data": {
      "text/plain": [
       "[1, 2, 3, 4, 5]"
      ]
     },
     "execution_count": 80,
     "metadata": {},
     "output_type": "execute_result"
    }
   ],
   "source": [
    "i = [5,4,3,2,1]\n",
    "insertionSort(i)"
   ]
  },
  {
   "cell_type": "code",
   "execution_count": 81,
   "id": "70fcbdcc",
   "metadata": {},
   "outputs": [],
   "source": [
    "def mergeArray(arr,first,middle,last):\n",
    "    arr1 = arr[first:middle+1]\n",
    "    arr2 = arr[middle+1:last+1]\n",
    "    i=0\n",
    "    j=0\n",
    "    k=first\n",
    "    \n",
    "    while i<len(arr1) and j<len(arr2):\n",
    "        if arr1[i] <= arr2[j]:\n",
    "            arr[k] = arr1[i]\n",
    "            i +=1\n",
    "            k +=1\n",
    "        else:\n",
    "            arr[k] = arr2[j]\n",
    "            j +=1\n",
    "            k +=1\n",
    "            \n",
    "    while i<len(arr1):\n",
    "        arr[k] = arr1[i]\n",
    "        i +=1\n",
    "        k +=1\n",
    "        \n",
    "    while j<len(arr2):\n",
    "        arr[k] = arr2[j]\n",
    "        k +=1\n",
    "        j +=1\n",
    "    \n",
    "def mergeSort(arr,first,last):\n",
    "    if first<last:\n",
    "        middle = (first+last)//2\n",
    "        mergeSort(arr,first,middle)\n",
    "        mergeSort(arr,middle+1,last)\n",
    "        mergeArray(arr,first,middle,last)   "
   ]
  },
  {
   "cell_type": "code",
   "execution_count": 82,
   "id": "c6024e03",
   "metadata": {},
   "outputs": [
    {
     "name": "stdout",
     "output_type": "stream",
     "text": [
      "1 2 3 4 5 7 8\n"
     ]
    }
   ],
   "source": [
    "m = [5,4,3,1,7,8,2]\n",
    "mergeSort(m,0,len(m)-1)\n",
    "print(*m)"
   ]
  },
  {
   "cell_type": "code",
   "execution_count": 85,
   "id": "1ffc9990",
   "metadata": {},
   "outputs": [],
   "source": [
    "def partition(arr,low,high):\n",
    "    i = low-1\n",
    "    pivot = arr[high]\n",
    "    for j in range(low,high):\n",
    "        if arr[j]<pivot:\n",
    "            i += 1\n",
    "            arr[j],arr[i] = arr[i],arr[j]\n",
    "    arr[i+1],arr[high] = arr[high], arr[i+1]\n",
    "    return i+1\n",
    "\n",
    "def quickSort(arr,low,high):\n",
    "    if low<high:\n",
    "        pivotPos = partition(arr,low,high)\n",
    "        quickSort(arr,low,pivotPos-1)\n",
    "        quickSort(arr,pivotPos+1,high)\n",
    "    return arr    "
   ]
  },
  {
   "cell_type": "code",
   "execution_count": 86,
   "id": "ba90b827",
   "metadata": {},
   "outputs": [
    {
     "data": {
      "text/plain": [
       "[1, 2, 3, 4, 5]"
      ]
     },
     "execution_count": 86,
     "metadata": {},
     "output_type": "execute_result"
    }
   ],
   "source": [
    "q = [2,5,1,4,3]\n",
    "quickSort(q,0,len(q)-1)"
   ]
  },
  {
   "cell_type": "code",
   "execution_count": 104,
   "id": "3fec79f2",
   "metadata": {},
   "outputs": [],
   "source": [
    "def countSort(arr,b,k):\n",
    "    count = [0]*(k+2)\n",
    "    for i in arr:\n",
    "        count[i] = count[i]+1\n",
    "        \n",
    "    for i in range(1,k+1):\n",
    "        count[i] = count[i-1]+count[i]\n",
    "        \n",
    "    for i in range(len(arr)-1,-1,-1):\n",
    "        b[count[arr[i]]-1] = arr[i]\n",
    "        count[arr[i]] = count[arr[i]]-1  "
   ]
  },
  {
   "cell_type": "code",
   "execution_count": 106,
   "id": "c152c246",
   "metadata": {},
   "outputs": [
    {
     "data": {
      "text/plain": [
       "[1, 1, 2, 2, 3, 3, 3, 4]"
      ]
     },
     "execution_count": 106,
     "metadata": {},
     "output_type": "execute_result"
    }
   ],
   "source": [
    "c = [3,2,3,2,3,4,1,1]\n",
    "k = max(c)\n",
    "b = [0]*len(c)\n",
    "countSort(c,b,k)\n",
    "b"
   ]
  },
  {
   "cell_type": "code",
   "execution_count": null,
   "id": "fc63e117",
   "metadata": {},
   "outputs": [],
   "source": []
  }
 ],
 "metadata": {
  "kernelspec": {
   "display_name": "Python 3",
   "language": "python",
   "name": "python3"
  },
  "language_info": {
   "codemirror_mode": {
    "name": "ipython",
    "version": 3
   },
   "file_extension": ".py",
   "mimetype": "text/x-python",
   "name": "python",
   "nbconvert_exporter": "python",
   "pygments_lexer": "ipython3",
   "version": "3.8.8"
  }
 },
 "nbformat": 4,
 "nbformat_minor": 5
}
