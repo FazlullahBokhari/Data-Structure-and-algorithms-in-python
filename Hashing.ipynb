{
 "cells": [
  {
   "cell_type": "code",
   "execution_count": 12,
   "id": "672c453c",
   "metadata": {},
   "outputs": [
    {
     "name": "stdout",
     "output_type": "stream",
     "text": [
      "{1: 5, 6: 8}\n",
      "1 5\n",
      "6 8\n",
      "dict_keys([1, 6])\n",
      "dict_values([5, 8])\n"
     ]
    }
   ],
   "source": [
    "d = {}\n",
    "d[1] = 5\n",
    "d[6] = 8\n",
    "print(d)\n",
    "for i,j in d.items():\n",
    "    print(i,j)\n",
    "    \n",
    "print(d.keys())\n",
    "print(d.values())"
   ]
  },
  {
   "cell_type": "code",
   "execution_count": 16,
   "id": "16555d14",
   "metadata": {},
   "outputs": [],
   "source": [
    "def pairSum(arr,Sum):\n",
    "    pairs = []\n",
    "    for i in range(0,len(arr)):\n",
    "        for j in range(i+1,len(arr)):\n",
    "            if arr[i]+arr[j] == Sum:\n",
    "                pairs.append([arr[i],arr[j]])\n",
    "            \n",
    "    return pairs"
   ]
  },
  {
   "cell_type": "code",
   "execution_count": 17,
   "id": "3b0a5ad8",
   "metadata": {},
   "outputs": [
    {
     "data": {
      "text/plain": [
       "[[1, 5], [1, 5], [7, -1]]"
      ]
     },
     "execution_count": 17,
     "metadata": {},
     "output_type": "execute_result"
    }
   ],
   "source": [
    "arr = [1,5,7,-1,5]\n",
    "Sum = 6\n",
    "pairSum(arr,Sum)"
   ]
  },
  {
   "cell_type": "code",
   "execution_count": 18,
   "id": "800de1ad",
   "metadata": {},
   "outputs": [],
   "source": [
    "def pairSum2(arr,Sum):\n",
    "    pairs = []\n",
    "    low = 0\n",
    "    high = len(arr)-1\n",
    "    arr.sort()\n",
    "    while low<=high:\n",
    "        if arr[low]+arr[high] == Sum:\n",
    "            pairs.append([arr[low],arr[high]])\n",
    "        if arr[low]+arr[high]>Sum:\n",
    "            high = high -1\n",
    "        else:\n",
    "            low = low +1\n",
    "    return pairs"
   ]
  },
  {
   "cell_type": "code",
   "execution_count": 19,
   "id": "b8dd303e",
   "metadata": {},
   "outputs": [
    {
     "data": {
      "text/plain": [
       "[[-1, 7], [1, 5]]"
      ]
     },
     "execution_count": 19,
     "metadata": {},
     "output_type": "execute_result"
    }
   ],
   "source": [
    "arr = [1,5,7,-1,5]\n",
    "Sum = 6\n",
    "pairSum2(arr,Sum)"
   ]
  },
  {
   "cell_type": "code",
   "execution_count": 24,
   "id": "b40e6e34",
   "metadata": {},
   "outputs": [],
   "source": [
    "def pairSum3(arr,Sum):\n",
    "    pairs = []\n",
    "    hash_map = {}\n",
    "    for i in range(0,len(arr)):\n",
    "        temp = Sum-arr[i]\n",
    "        if temp in hash_map:\n",
    "            pairs.append([temp,arr[i]])\n",
    "        if arr[i] in hash_map:\n",
    "            hash_map[arr[i]] +=1\n",
    "        else:\n",
    "            hash_map[arr[i]] = 1\n",
    "    return pairs"
   ]
  },
  {
   "cell_type": "code",
   "execution_count": 25,
   "id": "73d00570",
   "metadata": {},
   "outputs": [
    {
     "data": {
      "text/plain": [
       "[[1, 5], [7, -1], [1, 5]]"
      ]
     },
     "execution_count": 25,
     "metadata": {},
     "output_type": "execute_result"
    }
   ],
   "source": [
    "arr = [1,5,7,-1,5]\n",
    "Sum = 6\n",
    "pairSum3(arr,Sum)"
   ]
  },
  {
   "cell_type": "code",
   "execution_count": 27,
   "id": "43e0b3ef",
   "metadata": {},
   "outputs": [],
   "source": [
    "def symmetricPairs(arr):\n",
    "    pairs = []\n",
    "    for i in range(0,len(arr)):\n",
    "        for j in range(i+1,len(arr)):\n",
    "            alpha = arr[i][::-1]\n",
    "            if alpha == arr[j]:\n",
    "                pairs.append(arr[i])\n",
    "    return pairs            "
   ]
  },
  {
   "cell_type": "code",
   "execution_count": 28,
   "id": "25a3afe1",
   "metadata": {},
   "outputs": [
    {
     "data": {
      "text/plain": [
       "[[1, 2], [2, 3]]"
      ]
     },
     "execution_count": 28,
     "metadata": {},
     "output_type": "execute_result"
    }
   ],
   "source": [
    "arr = [[1,2],[2,3],[4,5],[3,2],[7,9],[2,1]]\n",
    "symmetricPairs(arr)"
   ]
  },
  {
   "cell_type": "code",
   "execution_count": 31,
   "id": "35ebfcbf",
   "metadata": {},
   "outputs": [],
   "source": [
    "def symmetricPairs2(arr):\n",
    "    pairs = []\n",
    "    hash_map = {}\n",
    "    for a,b in arr:\n",
    "        if b in hash_map and hash_map[b] == a:\n",
    "            pairs.append([a,b])\n",
    "        else:\n",
    "            hash_map[a] = b\n",
    "    return pairs            "
   ]
  },
  {
   "cell_type": "code",
   "execution_count": 32,
   "id": "217589c1",
   "metadata": {},
   "outputs": [
    {
     "data": {
      "text/plain": [
       "[[3, 2], [2, 1]]"
      ]
     },
     "execution_count": 32,
     "metadata": {},
     "output_type": "execute_result"
    }
   ],
   "source": [
    "arr = [[1,2],[2,3],[4,5],[3,2],[7,9],[2,1]]\n",
    "symmetricPairs2(arr)"
   ]
  },
  {
   "cell_type": "code",
   "execution_count": null,
   "id": "52c116d7",
   "metadata": {},
   "outputs": [],
   "source": []
  }
 ],
 "metadata": {
  "kernelspec": {
   "display_name": "Python 3",
   "language": "python",
   "name": "python3"
  },
  "language_info": {
   "codemirror_mode": {
    "name": "ipython",
    "version": 3
   },
   "file_extension": ".py",
   "mimetype": "text/x-python",
   "name": "python",
   "nbconvert_exporter": "python",
   "pygments_lexer": "ipython3",
   "version": "3.8.8"
  }
 },
 "nbformat": 4,
 "nbformat_minor": 5
}
