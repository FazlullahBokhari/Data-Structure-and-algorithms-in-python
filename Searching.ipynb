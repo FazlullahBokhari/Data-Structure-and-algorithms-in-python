{
 "cells": [
  {
   "cell_type": "code",
   "execution_count": 89,
   "id": "d16e693c",
   "metadata": {},
   "outputs": [],
   "source": [
    "def linearSearch(arr,element):\n",
    "    for i in range(len(arr)):\n",
    "        if element == arr[i]:\n",
    "            return i\n",
    "    return -1"
   ]
  },
  {
   "cell_type": "code",
   "execution_count": 90,
   "id": "c25ce908",
   "metadata": {},
   "outputs": [
    {
     "data": {
      "text/plain": [
       "3"
      ]
     },
     "execution_count": 90,
     "metadata": {},
     "output_type": "execute_result"
    }
   ],
   "source": [
    "arr = [1,2,55,6,2,4]\n",
    "element = 6\n",
    "linearSearch(arr,element)"
   ]
  },
  {
   "cell_type": "code",
   "execution_count": 91,
   "id": "3fa48e3f",
   "metadata": {},
   "outputs": [],
   "source": [
    "def binarySearch(arr,key,low,high):\n",
    "    if low == high:\n",
    "        if arr[low] == key:\n",
    "            return low\n",
    "        else:\n",
    "            return -1\n",
    "    else:\n",
    "        mid = (low+high)//2\n",
    "        if key>arr[mid]:\n",
    "            return binarySearch(arr,key,mid+1,high)\n",
    "        elif key<arr[mid]:\n",
    "            return binarySearch(arr,key,low,mid-1)\n",
    "        else:\n",
    "            return mid"
   ]
  },
  {
   "cell_type": "code",
   "execution_count": 92,
   "id": "146ebdd2",
   "metadata": {},
   "outputs": [
    {
     "data": {
      "text/plain": [
       "5"
      ]
     },
     "execution_count": 92,
     "metadata": {},
     "output_type": "execute_result"
    }
   ],
   "source": [
    "b = [1,2,3,4,5,8,9,10]\n",
    "l = len(b)\n",
    "key = 8\n",
    "binarySearch(b,key,0,l)"
   ]
  },
  {
   "cell_type": "code",
   "execution_count": 93,
   "id": "24ab6e10",
   "metadata": {},
   "outputs": [],
   "source": [
    "def binary_searchDesc(arr,element,start,end):\n",
    "    ind = -1\n",
    "    while start <= end:\n",
    "        mid = start + (end-start)//2\n",
    "        if arr[mid] == element:\n",
    "            ind = mid\n",
    "            break\n",
    "        elif element > arr[mid]:\n",
    "            end = mid - 1\n",
    "        else:\n",
    "            start = mid + 1\n",
    "    return ind        "
   ]
  },
  {
   "cell_type": "code",
   "execution_count": 94,
   "id": "0a973b30",
   "metadata": {},
   "outputs": [
    {
     "data": {
      "text/plain": [
       "3"
      ]
     },
     "execution_count": 94,
     "metadata": {},
     "output_type": "execute_result"
    }
   ],
   "source": [
    "arr = [14,9,6,5,2,1]\n",
    "element = 5\n",
    "start = 0\n",
    "end = len(arr)-1\n",
    "index = binary_searchDesc(arr,element,start,end)\n",
    "index"
   ]
  },
  {
   "cell_type": "code",
   "execution_count": 95,
   "id": "4952b290",
   "metadata": {},
   "outputs": [],
   "source": [
    "def binary_searchAsc(arr,element,start,end):\n",
    "    ind = -1\n",
    "    while start <= end:\n",
    "        mid = start + (end-start)//2\n",
    "        if arr[mid] == element:\n",
    "            ind = mid\n",
    "            break\n",
    "        elif element < arr[mid]:\n",
    "            end = mid - 1\n",
    "        else:\n",
    "            start = mid + 1\n",
    "    return ind        "
   ]
  },
  {
   "cell_type": "code",
   "execution_count": 96,
   "id": "04487224",
   "metadata": {},
   "outputs": [
    {
     "data": {
      "text/plain": [
       "3"
      ]
     },
     "execution_count": 96,
     "metadata": {},
     "output_type": "execute_result"
    }
   ],
   "source": [
    "arr = [1,2,5,6,9,14]\n",
    "element = 6\n",
    "start = 0\n",
    "end = len(arr)-1\n",
    "index = binary_searchAsc(arr,element,start,end)\n",
    "index"
   ]
  },
  {
   "cell_type": "code",
   "execution_count": 97,
   "id": "ba333ab0",
   "metadata": {},
   "outputs": [],
   "source": [
    "def binary_search_not_order(arr,element,start,end):\n",
    "    if len(arr) == 1:\n",
    "        if element == arr[0]:\n",
    "            return 0\n",
    "        return -1\n",
    "    elif arr[0] < arr[-1]:\n",
    "        return binary_searchAsc(arr,element,start,end)\n",
    "    elif arr[0] > arr[-1]:\n",
    "        return binary_searchDesc(arr,element,start,end)"
   ]
  },
  {
   "cell_type": "code",
   "execution_count": 98,
   "id": "621bd1e0",
   "metadata": {},
   "outputs": [
    {
     "data": {
      "text/plain": [
       "4"
      ]
     },
     "execution_count": 98,
     "metadata": {},
     "output_type": "execute_result"
    }
   ],
   "source": [
    "arr = [1,2,3,4,5]\n",
    "element = 5\n",
    "start = 0\n",
    "end = len(arr) - 1\n",
    "index = binary_search_not_order(arr,element,start,end)\n",
    "index"
   ]
  },
  {
   "cell_type": "code",
   "execution_count": 99,
   "id": "2152377c",
   "metadata": {},
   "outputs": [],
   "source": [
    "def ternarySearch(arr,ele,start,end):\n",
    "    ind = -1\n",
    "    while start <= end:\n",
    "        m1 = (2*start+end)//3\n",
    "        m2 = (start+end*2)//3\n",
    "        if ele == arr[m1]:\n",
    "            ind = m1\n",
    "            break\n",
    "        elif ele == arr[m2]:\n",
    "            ind = m2\n",
    "            break\n",
    "        elif ele< arr[m1]:\n",
    "            end = m1-1\n",
    "        elif ele > arr[m2]:\n",
    "            start = m2+1\n",
    "    return ind        "
   ]
  },
  {
   "cell_type": "code",
   "execution_count": 100,
   "id": "0c4d8d83",
   "metadata": {},
   "outputs": [
    {
     "data": {
      "text/plain": [
       "4"
      ]
     },
     "execution_count": 100,
     "metadata": {},
     "output_type": "execute_result"
    }
   ],
   "source": [
    "arr = [ 1,2,5,9,14]\n",
    "ele = 14\n",
    "start = 0\n",
    "end = len(arr)-1\n",
    "ternarySearch(arr,ele,start,end)"
   ]
  },
  {
   "cell_type": "code",
   "execution_count": 101,
   "id": "3cb6cc06",
   "metadata": {},
   "outputs": [],
   "source": [
    "def firstOccurence(arr,ele,start,end):\n",
    "    ind = -1\n",
    "    while start <= end:\n",
    "        m = (start+end)//2\n",
    "        if ele == arr[m]:\n",
    "            ind = m\n",
    "            end = m - 1\n",
    "        elif ele < arr[m]:\n",
    "            end = m+1  \n",
    "        else:\n",
    "            start = m+1\n",
    "    return ind"
   ]
  },
  {
   "cell_type": "code",
   "execution_count": 102,
   "id": "b1728533",
   "metadata": {},
   "outputs": [],
   "source": [
    "def lastOccurence(arr,ele,start,end):\n",
    "    ind = -1\n",
    "    while start <= end:\n",
    "        m = (start+end)//2\n",
    "        if ele == arr[m]:\n",
    "            ind = m\n",
    "            start = m + 1\n",
    "        elif ele < arr[m]:\n",
    "            end = m-1  \n",
    "        else:\n",
    "            start = m+1\n",
    "    return ind"
   ]
  },
  {
   "cell_type": "code",
   "execution_count": 103,
   "id": "afffcbfd",
   "metadata": {},
   "outputs": [
    {
     "name": "stdout",
     "output_type": "stream",
     "text": [
      "6\n",
      "9\n"
     ]
    }
   ],
   "source": [
    "arr = [0,1,1,5,5,5,7,7,7,7]\n",
    "ele = 7\n",
    "start = 1\n",
    "end = len(arr)-1\n",
    "firstOcc = firstOccurence(arr,ele,start,end)\n",
    "print(firstOcc)\n",
    "lastOcc = lastOccurence(arr,ele,start,end)\n",
    "print(lastOcc)"
   ]
  },
  {
   "cell_type": "code",
   "execution_count": 104,
   "id": "070826a6",
   "metadata": {},
   "outputs": [],
   "source": [
    "def countElement(first,last):\n",
    "    return last-first+1"
   ]
  },
  {
   "cell_type": "code",
   "execution_count": 105,
   "id": "a8f1a4fd",
   "metadata": {},
   "outputs": [
    {
     "data": {
      "text/plain": [
       "4"
      ]
     },
     "execution_count": 105,
     "metadata": {},
     "output_type": "execute_result"
    }
   ],
   "source": [
    "countElement(firstOcc,lastOcc)"
   ]
  },
  {
   "cell_type": "code",
   "execution_count": 106,
   "id": "a8ed92b7",
   "metadata": {},
   "outputs": [],
   "source": [
    "def floor(arr,ele,start,end):\n",
    "    res = -1\n",
    "    while start <= end:\n",
    "        mid = (start+end)//2\n",
    "        if ele == arr[mid]:\n",
    "            res = ele\n",
    "            break\n",
    "        elif ele < arr[mid]:\n",
    "            end = mid-1\n",
    "        elif ele>arr[mid]:\n",
    "            res = arr[mid]\n",
    "            start = mid+1\n",
    "    return res       \n",
    "            "
   ]
  },
  {
   "cell_type": "code",
   "execution_count": 107,
   "id": "c9466007",
   "metadata": {},
   "outputs": [],
   "source": [
    "def ceil(arr,ele,start,end):\n",
    "    res = -1\n",
    "    while start <= end:\n",
    "        mid = (start+end)//2\n",
    "        if ele == arr[mid]:\n",
    "            res = ele\n",
    "            break\n",
    "        elif ele > arr[mid]:\n",
    "            start= mid+1\n",
    "        elif ele<arr[mid]:\n",
    "            res = arr[mid]\n",
    "            end = mid-1\n",
    "    return res       \n",
    "            "
   ]
  },
  {
   "cell_type": "code",
   "execution_count": 108,
   "id": "0ac7755e",
   "metadata": {},
   "outputs": [
    {
     "name": "stdout",
     "output_type": "stream",
     "text": [
      "4\n",
      "8\n"
     ]
    }
   ],
   "source": [
    "arr = [1,2,3,4,8,10,11,12]\n",
    "ele = 6\n",
    "start = 0\n",
    "end = len(arr)-1\n",
    "print(floor(arr,ele,start,end))\n",
    "print(ceil(arr,ele,start,end))"
   ]
  },
  {
   "cell_type": "code",
   "execution_count": 109,
   "id": "69ad0587",
   "metadata": {},
   "outputs": [],
   "source": [
    "def nextAlphabeticalElement(string,key,start,end):\n",
    "    res = -1\n",
    "    while start <= end:\n",
    "        mid = (start+end)//2\n",
    "        if key ==string[mid]:\n",
    "            start = mid+1\n",
    "        elif key < string[mid]:\n",
    "            res = string[mid]\n",
    "            end = mid-1\n",
    "        elif key > string[mid]:\n",
    "            start = mid+1\n",
    "    return res"
   ]
  },
  {
   "cell_type": "code",
   "execution_count": 110,
   "id": "8de0ef05",
   "metadata": {},
   "outputs": [
    {
     "data": {
      "text/plain": [
       "'h'"
      ]
     },
     "execution_count": 110,
     "metadata": {},
     "output_type": "execute_result"
    }
   ],
   "source": [
    "string = 'abchjoqt'\n",
    "key = 'c'\n",
    "start = 0\n",
    "end = len(arr)-1\n",
    "nextAlphabeticalElement(string, key,start,end)"
   ]
  },
  {
   "cell_type": "code",
   "execution_count": 111,
   "id": "8459a308",
   "metadata": {},
   "outputs": [],
   "source": [
    "def searchingInInfiniteSortedArray(arr,ele):\n",
    "    start = 0\n",
    "    end = 1\n",
    "    while ele > arr[end]:\n",
    "        start = end\n",
    "        end = end*2\n",
    "    ind = binarySearch_I(arr,ele,start,end)\n",
    "    return ind\n",
    "\n",
    "def binarySearch_I(arr,ele,start,end):\n",
    "    ind = -1\n",
    "    while start <= end:\n",
    "        mid = (start+end)//2\n",
    "        if ele == arr[mid]:\n",
    "            ind = mid\n",
    "            break\n",
    "        elif ele < arr[mid]:\n",
    "            end = mid-1\n",
    "        else:\n",
    "            start = mid+1\n",
    "    return ind        "
   ]
  },
  {
   "cell_type": "code",
   "execution_count": 112,
   "id": "eaa490d3",
   "metadata": {},
   "outputs": [
    {
     "data": {
      "text/plain": [
       "5"
      ]
     },
     "execution_count": 112,
     "metadata": {},
     "output_type": "execute_result"
    }
   ],
   "source": [
    "arr = [1,2,3,5,6,9,14,15,22,25]\n",
    "ele = 9\n",
    "searchingInInfiniteSortedArray(arr,ele)"
   ]
  },
  {
   "cell_type": "code",
   "execution_count": 113,
   "id": "98d0eac3",
   "metadata": {},
   "outputs": [],
   "source": [
    "def firstOccurence(arr,ele,start,end):\n",
    "    ind = -1\n",
    "    while start <= end:\n",
    "        m = (start+end)//2\n",
    "        if ele == arr[m]:\n",
    "            ind = m\n",
    "            end = m - 1\n",
    "        elif ele < arr[m]:\n",
    "            end = m+1  \n",
    "        else:\n",
    "            start = m+1\n",
    "    return ind\n",
    "\n",
    "def searchingInInfiniteSortedArray_2(arr,ele):\n",
    "    start = 0\n",
    "    end = 1\n",
    "    while ele > arr[end]:\n",
    "        start = end\n",
    "        end = end*2\n",
    "    ind = firstOccurence(arr,ele,start,end)\n",
    "    return ind"
   ]
  },
  {
   "cell_type": "code",
   "execution_count": 114,
   "id": "8e3874cd",
   "metadata": {},
   "outputs": [
    {
     "data": {
      "text/plain": [
       "11"
      ]
     },
     "execution_count": 114,
     "metadata": {},
     "output_type": "execute_result"
    }
   ],
   "source": [
    "arr = [0,0,0,0,0,0,0,0,0,0,0,1,1,1,1,1,1,1,1,1,1,1,1,1,1,1,1]\n",
    "ele = 1\n",
    "searchingInInfiniteSortedArray_2(arr,ele)"
   ]
  },
  {
   "cell_type": "code",
   "execution_count": 115,
   "id": "ece6579f",
   "metadata": {},
   "outputs": [],
   "source": [
    "def pivot(arr,start,end):\n",
    "    n = len(arr)\n",
    "    res = -1\n",
    "    while start <= end:\n",
    "        mid = (start+end)//2\n",
    "        prev = (mid+n-1)%n\n",
    "        next = (mid+1)%n\n",
    "        if arr[mid] <= arr[next] and arr[mid] <= arr[prev]:\n",
    "            res = mid\n",
    "            break\n",
    "        elif arr[start] < arr[mid]:\n",
    "            start = mid+1\n",
    "        elif arr[end] > arr[mid]:\n",
    "            end = mid-1\n",
    "    return res        "
   ]
  },
  {
   "cell_type": "code",
   "execution_count": 116,
   "id": "799144dc",
   "metadata": {},
   "outputs": [
    {
     "data": {
      "text/plain": [
       "5"
      ]
     },
     "execution_count": 116,
     "metadata": {},
     "output_type": "execute_result"
    }
   ],
   "source": [
    "arr = [8,11,12,15,18,2,5,6]\n",
    "start = 0\n",
    "end = len(arr)-1\n",
    "pivot(arr,start,end)"
   ]
  },
  {
   "cell_type": "code",
   "execution_count": 120,
   "id": "279c1b3e",
   "metadata": {},
   "outputs": [],
   "source": [
    "def pivot(arr,start,end):\n",
    "    n = len(arr)\n",
    "    res = -1\n",
    "    while start <= end:\n",
    "        mid = (start+end)//2\n",
    "        prev = (mid+n-1)%n\n",
    "        next = (mid+1)%n\n",
    "        if arr[mid] <= arr[next] and arr[mid] <= arr[prev]:\n",
    "            res = mid\n",
    "            break\n",
    "        elif arr[start] < arr[mid]:\n",
    "            start = mid+1\n",
    "        elif arr[end] > arr[mid]:\n",
    "            end = mid-1\n",
    "    return res    \n",
    "\n",
    "def binarySearch_II(arr,ele,start,end):\n",
    "    ind = -1\n",
    "    while start <= end:\n",
    "        mid = (start+end)//2\n",
    "        if ele == arr[mid]:\n",
    "            ind = mid\n",
    "            break\n",
    "        elif ele < arr[mid]:\n",
    "            end = mid-1\n",
    "        else:\n",
    "            start = mid+1\n",
    "    return ind        "
   ]
  },
  {
   "cell_type": "code",
   "execution_count": 124,
   "id": "fbabe132",
   "metadata": {},
   "outputs": [
    {
     "data": {
      "text/plain": [
       "5"
      ]
     },
     "execution_count": 124,
     "metadata": {},
     "output_type": "execute_result"
    }
   ],
   "source": [
    "arr = [8,11,12,15,18,2,5,6]\n",
    "ele = 2\n",
    "start = 0\n",
    "end = len(arr)-1\n",
    "pivotIndex = pivot(arr,start,end)\n",
    "index = binarySearch_II(arr,ele,start,pivotIndex-1)\n",
    "if index == -1:\n",
    "    index = binarySearch_II(arr,ele,pivotIndex,end)\n",
    "index    "
   ]
  },
  {
   "cell_type": "code",
   "execution_count": null,
   "id": "9ccc4223",
   "metadata": {},
   "outputs": [],
   "source": []
  },
  {
   "cell_type": "code",
   "execution_count": null,
   "id": "48a781d1",
   "metadata": {},
   "outputs": [],
   "source": []
  },
  {
   "cell_type": "code",
   "execution_count": null,
   "id": "eddc0f0e",
   "metadata": {},
   "outputs": [],
   "source": []
  },
  {
   "cell_type": "code",
   "execution_count": null,
   "id": "240308d5",
   "metadata": {},
   "outputs": [],
   "source": []
  },
  {
   "cell_type": "code",
   "execution_count": null,
   "id": "bdeebe93",
   "metadata": {},
   "outputs": [],
   "source": []
  },
  {
   "cell_type": "code",
   "execution_count": null,
   "id": "16dc266a",
   "metadata": {},
   "outputs": [],
   "source": []
  }
 ],
 "metadata": {
  "kernelspec": {
   "display_name": "Python 3",
   "language": "python",
   "name": "python3"
  },
  "language_info": {
   "codemirror_mode": {
    "name": "ipython",
    "version": 3
   },
   "file_extension": ".py",
   "mimetype": "text/x-python",
   "name": "python",
   "nbconvert_exporter": "python",
   "pygments_lexer": "ipython3",
   "version": "3.8.8"
  }
 },
 "nbformat": 4,
 "nbformat_minor": 5
}
