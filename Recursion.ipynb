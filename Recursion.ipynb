{
 "cells": [
  {
   "cell_type": "code",
   "execution_count": 9,
   "id": "901b8b03",
   "metadata": {},
   "outputs": [],
   "source": [
    "def fib(n):\n",
    "    if n == 1:\n",
    "        return 0\n",
    "    elif n==2:\n",
    "        return 1\n",
    "    else:\n",
    "        return fib(n-1)+fib(n-2)     "
   ]
  },
  {
   "cell_type": "code",
   "execution_count": 10,
   "id": "a36bfc55",
   "metadata": {},
   "outputs": [
    {
     "name": "stdout",
     "output_type": "stream",
     "text": [
      "2\n",
      "0 1 "
     ]
    }
   ],
   "source": [
    "n = int(input())\n",
    "for i in range(1,n+1):\n",
    "    print(fib(i), end=\" \")"
   ]
  },
  {
   "cell_type": "code",
   "execution_count": 12,
   "id": "58dd07cf",
   "metadata": {},
   "outputs": [
    {
     "data": {
      "text/plain": [
       "34"
      ]
     },
     "execution_count": 12,
     "metadata": {},
     "output_type": "execute_result"
    }
   ],
   "source": [
    "fib(10)"
   ]
  },
  {
   "cell_type": "code",
   "execution_count": 13,
   "id": "ad0ee78a",
   "metadata": {},
   "outputs": [],
   "source": [
    "#print umber from 1 to n\n",
    "def printOneToN(n):\n",
    "    if n == 1:\n",
    "        print(1)\n",
    "        return\n",
    "    else:\n",
    "        printOneToN(n-1)\n",
    "        print(n)"
   ]
  },
  {
   "cell_type": "code",
   "execution_count": 14,
   "id": "388fb1aa",
   "metadata": {},
   "outputs": [
    {
     "name": "stdout",
     "output_type": "stream",
     "text": [
      "1\n",
      "2\n",
      "3\n",
      "4\n",
      "5\n"
     ]
    }
   ],
   "source": [
    "printOneToN(5)"
   ]
  },
  {
   "cell_type": "code",
   "execution_count": 15,
   "id": "b71f86b2",
   "metadata": {},
   "outputs": [],
   "source": [
    "def printNtoOne(n):\n",
    "    if n == 1:\n",
    "        print(1)\n",
    "        return\n",
    "    else:\n",
    "        print(n)\n",
    "        printNtoOne(n-1)"
   ]
  },
  {
   "cell_type": "code",
   "execution_count": 16,
   "id": "40a160cb",
   "metadata": {},
   "outputs": [
    {
     "name": "stdout",
     "output_type": "stream",
     "text": [
      "4\n",
      "3\n",
      "2\n",
      "1\n"
     ]
    }
   ],
   "source": [
    "printNtoOne(4)"
   ]
  },
  {
   "cell_type": "code",
   "execution_count": 17,
   "id": "30bcc22d",
   "metadata": {},
   "outputs": [],
   "source": [
    "def fact(n):\n",
    "    if n in [0,1]:\n",
    "        return 1\n",
    "    else:\n",
    "        return n*fact(n-1)"
   ]
  },
  {
   "cell_type": "code",
   "execution_count": 18,
   "id": "c6beb98c",
   "metadata": {},
   "outputs": [
    {
     "data": {
      "text/plain": [
       "6"
      ]
     },
     "execution_count": 18,
     "metadata": {},
     "output_type": "execute_result"
    }
   ],
   "source": [
    "fact(3)"
   ]
  },
  {
   "cell_type": "code",
   "execution_count": 19,
   "id": "2e26ee78",
   "metadata": {},
   "outputs": [],
   "source": [
    "def fact(n):\n",
    "    fact = 1\n",
    "    for i in range(1,n+1):\n",
    "        fact = fact*i\n",
    "    return fact    "
   ]
  },
  {
   "cell_type": "code",
   "execution_count": 20,
   "id": "4799e78a",
   "metadata": {},
   "outputs": [
    {
     "data": {
      "text/plain": [
       "3628800"
      ]
     },
     "execution_count": 20,
     "metadata": {},
     "output_type": "execute_result"
    }
   ],
   "source": [
    "fact(10)"
   ]
  },
  {
   "cell_type": "code",
   "execution_count": 21,
   "id": "0992b240",
   "metadata": {},
   "outputs": [
    {
     "data": {
      "text/plain": [
       "[4, 3, 2, 1]"
      ]
     },
     "execution_count": 21,
     "metadata": {},
     "output_type": "execute_result"
    }
   ],
   "source": [
    "arr = [1,2,3,4]\n",
    "arr[::-1]"
   ]
  },
  {
   "cell_type": "code",
   "execution_count": 22,
   "id": "a9ecaaa4",
   "metadata": {},
   "outputs": [],
   "source": [
    "arr1 = []\n",
    "def reverseArr(arr):\n",
    "    if len(arr) == 1:\n",
    "        arr1.append(arr[0])\n",
    "        return \n",
    "    else:\n",
    "        reverseArr(arr[1:])\n",
    "        arr1.append(arr[0])\n",
    "    return arr1     "
   ]
  },
  {
   "cell_type": "code",
   "execution_count": 23,
   "id": "79d4ce68",
   "metadata": {},
   "outputs": [
    {
     "data": {
      "text/plain": [
       "[4, 3, 2, 1]"
      ]
     },
     "execution_count": 23,
     "metadata": {},
     "output_type": "execute_result"
    }
   ],
   "source": [
    "arr = [1,2,3,4]\n",
    "reverseArr(arr)"
   ]
  },
  {
   "cell_type": "code",
   "execution_count": 24,
   "id": "d9fc0f65",
   "metadata": {},
   "outputs": [],
   "source": [
    "def reverseArr(arr):\n",
    "    if len(arr) == 1:\n",
    "        return\n",
    "    else:\n",
    "        temp = arr.pop(0)\n",
    "        reverseArr(arr)\n",
    "        arr.append(temp)"
   ]
  },
  {
   "cell_type": "code",
   "execution_count": 25,
   "id": "01294f41",
   "metadata": {},
   "outputs": [
    {
     "data": {
      "text/plain": [
       "[4, 3, 2, 1]"
      ]
     },
     "execution_count": 25,
     "metadata": {},
     "output_type": "execute_result"
    }
   ],
   "source": [
    "arr = [1,2,3,4]\n",
    "reverseArr(arr)\n",
    "arr"
   ]
  },
  {
   "cell_type": "code",
   "execution_count": 27,
   "id": "3bee7383",
   "metadata": {},
   "outputs": [],
   "source": [
    "def reverseStack(l):\n",
    "    if len(l) == 1:\n",
    "        stack1.append(l[0])\n",
    "        return\n",
    "    else:\n",
    "        temp = l.pop(-1)\n",
    "        stack1.append(temp)\n",
    "        reverseStack(l)"
   ]
  },
  {
   "cell_type": "code",
   "execution_count": 28,
   "id": "22ae60c6",
   "metadata": {},
   "outputs": [
    {
     "data": {
      "text/plain": [
       "[4, 3, 2, 1]"
      ]
     },
     "execution_count": 28,
     "metadata": {},
     "output_type": "execute_result"
    }
   ],
   "source": [
    "stack = [1,2,3,4]\n",
    "stack1 = []\n",
    "reverseStack(stack)\n",
    "stack1"
   ]
  },
  {
   "cell_type": "code",
   "execution_count": 36,
   "id": "f532df8b",
   "metadata": {},
   "outputs": [
    {
     "name": "stdout",
     "output_type": "stream",
     "text": [
      "5\n",
      "4\n"
     ]
    }
   ],
   "source": [
    "def fun(n):\n",
    "    if n == 3:\n",
    "        return\n",
    "    else:\n",
    "        print(n)\n",
    "        fun(n-1)\n",
    "fun(5)        "
   ]
  },
  {
   "cell_type": "code",
   "execution_count": 41,
   "id": "1e8356f7",
   "metadata": {},
   "outputs": [],
   "source": [
    "def insert(arr,alpha):\n",
    "    print(\"Array\",arr,\"alpha value\",alpha,\" in insert function\")\n",
    "    if len(arr)==0 or arr[-1]<alpha:\n",
    "        arr.append(alpha)\n",
    "        print(\"alpha added in array in insert function\",alpha)\n",
    "        return  \n",
    "    val = arr.pop(-1)\n",
    "    print(val,\"val poped in array in insert function\")\n",
    "    insert(arr,alpha)\n",
    "    arr.append(val)\n",
    "    print(val,\"val added in array in insert function\")\n",
    "         \n",
    "        \n",
    "def sort(arr):\n",
    "    print(\"Array in sort function\",arr)\n",
    "    if len(arr) == 1:\n",
    "        return \n",
    "    alpha = arr.pop(-1)\n",
    "    print(alpha,\" alpha poped in array in sort function\")\n",
    "    print(\"Array \",arr,\"Alpha value \", alpha,\" in insert function\")\n",
    "    sort(arr)\n",
    "    insert(arr,alpha)  "
   ]
  },
  {
   "cell_type": "code",
   "execution_count": 42,
   "id": "8d97e208",
   "metadata": {},
   "outputs": [
    {
     "name": "stdout",
     "output_type": "stream",
     "text": [
      "Array in sort function [1, 0, 3, 8, 2, 5]\n",
      "5  alpha poped in array in sort function\n",
      "Array  [1, 0, 3, 8, 2] Alpha value  5  in insert function\n",
      "Array in sort function [1, 0, 3, 8, 2]\n",
      "2  alpha poped in array in sort function\n",
      "Array  [1, 0, 3, 8] Alpha value  2  in insert function\n",
      "Array in sort function [1, 0, 3, 8]\n",
      "8  alpha poped in array in sort function\n",
      "Array  [1, 0, 3] Alpha value  8  in insert function\n",
      "Array in sort function [1, 0, 3]\n",
      "3  alpha poped in array in sort function\n",
      "Array  [1, 0] Alpha value  3  in insert function\n",
      "Array in sort function [1, 0]\n",
      "0  alpha poped in array in sort function\n",
      "Array  [1] Alpha value  0  in insert function\n",
      "Array in sort function [1]\n",
      "Array [1] alpha value 0  in insert function\n",
      "1 val poped in array in insert function\n",
      "Array [] alpha value 0  in insert function\n",
      "alpha added in array in insert function 0\n",
      "1 val added in array in insert function\n",
      "Array [0, 1] alpha value 3  in insert function\n",
      "alpha added in array in insert function 3\n",
      "Array [0, 1, 3] alpha value 8  in insert function\n",
      "alpha added in array in insert function 8\n",
      "Array [0, 1, 3, 8] alpha value 2  in insert function\n",
      "8 val poped in array in insert function\n",
      "Array [0, 1, 3] alpha value 2  in insert function\n",
      "3 val poped in array in insert function\n",
      "Array [0, 1] alpha value 2  in insert function\n",
      "alpha added in array in insert function 2\n",
      "3 val added in array in insert function\n",
      "8 val added in array in insert function\n",
      "Array [0, 1, 2, 3, 8] alpha value 5  in insert function\n",
      "8 val poped in array in insert function\n",
      "Array [0, 1, 2, 3] alpha value 5  in insert function\n",
      "alpha added in array in insert function 5\n",
      "8 val added in array in insert function\n"
     ]
    },
    {
     "data": {
      "text/plain": [
       "[0, 1, 2, 3, 5, 8]"
      ]
     },
     "execution_count": 42,
     "metadata": {},
     "output_type": "execute_result"
    }
   ],
   "source": [
    "arr = [1,0,3,8,2,5]\n",
    "sort(arr)\n",
    "arr"
   ]
  },
  {
   "cell_type": "code",
   "execution_count": 43,
   "id": "5501afbc",
   "metadata": {},
   "outputs": [],
   "source": [
    "def toH(source,dest,hel,n):\n",
    "    if n == 1:\n",
    "        print(\"Plate \",n ,\" from \",source,\" to \",dest)\n",
    "        return\n",
    "    toH(source,hel,dest,n-1)\n",
    "    print(\"Plate \",n ,\" from \",source,\" to \",dest)\n",
    "    toH(hel,dest,source,n-1)"
   ]
  },
  {
   "cell_type": "code",
   "execution_count": 44,
   "id": "e4739fe3",
   "metadata": {},
   "outputs": [
    {
     "name": "stdout",
     "output_type": "stream",
     "text": [
      "Plate  1  from  s  to  d\n",
      "Plate  2  from  s  to  h\n",
      "Plate  1  from  d  to  h\n",
      "Plate  3  from  s  to  d\n",
      "Plate  1  from  h  to  s\n",
      "Plate  2  from  h  to  d\n",
      "Plate  1  from  s  to  d\n"
     ]
    }
   ],
   "source": [
    "toH(\"s\",\"d\",\"h\",3)"
   ]
  },
  {
   "cell_type": "code",
   "execution_count": 50,
   "id": "dc4c489f",
   "metadata": {},
   "outputs": [],
   "source": [
    "def subSetOfString(ip,op):\n",
    "    if len(ip) == 0:\n",
    "        print(\"String \",op)\n",
    "        return \n",
    "    subSetOfString(ip[1:],op+ip[0])\n",
    "    subSetOfString(ip[1:],op)"
   ]
  },
  {
   "cell_type": "code",
   "execution_count": 53,
   "id": "8c41cb98",
   "metadata": {},
   "outputs": [
    {
     "name": "stdout",
     "output_type": "stream",
     "text": [
      "String  abc\n",
      "String  ab\n",
      "String  ac\n",
      "String  a\n",
      "String  bc\n",
      "String  b\n",
      "String  c\n",
      "String  \n"
     ]
    }
   ],
   "source": [
    "ip = \"abc\"\n",
    "op = \"\"\n",
    "subSetOfString(ip,op)"
   ]
  },
  {
   "cell_type": "code",
   "execution_count": 54,
   "id": "9aa92ee0",
   "metadata": {},
   "outputs": [],
   "source": [
    "def subsetOfUniqueStr(ip,op):\n",
    "    if len(ip) == 0:\n",
    "        hash_map[op] = 1\n",
    "        return\n",
    "    subsetOfUniqueStr(ip[1:],op+ip[0])\n",
    "    subsetOfUniqueStr(ip[1:],op)"
   ]
  },
  {
   "cell_type": "code",
   "execution_count": 58,
   "id": "bbfe47bb",
   "metadata": {},
   "outputs": [
    {
     "data": {
      "text/plain": [
       "['abb', 'ab', 'a', 'bb', 'b', '']"
      ]
     },
     "execution_count": 58,
     "metadata": {},
     "output_type": "execute_result"
    }
   ],
   "source": [
    "hash_map = {}\n",
    "ip = \"abb\"\n",
    "op = \"\"\n",
    "subsetOfUniqueStr(ip,op)\n",
    "list(hash_map.keys())"
   ]
  },
  {
   "cell_type": "code",
   "execution_count": 59,
   "id": "33d99657",
   "metadata": {},
   "outputs": [],
   "source": [
    "def permutationWithSpaces(ip,op):\n",
    "    if len(ip) == 0:\n",
    "        print(op)\n",
    "        return \n",
    "    permutationWithSpaces(ip[1:],op+\" \"+ip[0])\n",
    "    permutationWithSpaces(ip[1:],op+ip[0])"
   ]
  },
  {
   "cell_type": "code",
   "execution_count": 61,
   "id": "e0484b50",
   "metadata": {},
   "outputs": [
    {
     "name": "stdout",
     "output_type": "stream",
     "text": [
      "a b c\n",
      "a bc\n",
      "ab c\n",
      "abc\n"
     ]
    }
   ],
   "source": [
    "ip = \"abc\"\n",
    "op = \"\"\n",
    "permutationWithSpaces(ip[1:],ip[0])"
   ]
  },
  {
   "cell_type": "code",
   "execution_count": 62,
   "id": "7abf43d8",
   "metadata": {},
   "outputs": [],
   "source": [
    "def permutationWithChange(ip,op):\n",
    "    if len(ip) == 0:\n",
    "        print(op)\n",
    "        return\n",
    "    permutationWithChange(ip[1:],op+ip[0].upper())\n",
    "    permutationWithChange(ip[1:],op+ip[0])"
   ]
  },
  {
   "cell_type": "code",
   "execution_count": 63,
   "id": "77361756",
   "metadata": {},
   "outputs": [
    {
     "name": "stdout",
     "output_type": "stream",
     "text": [
      "AB\n",
      "Ab\n",
      "aB\n",
      "ab\n"
     ]
    }
   ],
   "source": [
    "ip = \"ab\"\n",
    "op = \"\"\n",
    "permutationWithChange(ip,op)"
   ]
  },
  {
   "cell_type": "code",
   "execution_count": 64,
   "id": "b8ea7e2f",
   "metadata": {},
   "outputs": [],
   "source": [
    "def powerOfTwo(n):\n",
    "    if n==0:\n",
    "        return 1\n",
    "    else:\n",
    "        return 2*powerOfTwo(n-1)"
   ]
  },
  {
   "cell_type": "code",
   "execution_count": 70,
   "id": "d133e691",
   "metadata": {},
   "outputs": [
    {
     "data": {
      "text/plain": [
       "32"
      ]
     },
     "execution_count": 70,
     "metadata": {},
     "output_type": "execute_result"
    }
   ],
   "source": [
    "powerOfTwo(5)"
   ]
  },
  {
   "cell_type": "code",
   "execution_count": 74,
   "id": "adc2940a",
   "metadata": {},
   "outputs": [],
   "source": [
    "def poerOfTwo(n):\n",
    "    op = 2\n",
    "    for i in range(1,n+1):\n",
    "        op = op**i\n",
    "    return op    "
   ]
  },
  {
   "cell_type": "code",
   "execution_count": 77,
   "id": "572daf6e",
   "metadata": {},
   "outputs": [
    {
     "data": {
      "text/plain": [
       "1"
      ]
     },
     "execution_count": 77,
     "metadata": {},
     "output_type": "execute_result"
    }
   ],
   "source": [
    "powerOfTwo(0)"
   ]
  },
  {
   "cell_type": "code",
   "execution_count": 88,
   "id": "964799c7",
   "metadata": {},
   "outputs": [],
   "source": [
    "def reverseN(n):\n",
    "    if n<10:\n",
    "        print(n)\n",
    "        return\n",
    "    print(n%10)\n",
    "    reverseN(n//10)"
   ]
  },
  {
   "cell_type": "code",
   "execution_count": 92,
   "id": "adc800c2",
   "metadata": {},
   "outputs": [
    {
     "name": "stdout",
     "output_type": "stream",
     "text": [
      "5\n",
      "4\n",
      "3\n",
      "2\n",
      "1\n"
     ]
    }
   ],
   "source": [
    "reverseN(12345)"
   ]
  },
  {
   "cell_type": "code",
   "execution_count": 104,
   "id": "72ff8dbb",
   "metadata": {},
   "outputs": [],
   "source": [
    "def reverseN(n):\n",
    "    global op\n",
    "    if n<10:\n",
    "        op = op*10+n\n",
    "        return\n",
    "    op = op*10+n%10\n",
    "    reverseN(n//10)"
   ]
  },
  {
   "cell_type": "code",
   "execution_count": 105,
   "id": "173fa298",
   "metadata": {},
   "outputs": [
    {
     "data": {
      "text/plain": [
       "4321"
      ]
     },
     "execution_count": 105,
     "metadata": {},
     "output_type": "execute_result"
    }
   ],
   "source": [
    "op = 0\n",
    "reverseN(1234)\n",
    "op"
   ]
  },
  {
   "cell_type": "code",
   "execution_count": 108,
   "id": "884b854a",
   "metadata": {},
   "outputs": [],
   "source": [
    "def letterCasePermutation(ip,op):\n",
    "    if len(ip) == 0:\n",
    "        print(op)\n",
    "        return\n",
    "    \n",
    "    if ip[0] in \"1234567890\":\n",
    "        letterCasePermutation(ip[1:],op+ip[0])\n",
    "    else:\n",
    "        letterCasePermutation(ip[1:],op+ip[0])\n",
    "        letterCasePermutation(ip[1:],op+ip[0].upper())"
   ]
  },
  {
   "cell_type": "code",
   "execution_count": 109,
   "id": "eb2c1aa0",
   "metadata": {},
   "outputs": [
    {
     "name": "stdout",
     "output_type": "stream",
     "text": [
      "a1b2\n",
      "a1B2\n",
      "A1b2\n",
      "A1B2\n"
     ]
    }
   ],
   "source": [
    "ip = \"a1b2\"\n",
    "op = ''\n",
    "letterCasePermutation(ip,op)"
   ]
  },
  {
   "cell_type": "code",
   "execution_count": 113,
   "id": "4fe5ba24",
   "metadata": {},
   "outputs": [],
   "source": [
    "def palindrome(n):\n",
    "    global op\n",
    "    if n<10:\n",
    "        op=op*10+n%10\n",
    "        return\n",
    "    op = op*10+n%10\n",
    "    palindrome(n//10)\n",
    "    if op == n:\n",
    "        return True\n",
    "    else:\n",
    "        return False"
   ]
  },
  {
   "cell_type": "code",
   "execution_count": 120,
   "id": "904f6fce",
   "metadata": {},
   "outputs": [
    {
     "data": {
      "text/plain": [
       "True"
      ]
     },
     "execution_count": 120,
     "metadata": {},
     "output_type": "execute_result"
    }
   ],
   "source": [
    "op = 0\n",
    "n = 369\n",
    "palindrome(3663)"
   ]
  },
  {
   "cell_type": "code",
   "execution_count": 124,
   "id": "52488709",
   "metadata": {},
   "outputs": [],
   "source": [
    "def lengthOfNumber(n):\n",
    "    global lOfN\n",
    "    if n<10:\n",
    "        lOfN = lOfN+1\n",
    "        return\n",
    "    lOfN = lOfN+1\n",
    "    lengthOfNumber(n//10)\n",
    "\n",
    "def isArmstrong(n,lOfN):\n",
    "    global val\n",
    "    if n<10:\n",
    "        val = val+(n%10)**lOfN\n",
    "        return\n",
    "    val = val+(n%10)**lOfN\n",
    "    isArmstrong(n//10,lOfN)\n",
    "    if n == val:\n",
    "        return True\n",
    "    else:\n",
    "        return False"
   ]
  },
  {
   "cell_type": "code",
   "execution_count": 130,
   "id": "314c26aa",
   "metadata": {},
   "outputs": [
    {
     "name": "stdout",
     "output_type": "stream",
     "text": [
      "Length of  8208  is:  4\n"
     ]
    },
    {
     "data": {
      "text/plain": [
       "True"
      ]
     },
     "execution_count": 130,
     "metadata": {},
     "output_type": "execute_result"
    }
   ],
   "source": [
    "lOfN = 0\n",
    "val = 0\n",
    "n = 8208\n",
    "lengthOfNumber(n)\n",
    "print(\"Length of \",n,\" is: \",lOfN)\n",
    "isArmstrong(n,lOfN)"
   ]
  },
  {
   "cell_type": "code",
   "execution_count": null,
   "id": "00e283fb",
   "metadata": {},
   "outputs": [],
   "source": []
  }
 ],
 "metadata": {
  "kernelspec": {
   "display_name": "Python 3",
   "language": "python",
   "name": "python3"
  },
  "language_info": {
   "codemirror_mode": {
    "name": "ipython",
    "version": 3
   },
   "file_extension": ".py",
   "mimetype": "text/x-python",
   "name": "python",
   "nbconvert_exporter": "python",
   "pygments_lexer": "ipython3",
   "version": "3.8.8"
  }
 },
 "nbformat": 4,
 "nbformat_minor": 5
}
