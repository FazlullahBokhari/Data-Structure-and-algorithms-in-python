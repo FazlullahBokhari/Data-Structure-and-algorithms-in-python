{
 "cells": [
  {
   "cell_type": "code",
   "execution_count": 1,
   "id": "2842ac1f",
   "metadata": {},
   "outputs": [],
   "source": [
    "def isPrime(n):\n",
    "    if n<=1:\n",
    "        return False\n",
    "    for i in range(2,n):\n",
    "        if n%i==0:\n",
    "            return False\n",
    "    return True    "
   ]
  },
  {
   "cell_type": "code",
   "execution_count": 2,
   "id": "9c496e02",
   "metadata": {},
   "outputs": [
    {
     "data": {
      "text/plain": [
       "True"
      ]
     },
     "execution_count": 2,
     "metadata": {},
     "output_type": "execute_result"
    }
   ],
   "source": [
    "isPrime(7)"
   ]
  },
  {
   "cell_type": "code",
   "execution_count": 3,
   "id": "e49c94cc",
   "metadata": {},
   "outputs": [
    {
     "data": {
      "text/plain": [
       "False"
      ]
     },
     "execution_count": 3,
     "metadata": {},
     "output_type": "execute_result"
    }
   ],
   "source": [
    "isPrime(4)"
   ]
  },
  {
   "cell_type": "code",
   "execution_count": 4,
   "id": "84ef5aa2",
   "metadata": {},
   "outputs": [],
   "source": [
    "def isPrime(n):\n",
    "    if n<=1:\n",
    "        return False\n",
    "    for i in range(2,n//2+1):\n",
    "        if n%i==0:\n",
    "            return False\n",
    "    return True    "
   ]
  },
  {
   "cell_type": "code",
   "execution_count": 5,
   "id": "790f13c1",
   "metadata": {},
   "outputs": [
    {
     "data": {
      "text/plain": [
       "False"
      ]
     },
     "execution_count": 5,
     "metadata": {},
     "output_type": "execute_result"
    }
   ],
   "source": [
    "isPrime(8)"
   ]
  },
  {
   "cell_type": "code",
   "execution_count": 6,
   "id": "16e98580",
   "metadata": {},
   "outputs": [
    {
     "data": {
      "text/plain": [
       "True"
      ]
     },
     "execution_count": 6,
     "metadata": {},
     "output_type": "execute_result"
    }
   ],
   "source": [
    "isPrime(37)"
   ]
  },
  {
   "cell_type": "code",
   "execution_count": 7,
   "id": "635cd48d",
   "metadata": {},
   "outputs": [],
   "source": [
    "import math\n",
    "def isPrime(n):\n",
    "    if n<=1:\n",
    "        return False\n",
    "    for i in range(2,int(math.sqrt(n))+1):\n",
    "        if n%i==0:\n",
    "            return False\n",
    "    return True    "
   ]
  },
  {
   "cell_type": "code",
   "execution_count": 8,
   "id": "661b6d0a",
   "metadata": {},
   "outputs": [
    {
     "data": {
      "text/plain": [
       "True"
      ]
     },
     "execution_count": 8,
     "metadata": {},
     "output_type": "execute_result"
    }
   ],
   "source": [
    "isPrime(37)"
   ]
  },
  {
   "cell_type": "code",
   "execution_count": 9,
   "id": "cc4ba6de",
   "metadata": {},
   "outputs": [
    {
     "data": {
      "text/plain": [
       "False"
      ]
     },
     "execution_count": 9,
     "metadata": {},
     "output_type": "execute_result"
    }
   ],
   "source": [
    "isPrime(16)"
   ]
  },
  {
   "cell_type": "code",
   "execution_count": 10,
   "id": "819f0838",
   "metadata": {},
   "outputs": [],
   "source": [
    "def factorF(n):\n",
    "    factors = []\n",
    "    if n<=0:\n",
    "        return False\n",
    "    for i in range(1,n+1):\n",
    "        if n%i==0:\n",
    "            factors.append(i)\n",
    "    return factors        "
   ]
  },
  {
   "cell_type": "code",
   "execution_count": 11,
   "id": "a59bb05b",
   "metadata": {},
   "outputs": [
    {
     "data": {
      "text/plain": [
       "[1, 2, 3, 6, 9, 18]"
      ]
     },
     "execution_count": 11,
     "metadata": {},
     "output_type": "execute_result"
    }
   ],
   "source": [
    "factorF(18)"
   ]
  },
  {
   "cell_type": "code",
   "execution_count": 12,
   "id": "7aa02d94",
   "metadata": {},
   "outputs": [],
   "source": [
    "def factorW(n):\n",
    "    factors = []\n",
    "    i = 1\n",
    "    while i<=n:\n",
    "        if n%i==0:\n",
    "            factors.append(i)\n",
    "        i +=1\n",
    "    return factors"
   ]
  },
  {
   "cell_type": "code",
   "execution_count": 13,
   "id": "0c0c2218",
   "metadata": {},
   "outputs": [
    {
     "data": {
      "text/plain": [
       "[1, 2, 7, 14]"
      ]
     },
     "execution_count": 13,
     "metadata": {},
     "output_type": "execute_result"
    }
   ],
   "source": [
    "factorW(14)"
   ]
  },
  {
   "cell_type": "code",
   "execution_count": 14,
   "id": "f6ce3916",
   "metadata": {},
   "outputs": [],
   "source": [
    "import math as m\n",
    "def factorW2(n):\n",
    "    factors_list1 = []\n",
    "    factors_list2 = []\n",
    "    i = 1\n",
    "    while i<=m.sqrt(n):\n",
    "        if n%i==0:\n",
    "            if n/i == i:\n",
    "                factors_list1.append(i)\n",
    "            else:    \n",
    "                factors_list1.append(i)\n",
    "                factors_list2.append(n//i)\n",
    "        i +=1\n",
    "    factors_list2.reverse()\n",
    "    factors_list1.extend(factors_list2)\n",
    "    return factors_list1"
   ]
  },
  {
   "cell_type": "code",
   "execution_count": 15,
   "id": "85757d19",
   "metadata": {},
   "outputs": [
    {
     "data": {
      "text/plain": [
       "[1, 2, 4, 5, 10, 20, 25, 50, 100]"
      ]
     },
     "execution_count": 15,
     "metadata": {},
     "output_type": "execute_result"
    }
   ],
   "source": [
    "factorW2(100)"
   ]
  },
  {
   "cell_type": "code",
   "execution_count": 16,
   "id": "190d26f2",
   "metadata": {},
   "outputs": [],
   "source": [
    "import math as m\n",
    "def primeFactors(n):\n",
    "    factors = []\n",
    "    while n%2==0:\n",
    "        factors.append(2)\n",
    "        n = n//2\n",
    "    for i in range(3,int(m.sqrt(n)+1),2):\n",
    "        while n%i == 0:\n",
    "            factors.append(i)\n",
    "            n = n//i\n",
    "    if n>2:\n",
    "        factors.append(n)\n",
    "    return factors    "
   ]
  },
  {
   "cell_type": "code",
   "execution_count": 17,
   "id": "8936fbd6",
   "metadata": {},
   "outputs": [
    {
     "data": {
      "text/plain": [
       "[2, 2, 7]"
      ]
     },
     "execution_count": 17,
     "metadata": {},
     "output_type": "execute_result"
    }
   ],
   "source": [
    "primeFactors(28)"
   ]
  },
  {
   "cell_type": "code",
   "execution_count": 18,
   "id": "1de162ef",
   "metadata": {},
   "outputs": [],
   "source": [
    "def gcd1(a,b):\n",
    "    f1 = primeFactors(a)\n",
    "    f2 = primeFactors(b)\n",
    "    f1_count = {}\n",
    "    f2_count = {}\n",
    "    for i in f1:\n",
    "        if i in f1_count:\n",
    "            f1_count[i] = f1_count[i]+1\n",
    "        else:\n",
    "            f1_count[i] = 1\n",
    "    for i in f2:\n",
    "        if i in f2_count:\n",
    "            f2_count[i] = f2_count[i]+1\n",
    "        else:\n",
    "            f2_count[i] = 1  \n",
    "    gcd_val = 1\n",
    "    for i in list(set(f1+f2)):\n",
    "        if i in f1_count and i in f2_count:\n",
    "            gcd_val = gcd_val*i*min(f1_count[i], f2_count[i])\n",
    "    return gcd_val        "
   ]
  },
  {
   "cell_type": "code",
   "execution_count": 19,
   "id": "584a7106",
   "metadata": {},
   "outputs": [
    {
     "data": {
      "text/plain": [
       "4"
      ]
     },
     "execution_count": 19,
     "metadata": {},
     "output_type": "execute_result"
    }
   ],
   "source": [
    "gcd1(20,28)"
   ]
  },
  {
   "cell_type": "code",
   "execution_count": 20,
   "id": "0ac82f42",
   "metadata": {},
   "outputs": [],
   "source": [
    "def gcd2(a,b):\n",
    "    if a==0:\n",
    "        return b\n",
    "    if b==0:\n",
    "        return a\n",
    "    if a==b:\n",
    "        return a\n",
    "    if a>b:\n",
    "        return gcd2(a-b,b)\n",
    "    return gcd2(a,b-a)"
   ]
  },
  {
   "cell_type": "code",
   "execution_count": 21,
   "id": "dc256d96",
   "metadata": {},
   "outputs": [
    {
     "data": {
      "text/plain": [
       "4"
      ]
     },
     "execution_count": 21,
     "metadata": {},
     "output_type": "execute_result"
    }
   ],
   "source": [
    "gcd2(20,28)"
   ]
  },
  {
   "cell_type": "code",
   "execution_count": 22,
   "id": "4197f246",
   "metadata": {},
   "outputs": [],
   "source": [
    "def gcd3(a,b):\n",
    "    if b==0:\n",
    "        return a\n",
    "    return gcd3(b,a%b)"
   ]
  },
  {
   "cell_type": "code",
   "execution_count": 23,
   "id": "24eab857",
   "metadata": {},
   "outputs": [
    {
     "data": {
      "text/plain": [
       "4"
      ]
     },
     "execution_count": 23,
     "metadata": {},
     "output_type": "execute_result"
    }
   ],
   "source": [
    "gcd3(20,28)"
   ]
  },
  {
   "cell_type": "code",
   "execution_count": 24,
   "id": "2eae31fc",
   "metadata": {},
   "outputs": [],
   "source": [
    "def lcm1(a,b):\n",
    "    f1 = primeFactors(a)\n",
    "    f2 = primeFactors(b)\n",
    "    f1_count = {}\n",
    "    f2_count = {}\n",
    "    for i in f1:\n",
    "        if i in f1_count:\n",
    "            f1_count[i]=f1_count[i]+1 \n",
    "        else:\n",
    "            f1_count[i] = 1 \n",
    "    for i in f2:\n",
    "        if i in f2_count:\n",
    "            f2_count[i]=f2_count[i]+1 \n",
    "        else:\n",
    "            f2_count[i] = 1 \n",
    "    lcm_val = 1\n",
    "    print(f1_count,f2_count)\n",
    "    \n",
    "    for i in list(set(f1+f2)):\n",
    "        if i in f1_count and i in f2_count:\n",
    "            if f1_count[i]>f2_count[i]:\n",
    "                alpha = f2_count[i]+(f1_count[i]-f2_count[i])\n",
    "            else:\n",
    "                alpha = f1_count[i]+(f2_count[i]-f1_count[i])\n",
    "        elif i in f1_count:\n",
    "            alpha = f1_count[i]\n",
    "        else:\n",
    "            alpha = f2_count[i]\n",
    "            \n",
    "        lcm_val = lcm_val*i*alpha\n",
    "    return lcm_val            "
   ]
  },
  {
   "cell_type": "code",
   "execution_count": 25,
   "id": "5fa16ed5",
   "metadata": {},
   "outputs": [
    {
     "name": "stdout",
     "output_type": "stream",
     "text": [
      "{2: 2, 5: 1} {3: 1, 5: 1}\n"
     ]
    },
    {
     "data": {
      "text/plain": [
       "60"
      ]
     },
     "execution_count": 25,
     "metadata": {},
     "output_type": "execute_result"
    }
   ],
   "source": [
    "lcm1(20,15)"
   ]
  },
  {
   "cell_type": "code",
   "execution_count": 26,
   "id": "72497108",
   "metadata": {},
   "outputs": [],
   "source": [
    "def lcm2(a,b):\n",
    "    return a*b//gcd3(a,b)"
   ]
  },
  {
   "cell_type": "code",
   "execution_count": 27,
   "id": "e8ac9bdf",
   "metadata": {},
   "outputs": [
    {
     "data": {
      "text/plain": [
       "60"
      ]
     },
     "execution_count": 27,
     "metadata": {},
     "output_type": "execute_result"
    }
   ],
   "source": [
    "lcm2(20,15)"
   ]
  },
  {
   "cell_type": "code",
   "execution_count": 28,
   "id": "7d48a0dc",
   "metadata": {},
   "outputs": [],
   "source": [
    "def fact(n):\n",
    "    fac = 1\n",
    "    for i in range(1,n+1):\n",
    "        fac = i*fac\n",
    "    return fac    "
   ]
  },
  {
   "cell_type": "code",
   "execution_count": 29,
   "id": "bb83dd46",
   "metadata": {},
   "outputs": [
    {
     "data": {
      "text/plain": [
       "120"
      ]
     },
     "execution_count": 29,
     "metadata": {},
     "output_type": "execute_result"
    }
   ],
   "source": [
    "fact(5)"
   ]
  },
  {
   "cell_type": "code",
   "execution_count": 30,
   "id": "34201a75",
   "metadata": {},
   "outputs": [],
   "source": [
    "def trailingZeros(n):\n",
    "    fact = 1\n",
    "    for i in range(1,n+1):\n",
    "        fact = i*fact\n",
    "    print(fact)    \n",
    "    count = 0\n",
    "    while 1:\n",
    "        rem = fact%10\n",
    "        if rem != 0:\n",
    "            break\n",
    "        fact = fact//10\n",
    "        count = count + 1\n",
    "    return count    "
   ]
  },
  {
   "cell_type": "code",
   "execution_count": 31,
   "id": "8d72f0f1",
   "metadata": {},
   "outputs": [
    {
     "name": "stdout",
     "output_type": "stream",
     "text": [
      "3628800\n"
     ]
    },
    {
     "data": {
      "text/plain": [
       "2"
      ]
     },
     "execution_count": 31,
     "metadata": {},
     "output_type": "execute_result"
    }
   ],
   "source": [
    "trailingZeros(10)"
   ]
  },
  {
   "cell_type": "code",
   "execution_count": 32,
   "id": "766a03bd",
   "metadata": {},
   "outputs": [],
   "source": [
    "def trailingZeros2(n):\n",
    "    fact = 1\n",
    "    for i in range(1,n+1):\n",
    "        fact = i*fact\n",
    "    print(fact)    \n",
    "    count2 = 0\n",
    "    count5 = 0\n",
    "    f = fact\n",
    "    while fact%2==0:\n",
    "        count2 = count2 + 1\n",
    "        fact = fact//2\n",
    "    while fact%5==0:\n",
    "        count5 = count5 + 1\n",
    "        fact = fact//5   \n",
    "    return min(count2,count5)    "
   ]
  },
  {
   "cell_type": "code",
   "execution_count": 33,
   "id": "87aeca22",
   "metadata": {},
   "outputs": [
    {
     "name": "stdout",
     "output_type": "stream",
     "text": [
      "93326215443944152681699238856266700490715968264381621468592963895217599993229915608941463976156518286253697920827223758251185210916864000000000000000000000000\n"
     ]
    },
    {
     "data": {
      "text/plain": [
       "24"
      ]
     },
     "execution_count": 33,
     "metadata": {},
     "output_type": "execute_result"
    }
   ],
   "source": [
    "trailingZeros2(100)"
   ]
  },
  {
   "cell_type": "code",
   "execution_count": 34,
   "id": "1d6db635",
   "metadata": {},
   "outputs": [],
   "source": [
    "def trailingZeros3(n):\n",
    "    count2 = 0\n",
    "    count5 = 0\n",
    "    for i in range(1,n+1):\n",
    "        f = i\n",
    "        while i%2==0:\n",
    "            count2 = count2 + 1\n",
    "            i = i//2\n",
    "        while i%5==0:\n",
    "            count5 = count5 + 1\n",
    "            i = i//5   \n",
    "    return min(count2,count5)    "
   ]
  },
  {
   "cell_type": "code",
   "execution_count": 35,
   "id": "fca47bbc",
   "metadata": {},
   "outputs": [
    {
     "data": {
      "text/plain": [
       "24"
      ]
     },
     "execution_count": 35,
     "metadata": {},
     "output_type": "execute_result"
    }
   ],
   "source": [
    "trailingZeros3(100)"
   ]
  },
  {
   "cell_type": "code",
   "execution_count": 36,
   "id": "c5408a50",
   "metadata": {},
   "outputs": [],
   "source": [
    "def trailingZeros4(n):\n",
    "    if n<0:\n",
    "        return -1\n",
    "    count = 0\n",
    "    while n>=5:\n",
    "        n//=5\n",
    "        count+=n\n",
    "    return count    "
   ]
  },
  {
   "cell_type": "code",
   "execution_count": 37,
   "id": "55ae1ff9",
   "metadata": {},
   "outputs": [
    {
     "data": {
      "text/plain": [
       "24"
      ]
     },
     "execution_count": 37,
     "metadata": {},
     "output_type": "execute_result"
    }
   ],
   "source": [
    "trailingZeros4(100)"
   ]
  },
  {
   "cell_type": "code",
   "execution_count": 59,
   "id": "6e27486a",
   "metadata": {},
   "outputs": [],
   "source": [
    "def search(mat,target):\n",
    "    n=len(mat)\n",
    "    m = len(mat[0])\n",
    "    for i in range(n):\n",
    "        for j in range(m):\n",
    "            if mat[i][j] == target:\n",
    "                return [i,j]\n",
    "    return -1        "
   ]
  },
  {
   "cell_type": "code",
   "execution_count": 60,
   "id": "83a2f598",
   "metadata": {},
   "outputs": [
    {
     "data": {
      "text/plain": [
       "[1, 1]"
      ]
     },
     "execution_count": 60,
     "metadata": {},
     "output_type": "execute_result"
    }
   ],
   "source": [
    "mat = [\n",
    "       [1,2,3],\n",
    "       [4,5,6],\n",
    "       [7,8,9]\n",
    "]\n",
    "target = 5\n",
    "search(mat,target)"
   ]
  },
  {
   "cell_type": "code",
   "execution_count": 64,
   "id": "437573d1",
   "metadata": {},
   "outputs": [],
   "source": [
    "def binarySearch(arr,ele,start,end):\n",
    "    ind = -1\n",
    "    while start <= end : \n",
    "        mid = start + (end-start)//2\n",
    "        if arr[mid] == ele:\n",
    "            ind = mid\n",
    "            break\n",
    "        elif ele<arr[mid]:\n",
    "            end = mid-1\n",
    "        else:\n",
    "            start = mid+1\n",
    "    return ind        "
   ]
  },
  {
   "cell_type": "code",
   "execution_count": 66,
   "id": "52b7e2e8",
   "metadata": {},
   "outputs": [
    {
     "data": {
      "text/plain": [
       "6"
      ]
     },
     "execution_count": 66,
     "metadata": {},
     "output_type": "execute_result"
    }
   ],
   "source": [
    "arr = [1,2,3,4,5,9,14]\n",
    "ele = 14\n",
    "start = 0\n",
    "end = len(arr)-1\n",
    "binarySearch(arr,ele,start,end)"
   ]
  },
  {
   "cell_type": "code",
   "execution_count": 67,
   "id": "8b474d3b",
   "metadata": {},
   "outputs": [],
   "source": [
    "def search2(mat,target):\n",
    "    for i in range(len(mat)):\n",
    "        ind = binarySearch(mat[i],target,0,len(mat[i])-1)\n",
    "        if ind != -1:\n",
    "            return [i,ind]\n",
    "    return -1        "
   ]
  },
  {
   "cell_type": "code",
   "execution_count": 70,
   "id": "c4ce436b",
   "metadata": {},
   "outputs": [
    {
     "data": {
      "text/plain": [
       "[1, 1]"
      ]
     },
     "execution_count": 70,
     "metadata": {},
     "output_type": "execute_result"
    }
   ],
   "source": [
    "mat = [\n",
    "       [1,2,3],\n",
    "       [4,5,6],\n",
    "       [7,8,9]\n",
    "]\n",
    "target = 5\n",
    "search2(mat,target)"
   ]
  },
  {
   "cell_type": "code",
   "execution_count": 73,
   "id": "774a2330",
   "metadata": {},
   "outputs": [],
   "source": [
    "def search3(mat,target):\n",
    "    n = len(mat)\n",
    "    m = len(mat[0])\n",
    "    i = 0\n",
    "    j = m-1\n",
    "    \n",
    "    while i<n and j>=0:\n",
    "        if mat[i][j] == target:\n",
    "            return [i,j]\n",
    "        elif mat[i][j]>target:\n",
    "            j = j-1\n",
    "        else:\n",
    "            i = i + 1\n",
    "    return -1        "
   ]
  },
  {
   "cell_type": "code",
   "execution_count": 78,
   "id": "b400c4a1",
   "metadata": {},
   "outputs": [
    {
     "data": {
      "text/plain": [
       "[0, 1]"
      ]
     },
     "execution_count": 78,
     "metadata": {},
     "output_type": "execute_result"
    }
   ],
   "source": [
    "mat = [\n",
    "       [1,2,3],\n",
    "       [4,5,6],\n",
    "       [7,8,9]\n",
    "]\n",
    "target = 2\n",
    "search3(mat,target)"
   ]
  },
  {
   "cell_type": "code",
   "execution_count": 93,
   "id": "0fb43b92",
   "metadata": {},
   "outputs": [],
   "source": [
    "def powerFun(x,n):\n",
    "    flag = False\n",
    "    if n<0:\n",
    "        n = n*-1\n",
    "        flag = True\n",
    "    ans = 1\n",
    "    for i in range(1,n+1):\n",
    "        ans = ans*x\n",
    "    if flag == True:\n",
    "        ans = 1/ans\n",
    "    return ans    "
   ]
  },
  {
   "cell_type": "code",
   "execution_count": 95,
   "id": "f27da97f",
   "metadata": {},
   "outputs": [
    {
     "data": {
      "text/plain": [
       "0.0016"
      ]
     },
     "execution_count": 95,
     "metadata": {},
     "output_type": "execute_result"
    }
   ],
   "source": [
    "x = 5\n",
    "n = -4\n",
    "powerFun(x,n)"
   ]
  },
  {
   "cell_type": "code",
   "execution_count": 102,
   "id": "de34eae3",
   "metadata": {},
   "outputs": [],
   "source": [
    "def powerFun2(x,n):\n",
    "    flag = False\n",
    "    if n<0:\n",
    "        n = n*-1\n",
    "        flag = True\n",
    "    ans = 1\n",
    "    while n>0:\n",
    "        if n%2==1:\n",
    "            ans = ans*x\n",
    "            n=n-1\n",
    "        else:\n",
    "            x = x*x\n",
    "            n = n//2\n",
    "    if flag == True:\n",
    "        ans = 1/ans        \n",
    "    return ans    "
   ]
  },
  {
   "cell_type": "code",
   "execution_count": 104,
   "id": "07af0185",
   "metadata": {},
   "outputs": [
    {
     "data": {
      "text/plain": [
       "0.0016"
      ]
     },
     "execution_count": 104,
     "metadata": {},
     "output_type": "execute_result"
    }
   ],
   "source": [
    "x = 5\n",
    "n = -4\n",
    "powerFun2(x,n)"
   ]
  },
  {
   "cell_type": "code",
   "execution_count": 18,
   "id": "ff4ae0d8",
   "metadata": {},
   "outputs": [],
   "source": [
    "def majority(arr):\n",
    "    count = {}\n",
    "    for i in arr:\n",
    "        if i in count:\n",
    "            count[i] = count[i]+1\n",
    "        else:\n",
    "            count[i] = 1\n",
    "    print(count)\n",
    "    ans = -1\n",
    "    item = -1\n",
    "    for key,value in count.items():\n",
    "        if value>ans:\n",
    "            ans = value\n",
    "            item = key\n",
    "    return item,ans     "
   ]
  },
  {
   "cell_type": "code",
   "execution_count": 19,
   "id": "9ce217a9",
   "metadata": {},
   "outputs": [
    {
     "name": "stdout",
     "output_type": "stream",
     "text": [
      "{1: 7, 2: 2, 3: 2, 4: 2}\n"
     ]
    },
    {
     "data": {
      "text/plain": [
       "(1, 7)"
      ]
     },
     "execution_count": 19,
     "metadata": {},
     "output_type": "execute_result"
    }
   ],
   "source": [
    "arr = [1,1,2,2,3,3,4,4,1,1,1,1,1]\n",
    "majority(arr)"
   ]
  },
  {
   "cell_type": "code",
   "execution_count": 20,
   "id": "24a9c314",
   "metadata": {},
   "outputs": [],
   "source": [
    "import math as m\n",
    "def majority2(arr):\n",
    "    for i in list(set(arr)):\n",
    "        c = 0\n",
    "        for j in arr:\n",
    "            if i == j:\n",
    "                c += 1\n",
    "                if c > m.floor(len(arr)/2):\n",
    "                    return i"
   ]
  },
  {
   "cell_type": "code",
   "execution_count": 21,
   "id": "93356ee9",
   "metadata": {},
   "outputs": [
    {
     "data": {
      "text/plain": [
       "1"
      ]
     },
     "execution_count": 21,
     "metadata": {},
     "output_type": "execute_result"
    }
   ],
   "source": [
    "arr = [1,1,2,2,3,3,4,4,1,1,1,1,1]\n",
    "majority2(arr)"
   ]
  },
  {
   "cell_type": "code",
   "execution_count": 22,
   "id": "ee6b1770",
   "metadata": {},
   "outputs": [],
   "source": [
    "import math as m\n",
    "def majority3(arr):\n",
    "    count = {}\n",
    "    for i in arr:\n",
    "        if i in count:\n",
    "            count[i] = count[i]+1\n",
    "            if count[i]>m.floor(len(arr)/2):\n",
    "                return i\n",
    "        else:\n",
    "            count[i] = 1"
   ]
  },
  {
   "cell_type": "code",
   "execution_count": 23,
   "id": "063c4db2",
   "metadata": {},
   "outputs": [
    {
     "data": {
      "text/plain": [
       "1"
      ]
     },
     "execution_count": 23,
     "metadata": {},
     "output_type": "execute_result"
    }
   ],
   "source": [
    "arr = [1,1,2,2,3,3,4,4,1,1,1,1,1]\n",
    "majority3(arr)"
   ]
  },
  {
   "cell_type": "code",
   "execution_count": 26,
   "id": "5e40c9b7",
   "metadata": {},
   "outputs": [],
   "source": [
    "def majority4(arr):\n",
    "    count = 0\n",
    "    ele = -1\n",
    "    for i in arr:\n",
    "        if count == 0:\n",
    "            ele = i\n",
    "        if ele == i:\n",
    "            count +=1\n",
    "        else:\n",
    "            count -= 1\n",
    "    return ele        "
   ]
  },
  {
   "cell_type": "code",
   "execution_count": 27,
   "id": "b866508e",
   "metadata": {},
   "outputs": [
    {
     "data": {
      "text/plain": [
       "1"
      ]
     },
     "execution_count": 27,
     "metadata": {},
     "output_type": "execute_result"
    }
   ],
   "source": [
    "arr = [1,1,2,2,3,3,4,4,1,1,1,1,1]\n",
    "majority4(arr)"
   ]
  },
  {
   "cell_type": "code",
   "execution_count": 33,
   "id": "28a83d74",
   "metadata": {},
   "outputs": [],
   "source": [
    "def uniquePath(i,j,x,y):\n",
    "    if i == x-1 and j == y-1:\n",
    "        return 1\n",
    "    elif i>=x or j>=y:\n",
    "        return 0\n",
    "    else:\n",
    "        return uniquePath(i+1,j,x,y)+uniquePath(i,j+1,x,y)"
   ]
  },
  {
   "cell_type": "code",
   "execution_count": 35,
   "id": "9bed7a5c",
   "metadata": {},
   "outputs": [
    {
     "data": {
      "text/plain": [
       "1"
      ]
     },
     "execution_count": 35,
     "metadata": {},
     "output_type": "execute_result"
    }
   ],
   "source": [
    "i,j = 1,1\n",
    "x,y = 2,3\n",
    "uniquePath(i,j,x,y)"
   ]
  },
  {
   "cell_type": "code",
   "execution_count": 47,
   "id": "4153b392",
   "metadata": {},
   "outputs": [],
   "source": [
    "def uniquePath2(i,j,x,y,dp):\n",
    "    if i == x-1 and j == y-1:\n",
    "        dp[i][j] = 1\n",
    "        return 1\n",
    "    elif i>=x or j>=y:\n",
    "        dp[i][j] = 0\n",
    "        return 0\n",
    "    else:\n",
    "        if dp[i+1][j] == -1:\n",
    "            alpha = uniquePath2(i+1,j,x,y,dp)\n",
    "        else:\n",
    "            alpha = dp[i+1][j]\n",
    "        if dp[i][j+1] == -1:\n",
    "            beta = uniquePath2(i,j+1,x,y,dp)\n",
    "        else:\n",
    "            beta = dp[i][j+1]    \n",
    "        return alpha+beta"
   ]
  },
  {
   "cell_type": "code",
   "execution_count": 48,
   "id": "2eb16b7e",
   "metadata": {},
   "outputs": [
    {
     "data": {
      "text/plain": [
       "3"
      ]
     },
     "execution_count": 48,
     "metadata": {},
     "output_type": "execute_result"
    }
   ],
   "source": [
    "i,j = 0,0\n",
    "x,y = 2,3\n",
    "dp = []\n",
    "for _ in range(x+1):\n",
    "    row = []\n",
    "    for __ in range(y+1):\n",
    "        row.append(-1)\n",
    "    dp.append(row)\n",
    "uniquePath2(i,j,x,y,dp)        "
   ]
  },
  {
   "cell_type": "code",
   "execution_count": 78,
   "id": "bec029b7",
   "metadata": {},
   "outputs": [
    {
     "data": {
      "text/plain": [
       "1"
      ]
     },
     "execution_count": 78,
     "metadata": {},
     "output_type": "execute_result"
    }
   ],
   "source": [
    "def fact(n):\n",
    "    res = 1\n",
    "    for i in range(1,n+1):\n",
    "        res = res*i\n",
    "    return res  \n",
    "\n",
    "def nCr(n,r):\n",
    "    return fact(n)//fact(r)*fact(n-r)\n",
    "def uniquePath3(i,j,x,y):\n",
    "    return nCr(x+y-2-,y-1)\n",
    "\n",
    "i,j = 1,1\n",
    "x,y = 2,3\n",
    "uniquePath3(i,j,x,y)"
   ]
  },
  {
   "cell_type": "code",
   "execution_count": 77,
   "id": "105dfb8d",
   "metadata": {},
   "outputs": [
    {
     "name": "stdout",
     "output_type": "stream",
     "text": [
      "3\n"
     ]
    }
   ],
   "source": [
    "def fact(n):\n",
    "    res = 1\n",
    "    for i in range(1,n+1):\n",
    "        res = res*i \n",
    "    return res \n",
    "\n",
    "def nCr(n,r):\n",
    "    return fact(n)// (fact(r)*fact(n-r))\n",
    "\n",
    "def uniquePaths3(i,j,x,y):\n",
    "    return nCr(x+y-2-i-j,y-1-j)\n",
    "\n",
    "i,j = 0,0\n",
    "x,y = 2,3\n",
    "paths = uniquePaths3(i,j,x,y)\n",
    "print(paths)"
   ]
  },
  {
   "cell_type": "code",
   "execution_count": null,
   "id": "0da45510",
   "metadata": {},
   "outputs": [],
   "source": []
  }
 ],
 "metadata": {
  "kernelspec": {
   "display_name": "Python 3",
   "language": "python",
   "name": "python3"
  },
  "language_info": {
   "codemirror_mode": {
    "name": "ipython",
    "version": 3
   },
   "file_extension": ".py",
   "mimetype": "text/x-python",
   "name": "python",
   "nbconvert_exporter": "python",
   "pygments_lexer": "ipython3",
   "version": "3.8.8"
  }
 },
 "nbformat": 4,
 "nbformat_minor": 5
}
