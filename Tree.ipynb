{
 "cells": [
  {
   "cell_type": "code",
   "execution_count": 100,
   "id": "579ef758",
   "metadata": {},
   "outputs": [],
   "source": [
    "class Node:\n",
    "    def __init__(self, data):\n",
    "        self.val = data\n",
    "        self.left = None\n",
    "        self.right = None"
   ]
  },
  {
   "cell_type": "code",
   "execution_count": 101,
   "id": "afe94ef5",
   "metadata": {},
   "outputs": [],
   "source": [
    "class Tree:\n",
    "    def __init__(self):\n",
    "        self.root = None        "
   ]
  },
  {
   "cell_type": "code",
   "execution_count": 102,
   "id": "732e7f6b",
   "metadata": {},
   "outputs": [
    {
     "name": "stdout",
     "output_type": "stream",
     "text": [
      "None\n"
     ]
    }
   ],
   "source": [
    "tree = Tree()\n",
    "print(tree.root)"
   ]
  },
  {
   "cell_type": "code",
   "execution_count": 103,
   "id": "11b57649",
   "metadata": {},
   "outputs": [],
   "source": [
    "class Node:\n",
    "    def __init__(self, data):\n",
    "        self.val = data\n",
    "        self.left = None\n",
    "        self.right = None"
   ]
  },
  {
   "cell_type": "code",
   "execution_count": 104,
   "id": "a8bc63d4",
   "metadata": {},
   "outputs": [],
   "source": [
    "class BinarySearchTree:\n",
    "    def __init__(self):\n",
    "        self.root = None \n",
    "        \n",
    "    def insert(self,data):\n",
    "        if self.root == None:\n",
    "            self.root = Node(data)\n",
    "        else:\n",
    "            cur = self.root\n",
    "            while 1:\n",
    "                if data<cur.val:\n",
    "                    if cur.left:\n",
    "                        cur = cur.left\n",
    "                    else:\n",
    "                        cur.left = Node(data)\n",
    "                        break\n",
    "                elif data>cur.val:\n",
    "                    if cur.right:\n",
    "                        cur = cur.right\n",
    "                    else:\n",
    "                        cur.right = Node(data)\n",
    "                        break"
   ]
  },
  {
   "cell_type": "code",
   "execution_count": 105,
   "id": "3b6916b3",
   "metadata": {},
   "outputs": [
    {
     "data": {
      "text/plain": [
       "6"
      ]
     },
     "execution_count": 105,
     "metadata": {},
     "output_type": "execute_result"
    }
   ],
   "source": [
    "binarySearchTree = BinarySearchTree()\n",
    "nodes = [6,8,7,9,4,3,5]\n",
    "for i in nodes:\n",
    "    binarySearchTree.insert(i)\n",
    "binarySearchTree.root.val    "
   ]
  },
  {
   "cell_type": "code",
   "execution_count": 106,
   "id": "92244f87",
   "metadata": {},
   "outputs": [
    {
     "name": "stdout",
     "output_type": "stream",
     "text": [
      "3 4 5 6 7 8 9\n"
     ]
    }
   ],
   "source": [
    "traversal3 = []                    \n",
    "def inorderR(root):\n",
    "    if root == None:\n",
    "        return None\n",
    "    inorderR(root.left)\n",
    "    traversal3.append(root.val)\n",
    "    inorderR(root.right)\n",
    "    \n",
    "inorderR(binarySearchTree.root)\n",
    "print(*traversal3)    "
   ]
  },
  {
   "cell_type": "code",
   "execution_count": 107,
   "id": "890c52c4",
   "metadata": {},
   "outputs": [
    {
     "name": "stdout",
     "output_type": "stream",
     "text": [
      "3 4 5 6 7 8 9\n"
     ]
    }
   ],
   "source": [
    "def inorderI(root):\n",
    "    traversal4 = []\n",
    "    cur = root\n",
    "    stack = []\n",
    "    while 1:\n",
    "        while cur:\n",
    "            stack.append(cur)\n",
    "            cur = cur.left\n",
    "        if len(stack) == 0:\n",
    "            break\n",
    "        cur = stack.pop(-1)\n",
    "        traversal4.append(cur.val)\n",
    "        cur = cur.right\n",
    "    return traversal4  \n",
    "\n",
    "traversal4 = inorderI(binarySearchTree.root)\n",
    "print(*traversal4)"
   ]
  },
  {
   "cell_type": "code",
   "execution_count": 108,
   "id": "6abc70a6",
   "metadata": {},
   "outputs": [
    {
     "name": "stdout",
     "output_type": "stream",
     "text": [
      "6 4 3 5 8 7 9\n"
     ]
    }
   ],
   "source": [
    "traversal1 = []\n",
    "def preorderR(root):\n",
    "    if root==None:\n",
    "        return \n",
    "    traversal1.append(root.val)\n",
    "    if root.left:\n",
    "        preorderR(root.left)\n",
    "    if root.right:\n",
    "        preorderR(root.right)\n",
    "        \n",
    "preorderR(binarySearchTree.root)\n",
    "print(*traversal1)        "
   ]
  },
  {
   "cell_type": "code",
   "execution_count": 109,
   "id": "7c1247b2",
   "metadata": {},
   "outputs": [
    {
     "name": "stdout",
     "output_type": "stream",
     "text": [
      "6 4 3 5 8 7 9\n"
     ]
    }
   ],
   "source": [
    "def preorderI(root):\n",
    "    traversal2 = []\n",
    "    cur = root\n",
    "    stack = []\n",
    "    while 1:\n",
    "        while cur:\n",
    "            traversal2.append(cur.val)\n",
    "            stack.append(cur)\n",
    "            cur = cur.left\n",
    "        if len(stack) == 0:\n",
    "            break\n",
    "        cur = stack.pop(-1)\n",
    "        cur = cur.right\n",
    "    return traversal2    \n",
    "\n",
    "traversal2 = preorderI(binarySearchTree.root)\n",
    "print(*traversal2)"
   ]
  },
  {
   "cell_type": "code",
   "execution_count": 110,
   "id": "f3c7026d",
   "metadata": {},
   "outputs": [
    {
     "name": "stdout",
     "output_type": "stream",
     "text": [
      "3 4 5 6 7 8 9\n"
     ]
    }
   ],
   "source": [
    "traversal3 = []                    \n",
    "def inorderR(root):\n",
    "    if root == None:\n",
    "        return None\n",
    "    inorderR(root.left)\n",
    "    traversal3.append(root.val)\n",
    "    inorderR(root.right)\n",
    "    \n",
    "inorderR(binarySearchTree.root)\n",
    "print(*traversal3)    "
   ]
  },
  {
   "cell_type": "code",
   "execution_count": 111,
   "id": "60a3647d",
   "metadata": {},
   "outputs": [
    {
     "name": "stdout",
     "output_type": "stream",
     "text": [
      "3 5 4 7 9 8 6\n"
     ]
    }
   ],
   "source": [
    "traversal5 = []                    \n",
    "def postorderR(root):\n",
    "    if root == None:\n",
    "        return None\n",
    "    if root.left:\n",
    "        postorderR(root.left)\n",
    "    if root.right:\n",
    "        postorderR(root.right)\n",
    "    traversal5.append(root.val)\n",
    "\n",
    "postorderR(binarySearchTree.root)\n",
    "print(*traversal5)    "
   ]
  },
  {
   "cell_type": "code",
   "execution_count": 112,
   "id": "91026432",
   "metadata": {},
   "outputs": [
    {
     "name": "stdout",
     "output_type": "stream",
     "text": [
      "3 5 4 7 9 8 6\n"
     ]
    }
   ],
   "source": [
    "def postorderI(root):\n",
    "    traversal6 = []\n",
    "    cur = root\n",
    "    stack1 = [cur]\n",
    "    stack2 = []\n",
    "    while len(stack1) != 0:\n",
    "        cur = stack1.pop(-1)\n",
    "        stack2.append(cur.val)\n",
    "        if cur.left:\n",
    "            stack1.append(cur.left)\n",
    "        if cur.right:\n",
    "            stack1.append(cur.right)\n",
    "        \n",
    "    while len(stack2) != 0:\n",
    "        alpha = stack2.pop(-1)\n",
    "        traversal6.append(alpha)\n",
    "    return traversal6    \n",
    "\n",
    "traversal6 = postorderI(binarySearchTree.root)\n",
    "print(*traversal6)"
   ]
  },
  {
   "cell_type": "code",
   "execution_count": 113,
   "id": "33457487",
   "metadata": {},
   "outputs": [],
   "source": [
    "class Node:\n",
    "    def __init__(self, data):\n",
    "        self.val = data\n",
    "        self.left = None\n",
    "        self.right = None"
   ]
  },
  {
   "cell_type": "code",
   "execution_count": 114,
   "id": "7e9291c2",
   "metadata": {},
   "outputs": [],
   "source": [
    "class BTree:\n",
    "    def __init__(self):\n",
    "        self.root = None \n",
    "        \n",
    "    def insert(self,data):\n",
    "        if self.root == None:\n",
    "            self.root = Node(data)\n",
    "        else:\n",
    "            cur = self.root\n",
    "            while 1:\n",
    "                if data<cur.val:\n",
    "                    if cur.left:\n",
    "                        cur = cur.left\n",
    "                    else:\n",
    "                        cur.left = Node(data)\n",
    "                        break\n",
    "                elif data>cur.val:\n",
    "                    if cur.right:\n",
    "                        cur = cur.right\n",
    "                    else:\n",
    "                        cur.right = Node(data)\n",
    "                        break"
   ]
  },
  {
   "cell_type": "code",
   "execution_count": 115,
   "id": "921b7102",
   "metadata": {},
   "outputs": [
    {
     "data": {
      "text/plain": [
       "6"
      ]
     },
     "execution_count": 115,
     "metadata": {},
     "output_type": "execute_result"
    }
   ],
   "source": [
    "bTree = BTree()\n",
    "nodes = [6,8,7,9,4,3,5]\n",
    "for i in nodes:\n",
    "    bTree.insert(i)\n",
    "bTree.root.val    "
   ]
  },
  {
   "cell_type": "code",
   "execution_count": 116,
   "id": "3df39b1a",
   "metadata": {},
   "outputs": [],
   "source": [
    "def height(root):\n",
    "    if root==None:\n",
    "        return 0\n",
    "    return 1 + max(height(root.left),height(root.right))"
   ]
  },
  {
   "cell_type": "code",
   "execution_count": 117,
   "id": "dddb7ea7",
   "metadata": {},
   "outputs": [
    {
     "data": {
      "text/plain": [
       "3"
      ]
     },
     "execution_count": 117,
     "metadata": {},
     "output_type": "execute_result"
    }
   ],
   "source": [
    "tree = BTree()\n",
    "nodes = [6,8,7,9,4,3,5]\n",
    "for i in nodes:\n",
    "    tree.insert(i)\n",
    "heightValue = height(tree.root)\n",
    "heightValue"
   ]
  },
  {
   "cell_type": "code",
   "execution_count": 118,
   "id": "14544bb3",
   "metadata": {},
   "outputs": [],
   "source": [
    "count = 0\n",
    "def numberOfNodes(root):\n",
    "    if root == None:\n",
    "        return 0\n",
    "    global count\n",
    "    count = count + 1\n",
    "    numberOfNodes(root.left),numberOfNodes(root.right)\n",
    "    return count"
   ]
  },
  {
   "cell_type": "code",
   "execution_count": 119,
   "id": "23c55137",
   "metadata": {},
   "outputs": [
    {
     "data": {
      "text/plain": [
       "7"
      ]
     },
     "execution_count": 119,
     "metadata": {},
     "output_type": "execute_result"
    }
   ],
   "source": [
    "numberOfNodes(tree.root)"
   ]
  },
  {
   "cell_type": "code",
   "execution_count": 120,
   "id": "d8320072",
   "metadata": {},
   "outputs": [],
   "source": [
    "c = 0\n",
    "def numberOfLeafNodes(root):\n",
    "    if root:\n",
    "        if root.left == None and root.right == None:\n",
    "            global c\n",
    "            c +=1\n",
    "        else:\n",
    "            numberOfLeafNodes(root.left),numberOfLeafNodes(root.right)\n",
    "    return c        "
   ]
  },
  {
   "cell_type": "code",
   "execution_count": 121,
   "id": "9f45e38c",
   "metadata": {},
   "outputs": [
    {
     "data": {
      "text/plain": [
       "4"
      ]
     },
     "execution_count": 121,
     "metadata": {},
     "output_type": "execute_result"
    }
   ],
   "source": [
    "numberOfLeafNodes(tree.root)"
   ]
  },
  {
   "cell_type": "code",
   "execution_count": 122,
   "id": "30b151f7",
   "metadata": {},
   "outputs": [],
   "source": [
    "def sumOfAllNodes(root):\n",
    "    if root == None:\n",
    "        return 0\n",
    "    \n",
    "    return root.val + sumOfAllNodes(root.left) + sumOfAllNodes(root.right)"
   ]
  },
  {
   "cell_type": "code",
   "execution_count": 123,
   "id": "81937d30",
   "metadata": {},
   "outputs": [
    {
     "data": {
      "text/plain": [
       "42"
      ]
     },
     "execution_count": 123,
     "metadata": {},
     "output_type": "execute_result"
    }
   ],
   "source": [
    "sumOfAllNodes(tree.root)"
   ]
  },
  {
   "cell_type": "code",
   "execution_count": 124,
   "id": "13a92cb7",
   "metadata": {},
   "outputs": [],
   "source": [
    "def levelOrder(root):\n",
    "    trav = []\n",
    "    q = [root]\n",
    "    while len(q) != 0:\n",
    "        p = q.pop(0)\n",
    "        if p:\n",
    "            trav.append(p.val)\n",
    "            if p.left:\n",
    "                q.append(p.left)\n",
    "            if p.right:\n",
    "                q.append(p.right)\n",
    "    return trav            "
   ]
  },
  {
   "cell_type": "code",
   "execution_count": 125,
   "id": "076d0d21",
   "metadata": {},
   "outputs": [
    {
     "data": {
      "text/plain": [
       "[6, 4, 8, 3, 5, 7, 9]"
      ]
     },
     "execution_count": 125,
     "metadata": {},
     "output_type": "execute_result"
    }
   ],
   "source": [
    "levelOrder(tree.root)"
   ]
  },
  {
   "cell_type": "code",
   "execution_count": 132,
   "id": "1b14ee70",
   "metadata": {},
   "outputs": [],
   "source": [
    "class Node:\n",
    "    def __init__(self,data):\n",
    "        self.val = data\n",
    "        self.left = None\n",
    "        self.right = None "
   ]
  },
  {
   "cell_type": "code",
   "execution_count": 133,
   "id": "eb740edb",
   "metadata": {},
   "outputs": [],
   "source": [
    "class BinarySearchTree:\n",
    "    def __init__(self):\n",
    "        self.root = None \n",
    "        \n",
    "    def insert(self,data):\n",
    "        if self.root == None:\n",
    "            self.root = Node(data)\n",
    "        else:\n",
    "            cur = self.root\n",
    "            while 1:\n",
    "                if data<cur.val:\n",
    "                    if cur.left:\n",
    "                        cur = cur.left\n",
    "                    else:\n",
    "                        cur.left = Node(data)\n",
    "                        break\n",
    "                elif data>cur.val:\n",
    "                    if cur.right:\n",
    "                        cur = cur.right\n",
    "                    else:\n",
    "                        cur.right = Node(data)\n",
    "                        break\n",
    "    def search(root,key):\n",
    "        if root==None or root.val==key:\n",
    "            return root\n",
    "        if root.val<key:\n",
    "            return search(root.right,key)\n",
    "        return search(root.left,key)                   "
   ]
  },
  {
   "cell_type": "code",
   "execution_count": 134,
   "id": "b6442f2c",
   "metadata": {},
   "outputs": [],
   "source": [
    "traver = []                    \n",
    "def inorderR(root):\n",
    "    if root == None:\n",
    "        return None\n",
    "    if root.left:\n",
    "        inorderR(root.left)\n",
    "    traver.append(root.val)\n",
    "    if root.right:\n",
    "        inorderR(root.right)    "
   ]
  },
  {
   "cell_type": "code",
   "execution_count": 135,
   "id": "b9c9b22f",
   "metadata": {},
   "outputs": [
    {
     "name": "stdout",
     "output_type": "stream",
     "text": [
      "7\n"
     ]
    }
   ],
   "source": [
    "tree = BinarySearchTree()\n",
    "nodes = [6,8,7,9,4,3,5]\n",
    "for i in nodes:\n",
    "    tree.insert(i)\n",
    "key = 6    \n",
    "inorderR(tree.root)\n",
    "for i in range(0,len(traver)):\n",
    "    if key == traver[i]:\n",
    "        index = i\n",
    "        break\n",
    "if index+1<len(traver):\n",
    "    print(traver[index+1])\n",
    "else:\n",
    "    print(-1)"
   ]
  },
  {
   "cell_type": "code",
   "execution_count": 136,
   "id": "c253d3c6",
   "metadata": {},
   "outputs": [],
   "source": [
    "def inorderSucc(root,node):\n",
    "    succ = None\n",
    "    store = None\n",
    "    if node.right != None:\n",
    "        temp = node.right\n",
    "        while temp.left != None:\n",
    "            temp = temp.left\n",
    "        succ = temp\n",
    "    else:\n",
    "        cur = root\n",
    "        while cur.val != node.val:\n",
    "            if node.val<=cur.val:\n",
    "                store = cur\n",
    "                cur = cur.left\n",
    "            else:\n",
    "                cur = cur.right\n",
    "        succ = store\n",
    "    return succ         "
   ]
  },
  {
   "cell_type": "code",
   "execution_count": 137,
   "id": "17010eed",
   "metadata": {},
   "outputs": [
    {
     "name": "stdout",
     "output_type": "stream",
     "text": [
      "6\n"
     ]
    }
   ],
   "source": [
    "tree = BinarySearchTree()\n",
    "nodes = [6,8,7,9,4,3,5]\n",
    "for i in nodes:\n",
    "    tree.insert(i)\n",
    "key = 5\n",
    "node = search(tree.root,key)\n",
    "succNode = inorderSucc(tree.root,node)\n",
    "print(succNode.val)"
   ]
  },
  {
   "cell_type": "code",
   "execution_count": null,
   "id": "80c13396",
   "metadata": {},
   "outputs": [],
   "source": []
  },
  {
   "cell_type": "code",
   "execution_count": 149,
   "id": "05f2952b",
   "metadata": {},
   "outputs": [],
   "source": [
    "class Node:\n",
    "    def __init__(self,data):\n",
    "        self.val = data\n",
    "        self.left = None\n",
    "        self.right = None "
   ]
  },
  {
   "cell_type": "code",
   "execution_count": 150,
   "id": "90329d91",
   "metadata": {},
   "outputs": [],
   "source": [
    "class BinarySearchTree:\n",
    "    def __init__(self):\n",
    "        self.root = None \n",
    "        \n",
    "    def insert(self,data):\n",
    "        if self.root == None:\n",
    "            self.root = Node(data)\n",
    "        else:\n",
    "            cur = self.root\n",
    "            while 1:\n",
    "                if data<cur.val:\n",
    "                    if cur.left:\n",
    "                        cur = cur.left\n",
    "                    else:\n",
    "                        cur.left = Node(data)\n",
    "                        break\n",
    "                elif data>cur.val:\n",
    "                    if cur.right:\n",
    "                        cur = cur.right\n",
    "                    else:\n",
    "                        cur.right = Node(data)\n",
    "                        break\n",
    "    def search(root,key):\n",
    "        if root==None or root.val==key:\n",
    "            return root\n",
    "        if root.val<key:\n",
    "            return search(root.right,key)\n",
    "        return search(root.left,key)                   "
   ]
  },
  {
   "cell_type": "code",
   "execution_count": 140,
   "id": "5fa65d0f",
   "metadata": {},
   "outputs": [],
   "source": [
    "traver = []                    \n",
    "def inorderR(root):\n",
    "    if root == None:\n",
    "        return None\n",
    "    if root.left:\n",
    "        inorderR(root.left)\n",
    "    traver.append(root.val)\n",
    "    if root.right:\n",
    "        inorderR(root.right)    "
   ]
  },
  {
   "cell_type": "code",
   "execution_count": 144,
   "id": "e07c4675",
   "metadata": {},
   "outputs": [
    {
     "name": "stdout",
     "output_type": "stream",
     "text": [
      "5\n"
     ]
    }
   ],
   "source": [
    "tree = BinarySearchTree()\n",
    "nodes = [6,8,7,9,4,3,5]\n",
    "for i in nodes:\n",
    "    tree.insert(i)\n",
    "key = 6    \n",
    "inorderR(tree.root)\n",
    "for i in range(0,len(traver)):\n",
    "    if key == traver[i]:\n",
    "        index = i\n",
    "        break\n",
    "if index-1<len(traver):\n",
    "    print(traver[index-1])\n",
    "else:\n",
    "    print(-1)"
   ]
  },
  {
   "cell_type": "code",
   "execution_count": 153,
   "id": "884a5589",
   "metadata": {},
   "outputs": [],
   "source": [
    "def inorderPre(root,node):\n",
    "    pred = None\n",
    "    store = None\n",
    "    if node.left != None:\n",
    "        temp = node.left\n",
    "        while temp.right != None:\n",
    "            temp = temp.right\n",
    "        pred = temp\n",
    "    else:\n",
    "        cur = root\n",
    "        while cur.val != node.val:\n",
    "            if node.val>cur.val:\n",
    "                store = cur\n",
    "                cur = cur.right\n",
    "            else:\n",
    "                cur = cur.left\n",
    "        pred = store\n",
    "    return pred         "
   ]
  },
  {
   "cell_type": "code",
   "execution_count": 157,
   "id": "c6fca279",
   "metadata": {},
   "outputs": [
    {
     "name": "stdout",
     "output_type": "stream",
     "text": [
      "6\n"
     ]
    }
   ],
   "source": [
    "tree = BinarySearchTree()\n",
    "nodes = [6,8,7,9,4,3,5]\n",
    "for i in nodes:\n",
    "    tree.insert(i)\n",
    "key = 7\n",
    "node = search(tree.root,key)\n",
    "predNode = inorderPre(tree.root,node)\n",
    "print(predNode.val)"
   ]
  },
  {
   "cell_type": "code",
   "execution_count": null,
   "id": "3a14cfc3",
   "metadata": {},
   "outputs": [],
   "source": []
  },
  {
   "cell_type": "code",
   "execution_count": null,
   "id": "7166bd92",
   "metadata": {},
   "outputs": [],
   "source": []
  },
  {
   "cell_type": "code",
   "execution_count": 162,
   "id": "6ac5363c",
   "metadata": {},
   "outputs": [],
   "source": [
    "class Node:\n",
    "    def __init__(self,data):\n",
    "        self.val = data\n",
    "        self.left = None\n",
    "        self.right = None "
   ]
  },
  {
   "cell_type": "code",
   "execution_count": 163,
   "id": "bd3f9839",
   "metadata": {},
   "outputs": [],
   "source": [
    "class BinarySearchTree:\n",
    "    def __init__(self):\n",
    "        self.root = None \n",
    "        \n",
    "    def insert(self,data):\n",
    "        if self.root == None:\n",
    "            self.root = Node(data)\n",
    "        else:\n",
    "            cur = self.root\n",
    "            while 1:\n",
    "                if data<cur.val:\n",
    "                    if cur.left:\n",
    "                        cur = cur.left\n",
    "                    else:\n",
    "                        cur.left = Node(data)\n",
    "                        break\n",
    "                elif data>cur.val:\n",
    "                    if cur.right:\n",
    "                        cur = cur.right\n",
    "                    else:\n",
    "                        cur.right = Node(data)\n",
    "                        break                "
   ]
  },
  {
   "cell_type": "code",
   "execution_count": 170,
   "id": "9d779e97",
   "metadata": {},
   "outputs": [],
   "source": [
    "def verticalOrder(root):\n",
    "    q = [root]\n",
    "    hsh = {}\n",
    "    hsh[0] = [root.val]\n",
    "    root.val = [root.val,0]\n",
    "    traversal10 = []\n",
    "    \n",
    "    while q != []:\n",
    "        p = q.pop(0)\n",
    "        if p:\n",
    "            if p.left:\n",
    "                q.append(p.left)\n",
    "                depth = p.val[1]-1\n",
    "                if depth in hsh:\n",
    "                    hsh[depth].append(p.left.val)\n",
    "                else:\n",
    "                    hsh[depth] = [p.left.val]\n",
    "                p.left.val = [p.left.val,depth]    \n",
    "            if p.right:\n",
    "                q.append(p.right)\n",
    "                depth = p.val[1]+1\n",
    "                if depth in hsh:\n",
    "                    hsh[depth].append(p.right.val)\n",
    "                else:\n",
    "                    hsh[depth] = [p.right.val]\n",
    "                p.right.val = [p.right.val,depth]  \n",
    "                \n",
    "    for i, j in hsh.items():\n",
    "        traversal10.append(j)\n",
    "    return traversal10    "
   ]
  },
  {
   "cell_type": "code",
   "execution_count": 171,
   "id": "090f68ac",
   "metadata": {},
   "outputs": [
    {
     "name": "stdout",
     "output_type": "stream",
     "text": [
      "6 5 7\n",
      "4\n",
      "8\n",
      "3\n",
      "9\n"
     ]
    }
   ],
   "source": [
    "tree = BinarySearchTree()\n",
    "nodes = [6,8,7,9,4,3,5]\n",
    "for i in nodes:\n",
    "    tree.insert(i)\n",
    "values = verticalOrder(tree.root)\n",
    "for row in values:\n",
    "    print(*row)"
   ]
  },
  {
   "cell_type": "code",
   "execution_count": null,
   "id": "54a41ecf",
   "metadata": {},
   "outputs": [],
   "source": []
  },
  {
   "cell_type": "code",
   "execution_count": null,
   "id": "20dcba0a",
   "metadata": {},
   "outputs": [],
   "source": []
  },
  {
   "cell_type": "code",
   "execution_count": 190,
   "id": "849274b8",
   "metadata": {},
   "outputs": [],
   "source": [
    "def levelOrderByLevel(root):\n",
    "    traversal = []\n",
    "    row = []\n",
    "    q = [root,None]\n",
    "    prev = None\n",
    "    \n",
    "    while len(q) != 0:\n",
    "        p = q.pop(0)\n",
    "        if p:\n",
    "            row.append(p.val)\n",
    "            if p.left:\n",
    "                q.append(p.left)\n",
    "            if p.right:\n",
    "                q.append(p.right)\n",
    "        else:\n",
    "            q.append(None)\n",
    "            if row != []:\n",
    "                traversal.append(row)\n",
    "            row = []\n",
    "        if p == None and prev == None:\n",
    "            break\n",
    "        prev = p    \n",
    "    return traversal            "
   ]
  },
  {
   "cell_type": "code",
   "execution_count": 191,
   "id": "058c702b",
   "metadata": {},
   "outputs": [
    {
     "name": "stdout",
     "output_type": "stream",
     "text": [
      "[[6, 0]]\n",
      "[[8, 1], 8]\n",
      "[[5, 2], 5, 7, 9]\n"
     ]
    }
   ],
   "source": [
    "trav = levelOrderByLevel(tree.root)\n",
    "for row in trav:\n",
    "    print(row)"
   ]
  },
  {
   "cell_type": "code",
   "execution_count": 192,
   "id": "267168ba",
   "metadata": {},
   "outputs": [],
   "source": [
    "traversal_val = []\n",
    "def inorderS(root):\n",
    "    if root == None:\n",
    "        return\n",
    "    if root.left:\n",
    "        inorderS(root.left)\n",
    "    global traversal_val\n",
    "    traversal_val.append(root.val)\n",
    "    if root.right:\n",
    "        inorderS(root.right)"
   ]
  },
  {
   "cell_type": "code",
   "execution_count": 197,
   "id": "0d6c7ccf",
   "metadata": {},
   "outputs": [
    {
     "name": "stdout",
     "output_type": "stream",
     "text": [
      "[6, 0]\n"
     ]
    }
   ],
   "source": [
    "key = 5\n",
    "inorderS(tree.root)\n",
    "for i in range(0,len(traversal_val)):\n",
    "    if key == traversal_val[i]:\n",
    "        index = i\n",
    "        break\n",
    "if index+1<len(traversal_val):        \n",
    "    print(traversal_val[index+1])    \n",
    "else:\n",
    "    print(-1)"
   ]
  },
  {
   "cell_type": "code",
   "execution_count": 204,
   "id": "02d686b2",
   "metadata": {},
   "outputs": [],
   "source": [
    "def search(root,key):\n",
    "    if root == None or root.val == key:\n",
    "        return root\n",
    "    if root.val<key:\n",
    "        return search(root.right,key)\n",
    "    return search(root.left, key)"
   ]
  },
  {
   "cell_type": "code",
   "execution_count": 208,
   "id": "c3b1fe19",
   "metadata": {},
   "outputs": [
    {
     "name": "stdout",
     "output_type": "stream",
     "text": [
      "8\n"
     ]
    }
   ],
   "source": [
    "tree = BinarySearchTree()\n",
    "nodes = [6,8,7,9,4,3,5]\n",
    "key = 8\n",
    "for i in nodes:\n",
    "    tree.insert(i)\n",
    "keyNode = search(tree.root,key)\n",
    "print(keyNode.val)"
   ]
  },
  {
   "cell_type": "code",
   "execution_count": 10,
   "id": "e9354dd1",
   "metadata": {},
   "outputs": [],
   "source": [
    "class Node:\n",
    "    def __init__(self,data):\n",
    "        self.val = data\n",
    "        self.left = None\n",
    "        self.right = None "
   ]
  },
  {
   "cell_type": "code",
   "execution_count": 11,
   "id": "dd77762c",
   "metadata": {},
   "outputs": [],
   "source": [
    "def delete(root):\n",
    "    if root ==None:\n",
    "        return \n",
    "    delete(root.left)\n",
    "    delete(root.right)\n",
    "    del root"
   ]
  },
  {
   "cell_type": "code",
   "execution_count": 12,
   "id": "e264cc89",
   "metadata": {},
   "outputs": [],
   "source": [
    "root = Node(1)\n",
    "root.left = Node(2)\n",
    "root.right = Node(3)\n",
    "root.left.left = Node(4)\n",
    "root.right.left = Node(5)\n",
    "delete(root)\n",
    "root = None"
   ]
  },
  {
   "cell_type": "code",
   "execution_count": null,
   "id": "e5291caf",
   "metadata": {},
   "outputs": [],
   "source": []
  },
  {
   "cell_type": "code",
   "execution_count": null,
   "id": "2cc1654b",
   "metadata": {},
   "outputs": [],
   "source": []
  },
  {
   "cell_type": "code",
   "execution_count": null,
   "id": "77863093",
   "metadata": {},
   "outputs": [],
   "source": []
  },
  {
   "cell_type": "code",
   "execution_count": null,
   "id": "7fd6656f",
   "metadata": {},
   "outputs": [],
   "source": []
  }
 ],
 "metadata": {
  "kernelspec": {
   "display_name": "Python 3",
   "language": "python",
   "name": "python3"
  },
  "language_info": {
   "codemirror_mode": {
    "name": "ipython",
    "version": 3
   },
   "file_extension": ".py",
   "mimetype": "text/x-python",
   "name": "python",
   "nbconvert_exporter": "python",
   "pygments_lexer": "ipython3",
   "version": "3.8.8"
  }
 },
 "nbformat": 4,
 "nbformat_minor": 5
}
