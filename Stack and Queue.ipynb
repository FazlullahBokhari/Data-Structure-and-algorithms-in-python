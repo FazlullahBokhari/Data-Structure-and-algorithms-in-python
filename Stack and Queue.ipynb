{
 "cells": [
  {
   "cell_type": "code",
   "execution_count": 6,
   "id": "e1e9fad7",
   "metadata": {},
   "outputs": [],
   "source": [
    "class Stack:\n",
    "    def __init__(self):\n",
    "        self.st = []\n",
    "    \n",
    "    def push(self,data):\n",
    "        self.st.append(data)\n",
    "        \n",
    "    def pop(self):\n",
    "        popEle = -1\n",
    "        if len(self.st)>0:\n",
    "            popEle = self.st.pop(-1)\n",
    "        return popEle  \n",
    "    \n",
    "    def printStack(self):\n",
    "        for i in range(len(self.st)-1,-1,-1):\n",
    "            print(self.st[i],end=\" \")\n",
    "        print()    "
   ]
  },
  {
   "cell_type": "code",
   "execution_count": 7,
   "id": "47520cb8",
   "metadata": {},
   "outputs": [
    {
     "name": "stdout",
     "output_type": "stream",
     "text": [
      "5 4 3 2 1 \n",
      "3 2 1 \n"
     ]
    }
   ],
   "source": [
    "s = Stack()\n",
    "values = [1,2,3,4,5]\n",
    "for i in values:\n",
    "    s.push(i)\n",
    "s.printStack()   \n",
    "s.pop()\n",
    "s.pop()\n",
    "s.printStack()"
   ]
  },
  {
   "cell_type": "code",
   "execution_count": 11,
   "id": "1a4d2de7",
   "metadata": {},
   "outputs": [],
   "source": [
    "class Queue:\n",
    "    def __init__(self):\n",
    "        self.q = []\n",
    "        \n",
    "    def enque(self,data):\n",
    "        self.q.append(data)\n",
    "        \n",
    "    def deque(self):\n",
    "        popEle = -1\n",
    "        if len(self.q)>0:\n",
    "            popEle = self.q.pop(0)\n",
    "        return popEle\n",
    "    \n",
    "    def printQueue(self):\n",
    "        for i in self.q:\n",
    "            print(i,end=\" \")\n",
    "        print()    "
   ]
  },
  {
   "cell_type": "code",
   "execution_count": 12,
   "id": "e32177e5",
   "metadata": {},
   "outputs": [
    {
     "name": "stdout",
     "output_type": "stream",
     "text": [
      "5 6 7 8 \n",
      "6 7 8 \n"
     ]
    }
   ],
   "source": [
    "q = Queue()\n",
    "q.enque(5)\n",
    "q.enque(6)\n",
    "q.enque(7)\n",
    "q.enque(8)\n",
    "q.printQueue()\n",
    "q.deque()\n",
    "q.printQueue()"
   ]
  },
  {
   "cell_type": "code",
   "execution_count": 17,
   "id": "9819887c",
   "metadata": {},
   "outputs": [],
   "source": [
    "def areBracketsBalanced(exp):\n",
    "    stack = []\n",
    "    for char in exp:\n",
    "        if char in ['(','[','{']:\n",
    "            stack.append(char)\n",
    "        elif char in [')',']','}']:\n",
    "            if not stack:\n",
    "                return False\n",
    "            alpha = stack.pop()\n",
    "            if alpha == '(':\n",
    "                if char != ')':\n",
    "                    return False\n",
    "            if alpha == '[':\n",
    "                if char != ']':\n",
    "                    return False\n",
    "            if alpha == '{':\n",
    "                if char != '}':\n",
    "                    return False\n",
    "    if stack:\n",
    "        return False\n",
    "    return True             "
   ]
  },
  {
   "cell_type": "code",
   "execution_count": 21,
   "id": "b756aa4a",
   "metadata": {},
   "outputs": [
    {
     "data": {
      "text/plain": [
       "True"
      ]
     },
     "execution_count": 21,
     "metadata": {},
     "output_type": "execute_result"
    }
   ],
   "source": [
    "exp = \"{()[]}\"\n",
    "areBracketsBalanced(exp)"
   ]
  },
  {
   "cell_type": "code",
   "execution_count": 42,
   "id": "ccc70080",
   "metadata": {},
   "outputs": [],
   "source": [
    "def nextGreaterToRight(arr):\n",
    "    op = []\n",
    "    for i in range(len(arr)):\n",
    "        alpha = -1\n",
    "        for j in range(i+1,len(arr)):\n",
    "            if arr[j]>arr[i]:\n",
    "                alpha = arr[j]\n",
    "                break\n",
    "        op.append(alpha)        \n",
    "    return op            "
   ]
  },
  {
   "cell_type": "code",
   "execution_count": 43,
   "id": "234dd3cf",
   "metadata": {},
   "outputs": [
    {
     "data": {
      "text/plain": [
       "[3, 4, 4, -1]"
      ]
     },
     "execution_count": 43,
     "metadata": {},
     "output_type": "execute_result"
    }
   ],
   "source": [
    "arr = [1,3,2,4]\n",
    "nextGreaterToRight(arr)"
   ]
  },
  {
   "cell_type": "code",
   "execution_count": 44,
   "id": "da985725",
   "metadata": {},
   "outputs": [],
   "source": [
    "def nextGreaterToRight2(arr):\n",
    "    op = []\n",
    "    stack = []\n",
    "    for i in range(len(arr)-1,-1,-1):\n",
    "        if len(stack) ==0:\n",
    "            op.append(-1)\n",
    "        elif stack[-1]>arr[i]:\n",
    "            op.append(stack[-1])\n",
    "        else:\n",
    "            while len(stack)>0 and stack[-1]<arr[i]:\n",
    "                stack.pop(-1)\n",
    "            if len(stack)==0:\n",
    "                op.append(-1)\n",
    "            else:\n",
    "                op.append(stack[-1])\n",
    "        stack.append(arr[i])   \n",
    "    op.reverse()    \n",
    "    return op           "
   ]
  },
  {
   "cell_type": "code",
   "execution_count": 45,
   "id": "373814f0",
   "metadata": {},
   "outputs": [
    {
     "data": {
      "text/plain": [
       "[3, 4, 4, -1]"
      ]
     },
     "execution_count": 45,
     "metadata": {},
     "output_type": "execute_result"
    }
   ],
   "source": [
    "arr = [1,3,2,4]\n",
    "nextGreaterToRight2(arr)"
   ]
  },
  {
   "cell_type": "code",
   "execution_count": 46,
   "id": "459d91b7",
   "metadata": {},
   "outputs": [],
   "source": [
    " def nextGreaterToLeft(arr):\n",
    "        op = []\n",
    "        stack = []\n",
    "        for i in range(len(arr)):\n",
    "            if len(stack) == 0:\n",
    "                op.append(-1)\n",
    "            elif stack[-1]>arr[i]:\n",
    "                op.append(stack[-1])\n",
    "            else:\n",
    "                while len(stack)>0 and stack[-1]<arr[i]:\n",
    "                    stack.pop(-1)\n",
    "                if len(stack)==0:\n",
    "                    op.append(-1)\n",
    "                else:\n",
    "                    op.append(stack[-1])\n",
    "            stack.append(arr[i])\n",
    "        return op    "
   ]
  },
  {
   "cell_type": "code",
   "execution_count": 47,
   "id": "94d8ea25",
   "metadata": {},
   "outputs": [
    {
     "data": {
      "text/plain": [
       "[-1, -1, 3, -1]"
      ]
     },
     "execution_count": 47,
     "metadata": {},
     "output_type": "execute_result"
    }
   ],
   "source": [
    "arr = [1,3,2,4]\n",
    "nextGreaterToLeft(arr)"
   ]
  },
  {
   "cell_type": "code",
   "execution_count": 48,
   "id": "756339d2",
   "metadata": {},
   "outputs": [],
   "source": [
    "def nextSmallerToRight(arr):\n",
    "    op = []\n",
    "    for i in range(len(arr)):\n",
    "        alpha = -1\n",
    "        for j in range(i+1,len(arr)):\n",
    "            if arr[j]<arr[i]:\n",
    "                alpha = arr[j]\n",
    "                break\n",
    "        op.append(alpha)        \n",
    "    return op            "
   ]
  },
  {
   "cell_type": "code",
   "execution_count": 49,
   "id": "541cc748",
   "metadata": {},
   "outputs": [
    {
     "data": {
      "text/plain": [
       "[-1, 2, -1, -1]"
      ]
     },
     "execution_count": 49,
     "metadata": {},
     "output_type": "execute_result"
    }
   ],
   "source": [
    "arr = [1,3,2,4]\n",
    "nextSmallerToRight(arr)"
   ]
  },
  {
   "cell_type": "code",
   "execution_count": 50,
   "id": "c341a8f8",
   "metadata": {},
   "outputs": [],
   "source": [
    "def nextSmallerToRight2(arr):\n",
    "    op = []\n",
    "    stack = []\n",
    "    for i in range(len(arr)-1,-1,-1):\n",
    "        if len(stack) ==0:\n",
    "            op.append(-1)\n",
    "        elif stack[-1]<arr[i]:\n",
    "            op.append(stack[-1])\n",
    "        else:\n",
    "            while len(stack)>0 and stack[-1]>arr[i]:\n",
    "                stack.pop(-1)\n",
    "            if len(stack)==0:\n",
    "                op.append(-1)\n",
    "            else:\n",
    "                op.append(stack[-1])\n",
    "        stack.append(arr[i])   \n",
    "    op.reverse()    \n",
    "    return op           "
   ]
  },
  {
   "cell_type": "code",
   "execution_count": 51,
   "id": "6a8bd2e1",
   "metadata": {},
   "outputs": [
    {
     "data": {
      "text/plain": [
       "[-1, 2, -1, -1]"
      ]
     },
     "execution_count": 51,
     "metadata": {},
     "output_type": "execute_result"
    }
   ],
   "source": [
    "arr = [1,3,2,4]\n",
    "nextSmallerToRight2(arr)"
   ]
  },
  {
   "cell_type": "code",
   "execution_count": 54,
   "id": "8eaa2770",
   "metadata": {},
   "outputs": [],
   "source": [
    " def nextSmallerToLeft(arr):\n",
    "        op = []\n",
    "        stack = []\n",
    "        for i in range(len(arr)):\n",
    "            if len(stack) == 0:\n",
    "                op.append(-1)\n",
    "            elif stack[-1]<arr[i]:\n",
    "                op.append(stack[-1])\n",
    "            else:\n",
    "                while len(stack)>0 and stack[-1]>arr[i]:\n",
    "                    stack.pop(-1)\n",
    "                if len(stack)==0:\n",
    "                    op.append(-1)\n",
    "                else:\n",
    "                    op.append(stack[-1])\n",
    "            stack.append(arr[i])\n",
    "        return op    "
   ]
  },
  {
   "cell_type": "code",
   "execution_count": 55,
   "id": "fb3f3064",
   "metadata": {},
   "outputs": [
    {
     "data": {
      "text/plain": [
       "[-1, 1, 1, 2]"
      ]
     },
     "execution_count": 55,
     "metadata": {},
     "output_type": "execute_result"
    }
   ],
   "source": [
    "arr = [1,3,2,4]\n",
    "nextSmallerToLeft(arr)"
   ]
  },
  {
   "cell_type": "code",
   "execution_count": 57,
   "id": "d4091b13",
   "metadata": {},
   "outputs": [],
   "source": [
    "class Queue:\n",
    "    def __init__(self):\n",
    "        self.q = []\n",
    "        \n",
    "    def enque(self,data):\n",
    "        self.q.append(data)\n",
    "        \n",
    "    def deque(self):\n",
    "        popEle = -1\n",
    "        if len(self.q)>0:\n",
    "            popEle = self.q.pop(0)\n",
    "        return popEle\n",
    "#push operation is costly\n",
    "\n",
    "class Stack:\n",
    "    def __init__(self):\n",
    "        self.q1 = Queue()\n",
    "        self.q2 = Queue()\n",
    "        \n",
    "    def push(self,data):\n",
    "        self.q2.enque(data)\n",
    "        while len(self.q1.q)>0:\n",
    "            alpha = self.q1.deque()\n",
    "            self.q2.enque(alpha)\n",
    "        self.q1,self.q2 = self.q2,self.q1    \n",
    "    \n",
    "    def pop(self):\n",
    "        if len(self.q1.q) == 0:\n",
    "            return None\n",
    "        else:\n",
    "            popNode = self.q1.deque()\n",
    "            return popNode\n",
    "        \n",
    "    def printQueue(self):\n",
    "        for i in self.q1.q:\n",
    "            print(i,end=\" \")\n",
    "        print()      "
   ]
  },
  {
   "cell_type": "code",
   "execution_count": 62,
   "id": "d7eb966f",
   "metadata": {},
   "outputs": [
    {
     "name": "stdout",
     "output_type": "stream",
     "text": [
      "5 4 3 2 1 \n",
      "5\n",
      "4\n",
      "3 2 1 \n"
     ]
    }
   ],
   "source": [
    "s = Stack()\n",
    "values = [1,2,3,4,5]\n",
    "for i in values:\n",
    "    s.push(i)\n",
    "s.printQueue()  \n",
    "print(s.pop())\n",
    "print(s.pop())\n",
    "s.printQueue()"
   ]
  },
  {
   "cell_type": "code",
   "execution_count": 90,
   "id": "2a610bdc",
   "metadata": {},
   "outputs": [],
   "source": [
    "class Queue:\n",
    "    def __init__(self):\n",
    "        self.q = []\n",
    "        \n",
    "    def enque(self,data):\n",
    "        self.q.append(data)\n",
    "        \n",
    "    def deque(self):\n",
    "        popEle = -1\n",
    "        if len(self.q)>0:\n",
    "            popEle = self.q.pop(0)\n",
    "        return popEle\n",
    "#pop operation is costly\n",
    "\n",
    "class Stack:\n",
    "    def __init__(self):\n",
    "        self.q1 = Queue()\n",
    "        self.q2 = Queue()\n",
    "        \n",
    "    def push(self,data):\n",
    "        self.q1.enque(data)\n",
    "        \n",
    "    \n",
    "    def pop(self):\n",
    "        if len(self.q1.q) == 0:\n",
    "            return None\n",
    "        else:\n",
    "            while len(self.q1.q)>1:\n",
    "                alpha = self.q1.deque()\n",
    "                self.q2.enque(alpha) \n",
    "            popNode = self.q1.deque()\n",
    "            self.q1,self.q2 = self.q2,self.q1  \n",
    "            return popNode\n",
    "        \n",
    "    def printQueue(self):\n",
    "        for i in self.q1.q:\n",
    "            print(i,end=\" \")\n",
    "        print()      "
   ]
  },
  {
   "cell_type": "code",
   "execution_count": 91,
   "id": "e8b80859",
   "metadata": {},
   "outputs": [
    {
     "name": "stdout",
     "output_type": "stream",
     "text": [
      "1 2 3 4 5 \n",
      "5\n",
      "4\n",
      "1 2 3 \n",
      "3\n",
      "1 2 \n"
     ]
    }
   ],
   "source": [
    "s = Stack()\n",
    "values = [1,2,3,4,5]\n",
    "for i in values:\n",
    "    s.push(i)\n",
    "s.printQueue()  \n",
    "print(s.pop())\n",
    "print(s.pop())\n",
    "s.printQueue()\n",
    "print(s.pop())\n",
    "s.printQueue()"
   ]
  },
  {
   "cell_type": "code",
   "execution_count": 77,
   "id": "70368d14",
   "metadata": {},
   "outputs": [],
   "source": [
    "class Stack:\n",
    "    def __init__(self):\n",
    "        self.st = []\n",
    "    \n",
    "    def push(self,data):\n",
    "        self.st.append(data)\n",
    "        \n",
    "    def pop(self):\n",
    "        popEle = -1\n",
    "        if len(self.st)>0:\n",
    "            popEle = self.st.pop(-1)\n",
    "        return popEle  \n",
    "        \n",
    "#Enque operation is costly.\n",
    "\n",
    "class Queue:\n",
    "    def __init__(self):\n",
    "        self.s1 = Stack()\n",
    "        self.s2 = Stack()\n",
    "    \n",
    "    def enque(self,data):\n",
    "        while len(self.s1.st)>0:\n",
    "            alpha = self.s1.pop()\n",
    "            self.s2.push(alpha)\n",
    "        self.s1.push(data)   \n",
    "        while len(self.s2.st)>0:\n",
    "            alpha = self.s2.pop()\n",
    "            self.s1.push(alpha)\n",
    "    \n",
    "    \n",
    "    def deque(self):\n",
    "        if len(self.s1.st) == 0:\n",
    "            return None\n",
    "        else:\n",
    "            popNode = self.s1.pop()\n",
    "            return popNode"
   ]
  },
  {
   "cell_type": "code",
   "execution_count": 78,
   "id": "1a802c77",
   "metadata": {},
   "outputs": [
    {
     "name": "stdout",
     "output_type": "stream",
     "text": [
      "5\n",
      "6\n"
     ]
    }
   ],
   "source": [
    "q = Queue()\n",
    "q.enque(5)\n",
    "q.enque(6)\n",
    "q.enque(7)\n",
    "q.enque(8)\n",
    "print(q.deque())\n",
    "print(q.deque())"
   ]
  },
  {
   "cell_type": "code",
   "execution_count": 79,
   "id": "9b8609ed",
   "metadata": {},
   "outputs": [],
   "source": [
    "class Stack:\n",
    "    def __init__(self):\n",
    "        self.st = []\n",
    "    \n",
    "    def push(self,data):\n",
    "        self.st.append(data)\n",
    "        \n",
    "    def pop(self):\n",
    "        popEle = -1\n",
    "        if len(self.st)>0:\n",
    "            popEle = self.st.pop(-1)\n",
    "        return popEle  \n",
    "        \n",
    "#Deque operation is costly.\n",
    "\n",
    "class Queue:\n",
    "    def __init__(self):\n",
    "        self.s1 = Stack()\n",
    "        self.s2 = Stack()\n",
    "    \n",
    "    def enque(self,data):\n",
    "        self.s1.push(data)   \n",
    "    \n",
    "    def deque(self):\n",
    "        if len(self.s1.st) == 0 and len(self.s2.st)==0:\n",
    "            return None\n",
    "        else:\n",
    "            if len(self.s2.st) == 0:\n",
    "                while len(self.s1.st)>0:\n",
    "                    alpha = self.s1.pop()\n",
    "                    self.s2.push(alpha)\n",
    "                \n",
    "            popNode = self.s2.pop()\n",
    "            return popNode"
   ]
  },
  {
   "cell_type": "code",
   "execution_count": 80,
   "id": "0210e5bc",
   "metadata": {},
   "outputs": [
    {
     "name": "stdout",
     "output_type": "stream",
     "text": [
      "5\n",
      "6\n"
     ]
    }
   ],
   "source": [
    "q = Queue()\n",
    "q.enque(5)\n",
    "q.enque(6)\n",
    "q.enque(7)\n",
    "q.enque(8)\n",
    "print(q.deque())\n",
    "print(q.deque())"
   ]
  },
  {
   "cell_type": "code",
   "execution_count": 83,
   "id": "07b343f3",
   "metadata": {},
   "outputs": [],
   "source": [
    "class Node:\n",
    "    def __init__(self,data):\n",
    "        self.val = data\n",
    "        self.next = None\n",
    "        \n",
    "class Stack:\n",
    "    def __init__(self):\n",
    "        self.top = None\n",
    "        \n",
    "    def push(self,data):\n",
    "        newNode = Node(data)\n",
    "        newNode.next = self.top\n",
    "        self.top = newNode\n",
    "     \n",
    "    def pop(self):\n",
    "        if self.top == None:\n",
    "            return None\n",
    "        else:\n",
    "            popNode = self.top\n",
    "            self.top = self.top.next\n",
    "            return popNode\n",
    "        \n",
    "    def printStack(self):\n",
    "        t = self.top\n",
    "        while t!=None:\n",
    "            print(t.val,end=\" \")\n",
    "            t = t.next\n",
    "        print()    "
   ]
  },
  {
   "cell_type": "code",
   "execution_count": 86,
   "id": "b4dedc65",
   "metadata": {},
   "outputs": [
    {
     "name": "stdout",
     "output_type": "stream",
     "text": [
      "5 4 3 2 1 \n",
      "5\n",
      "4\n",
      "3 2 1 \n"
     ]
    }
   ],
   "source": [
    "s = Stack()\n",
    "nodes_val = [1,2,3,4,5]\n",
    "for i in nodes_val:\n",
    "    s.push(i)\n",
    "s.printStack()\n",
    "print(s.pop().val)\n",
    "print(s.pop().val)\n",
    "s.printStack()"
   ]
  },
  {
   "cell_type": "code",
   "execution_count": 87,
   "id": "a8f7dd03",
   "metadata": {},
   "outputs": [],
   "source": [
    "class Node:\n",
    "    def __init__(self,data):\n",
    "        self.val = data\n",
    "        self.next = None\n",
    "        \n",
    "class Queue:\n",
    "    def __init__(self):\n",
    "        self.front = None\n",
    "        self.rear = None\n",
    "        \n",
    "    def enqueue(self,data):\n",
    "        newNode = Node(data)\n",
    "        if self.rear == None:\n",
    "            self.front = self.rear = newNode\n",
    "        else:\n",
    "            self.rear.next = newNode\n",
    "            self.rear = newNode\n",
    "     \n",
    "    def dequeue(self):\n",
    "        if self.front == None:\n",
    "            return None\n",
    "        else:\n",
    "            popNode = self.front\n",
    "            self.front = self.front.next\n",
    "            if self.front == None:\n",
    "                self.rear = None\n",
    "            return popNode\n",
    "        \n",
    "    def printStack(self):\n",
    "        t = self.front\n",
    "        while t!=None:\n",
    "            print(t.val,end=\" \")\n",
    "            t = t.next\n",
    "        print()    "
   ]
  },
  {
   "cell_type": "code",
   "execution_count": 89,
   "id": "46b9a822",
   "metadata": {},
   "outputs": [
    {
     "name": "stdout",
     "output_type": "stream",
     "text": [
      "1 2 3 4 5 \n",
      "1\n",
      "2\n",
      "3 4 5 \n"
     ]
    }
   ],
   "source": [
    "q = Queue()\n",
    "nodes_val = [1,2,3,4,5]\n",
    "for i in nodes_val:\n",
    "    q.enqueue(i)\n",
    "q.printStack()\n",
    "print(q.dequeue().val)\n",
    "print(q.dequeue().val)\n",
    "q.printStack()"
   ]
  },
  {
   "cell_type": "code",
   "execution_count": null,
   "id": "a2cfce68",
   "metadata": {},
   "outputs": [],
   "source": []
  }
 ],
 "metadata": {
  "kernelspec": {
   "display_name": "Python 3",
   "language": "python",
   "name": "python3"
  },
  "language_info": {
   "codemirror_mode": {
    "name": "ipython",
    "version": 3
   },
   "file_extension": ".py",
   "mimetype": "text/x-python",
   "name": "python",
   "nbconvert_exporter": "python",
   "pygments_lexer": "ipython3",
   "version": "3.8.8"
  }
 },
 "nbformat": 4,
 "nbformat_minor": 5
}
