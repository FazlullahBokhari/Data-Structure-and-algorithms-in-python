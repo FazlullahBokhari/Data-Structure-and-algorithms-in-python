{
 "cells": [
  {
   "cell_type": "code",
   "execution_count": 1,
   "id": "15d2fee8",
   "metadata": {},
   "outputs": [],
   "source": [
    "def solve(start_time,end_time):\n",
    "    alpha = []\n",
    "    order = []\n",
    "    last_time = -1\n",
    "    n = len(start_time)\n",
    "    for i in range(n):\n",
    "        alpha.append([start_time[i],end_time[i]])\n",
    "    alpha.sort(key=lambda x:x[1]) \n",
    "    for i in range(n):\n",
    "        if alpha[i][0] > last_time:\n",
    "            order.append(alpha[i])\n",
    "            last_time = alpha[i][1]\n",
    "    return order         "
   ]
  },
  {
   "cell_type": "code",
   "execution_count": 2,
   "id": "65287bd4",
   "metadata": {},
   "outputs": [
    {
     "data": {
      "text/plain": [
       "[[1, 2], [3, 4], [5, 7], [8, 9]]"
      ]
     },
     "execution_count": 2,
     "metadata": {},
     "output_type": "execute_result"
    }
   ],
   "source": [
    "start_time = [1,3,0,5,8,5]\n",
    "end_time = [2,4,6,7,9,9]\n",
    "solve(start_time,end_time)"
   ]
  },
  {
   "cell_type": "code",
   "execution_count": 7,
   "id": "ac71148b",
   "metadata": {},
   "outputs": [],
   "source": [
    "def minCoins(v,deno):\n",
    "    deno.sort()\n",
    "    n = len(deno)\n",
    "    ans = []\n",
    "    i = n-1\n",
    "    while i>=0:\n",
    "        while v>=deno[i]:\n",
    "            v = v - deno[i]\n",
    "            ans.append(deno[i])\n",
    "        i -=1\n",
    "    return ans    "
   ]
  },
  {
   "cell_type": "code",
   "execution_count": 8,
   "id": "7d1ec4cd",
   "metadata": {},
   "outputs": [
    {
     "data": {
      "text/plain": [
       "[50, 20, 20, 2, 1]"
      ]
     },
     "execution_count": 8,
     "metadata": {},
     "output_type": "execute_result"
    }
   ],
   "source": [
    "v = 93\n",
    "deno = [1,2000,500,2,10,20,50,100,5]\n",
    "minCoins(v,deno)"
   ]
  },
  {
   "cell_type": "code",
   "execution_count": 26,
   "id": "8200ddf5",
   "metadata": {},
   "outputs": [],
   "source": [
    "def knapsack(wt,values,weight):\n",
    "    n = len(values)\n",
    "    items = []\n",
    "    for i in range(n):\n",
    "        items.append([values[i]/weight[i],i])\n",
    "    items.sort(key=lambda j:j[0],reverse=True)\n",
    "    print(items)\n",
    "    profit = 0\n",
    "    for i in range(n):\n",
    "        if wt>0:\n",
    "            idx = items[i][1]\n",
    "            if wt >= weight[idx]:\n",
    "                profit += values[idx]\n",
    "                wt -= weight[idx]\n",
    "            else:\n",
    "                profit += items[i][0]*wt\n",
    "                wt = 0\n",
    "        else:\n",
    "            break\n",
    "    return profit         "
   ]
  },
  {
   "cell_type": "code",
   "execution_count": 27,
   "id": "ed17b498",
   "metadata": {},
   "outputs": [
    {
     "name": "stdout",
     "output_type": "stream",
     "text": [
      "[[6.0, 0], [5.0, 1], [4.0, 2]]\n"
     ]
    },
    {
     "data": {
      "text/plain": [
       "240.0"
      ]
     },
     "execution_count": 27,
     "metadata": {},
     "output_type": "execute_result"
    }
   ],
   "source": [
    "wt = 50\n",
    "values = [60,100,120]\n",
    "weight = [10,20,30]\n",
    "knapsack(wt,values,weight)"
   ]
  },
  {
   "cell_type": "code",
   "execution_count": null,
   "id": "4b8fac79",
   "metadata": {},
   "outputs": [],
   "source": []
  }
 ],
 "metadata": {
  "kernelspec": {
   "display_name": "Python 3",
   "language": "python",
   "name": "python3"
  },
  "language_info": {
   "codemirror_mode": {
    "name": "ipython",
    "version": 3
   },
   "file_extension": ".py",
   "mimetype": "text/x-python",
   "name": "python",
   "nbconvert_exporter": "python",
   "pygments_lexer": "ipython3",
   "version": "3.8.8"
  }
 },
 "nbformat": 4,
 "nbformat_minor": 5
}
