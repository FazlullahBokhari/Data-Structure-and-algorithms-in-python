{
 "cells": [
  {
   "cell_type": "code",
   "execution_count": 1,
   "id": "ebd2adef",
   "metadata": {},
   "outputs": [],
   "source": [
    "class MaxHeap:\n",
    "    def __init__(self,items=[]):\n",
    "        self.heap = [0]\n",
    "        for i in items:\n",
    "            self.heap.append(i)\n",
    "            self.__floatUp(len(self.heap)-1)\n",
    "       \n",
    "    def __floatUp(self,index):\n",
    "        parent = index//2\n",
    "        if index<=1:\n",
    "            return\n",
    "        elif self.heap[index]>self.heap[parent]:\n",
    "            self.__swap(index,parent)\n",
    "            self.__floatUp(parent)\n",
    "            \n",
    "    def __swap(self,i,j):\n",
    "        self.heap[i],self.heap[j] = self.heap[j],self.heap[i]\n",
    "        \n",
    "    def push(self,data):\n",
    "        self.heap.append(data)\n",
    "        self.__floatUp(len(self.heap)-1)\n",
    "     \n",
    "    def pop(self):\n",
    "        if len(self.heap)>2:\n",
    "            self.__swap(1,len(self.heap)-1)\n",
    "            max = self.heap.pop()\n",
    "            self.__bubbleDown(1)\n",
    "        elif len(self.heap) == 2:\n",
    "            max = self.heap.pop()\n",
    "        else:\n",
    "            max = False\n",
    "        return max\n",
    "    def __bubbleDown(self,index):\n",
    "        left = index*2\n",
    "        right = 2*index+1\n",
    "        largest = index\n",
    "        if len(self.heap)>left and self.heap[largest]<self.heap[left]:\n",
    "            largest = left\n",
    "        if len(self.heap)>right and self.heap[largest]<self.heap[right]:\n",
    "            largest = right\n",
    "        if index != largest:\n",
    "            self.__swap(index,largest)\n",
    "            self.__bubbleDown(largest)\n",
    "    \n",
    "    def peek(self):\n",
    "        if self.heap[1]:\n",
    "            return self.heap[1]\n",
    "        return False\n",
    "    \n",
    "    def heapSort(self):\n",
    "        arr = []\n",
    "        for i in range(0,len(self.heap)-1):\n",
    "            arr.append(self.pop())\n",
    "        return arr    "
   ]
  },
  {
   "cell_type": "code",
   "execution_count": 2,
   "id": "fda8cd95",
   "metadata": {},
   "outputs": [
    {
     "name": "stdout",
     "output_type": "stream",
     "text": [
      "[0, 96, 2, 78, 1]\n",
      "[0, 109, 96, 78, 1, 2]\n",
      "[0, 96, 2, 78, 1]\n",
      "96\n",
      "[96, 78, 2, 1]\n"
     ]
    }
   ],
   "source": [
    "arr = [1,96,78,2]\n",
    "maxHeap = MaxHeap(arr)\n",
    "print(maxHeap.heap)\n",
    "maxHeap.push(109)\n",
    "print(maxHeap.heap)\n",
    "maxHeap.pop()\n",
    "print(maxHeap.heap)\n",
    "print(maxHeap.peek())\n",
    "print(maxHeap.heapSort())"
   ]
  },
  {
   "cell_type": "code",
   "execution_count": 3,
   "id": "392936f7",
   "metadata": {},
   "outputs": [],
   "source": [
    "def kthSmallest(arr,k):\n",
    "    m = MaxHeap(arr)\n",
    "    heapCopy = m.heap\n",
    "    while len(heapCopy)>k+1:\n",
    "        m.pop()\n",
    "    return m.peek()    "
   ]
  },
  {
   "cell_type": "code",
   "execution_count": 4,
   "id": "a654b0fd",
   "metadata": {},
   "outputs": [
    {
     "data": {
      "text/plain": [
       "3"
      ]
     },
     "execution_count": 4,
     "metadata": {},
     "output_type": "execute_result"
    }
   ],
   "source": [
    "arr = [1,5,2,8,3]\n",
    "k = 3\n",
    "kthSmallest(arr,k)"
   ]
  },
  {
   "cell_type": "code",
   "execution_count": 5,
   "id": "3b14ba76",
   "metadata": {},
   "outputs": [],
   "source": [
    "def kthSmallest2(arr,k):\n",
    "    m = MaxHeap(arr)\n",
    "    for i in arr:\n",
    "        m.push(i)\n",
    "        if len(m.heap)-1>k:\n",
    "            m.pop()\n",
    "    return m.peek()    "
   ]
  },
  {
   "cell_type": "code",
   "execution_count": 6,
   "id": "efd344e0",
   "metadata": {},
   "outputs": [
    {
     "data": {
      "text/plain": [
       "3"
      ]
     },
     "execution_count": 6,
     "metadata": {},
     "output_type": "execute_result"
    }
   ],
   "source": [
    "arr = [1,5,2,8,3]\n",
    "k = 3\n",
    "kthSmallest2(arr,k)"
   ]
  },
  {
   "cell_type": "code",
   "execution_count": 7,
   "id": "f0fb9bfd",
   "metadata": {},
   "outputs": [],
   "source": [
    "def kSmallest(arr,k):\n",
    "    m = MaxHeap()\n",
    "    for i in arr:\n",
    "        m.push(i)\n",
    "        if len(m.heap)-1>k:\n",
    "            m.pop()\n",
    "    return m.heap[1:]   "
   ]
  },
  {
   "cell_type": "code",
   "execution_count": 8,
   "id": "0dc231e0",
   "metadata": {},
   "outputs": [
    {
     "data": {
      "text/plain": [
       "[3, 1, 2]"
      ]
     },
     "execution_count": 8,
     "metadata": {},
     "output_type": "execute_result"
    }
   ],
   "source": [
    "arr = [1,5,2,8,3]\n",
    "k = 3\n",
    "kSmallest(arr,k)"
   ]
  },
  {
   "cell_type": "code",
   "execution_count": 9,
   "id": "0ef9d4b0",
   "metadata": {},
   "outputs": [],
   "source": [
    "class MinHeap:\n",
    "    def __init__(self,items=[]):\n",
    "        self.heap = [0]\n",
    "        for i in items:\n",
    "            self.heap.append(i)\n",
    "            self.__floatUp(len(self.heap)-1)\n",
    "       \n",
    "    def __floatUp(self,index):\n",
    "        parent = index//2\n",
    "        if index<=1:\n",
    "            return\n",
    "        elif self.heap[index]<self.heap[parent]:\n",
    "            self.__swap(index,parent)\n",
    "            self.__floatUp(parent)\n",
    "            \n",
    "    def __swap(self,i,j):\n",
    "        self.heap[i],self.heap[j] = self.heap[j],self.heap[i]\n",
    "        \n",
    "    def push(self,data):\n",
    "        self.heap.append(data)\n",
    "        self.__floatUp(len(self.heap)-1)\n",
    "     \n",
    "    def pop(self):\n",
    "        if len(self.heap)>2:\n",
    "            self.__swap(1,len(self.heap)-1)\n",
    "            max = self.heap.pop()\n",
    "            self.__bubbleDown(1)\n",
    "        elif len(self.heap) == 2:\n",
    "            max = self.heap.pop()\n",
    "        else:\n",
    "            max = False\n",
    "        return max\n",
    "    def __bubbleDown(self,index):\n",
    "        left = index*2\n",
    "        right = 2*index+1\n",
    "        smallest = index\n",
    "        if len(self.heap)>left and self.heap[smallest]>self.heap[left]:\n",
    "            smallest = left\n",
    "        if len(self.heap)>right and self.heap[smallest]>self.heap[right]:\n",
    "            smallest = right\n",
    "        if index != smallest:\n",
    "            self.__swap(index,smallest)\n",
    "            self.__bubbleDown(smallest)\n",
    "    \n",
    "    def peek(self):\n",
    "        if self.heap[1]:\n",
    "            return self.heap[1]\n",
    "        return False\n",
    "    \n",
    "    def heapSort(self):\n",
    "        arr = []\n",
    "        for i in range(0,len(self.heap)-1):\n",
    "            arr.append(self.pop())\n",
    "        return arr    "
   ]
  },
  {
   "cell_type": "code",
   "execution_count": 10,
   "id": "3dedfd8f",
   "metadata": {},
   "outputs": [
    {
     "name": "stdout",
     "output_type": "stream",
     "text": [
      "[0, 1, 2, 78, 96]\n",
      "[0, -1, 1, 78, 96, 2]\n",
      "[0, 1, 2, 78, 96]\n",
      "1\n",
      "[1, 2, 78, 96]\n"
     ]
    }
   ],
   "source": [
    "arr = [1,96,78,2]\n",
    "minHeap = MinHeap(arr)\n",
    "print(minHeap.heap)\n",
    "minHeap.push(-1)\n",
    "print(minHeap.heap)\n",
    "minHeap.pop()\n",
    "print(minHeap.heap)\n",
    "print(minHeap.peek())\n",
    "print(minHeap.heapSort())"
   ]
  },
  {
   "cell_type": "code",
   "execution_count": 11,
   "id": "96c07791",
   "metadata": {},
   "outputs": [],
   "source": [
    "def kthLargest(arr,k):\n",
    "    m = MinHeap(arr)\n",
    "    heapCopy = m.heap\n",
    "    while len(heapCopy)>k+1:\n",
    "        m.pop()\n",
    "    return m.peek()    "
   ]
  },
  {
   "cell_type": "code",
   "execution_count": 12,
   "id": "83563275",
   "metadata": {},
   "outputs": [
    {
     "data": {
      "text/plain": [
       "4"
      ]
     },
     "execution_count": 12,
     "metadata": {},
     "output_type": "execute_result"
    }
   ],
   "source": [
    "arr = [1,5,2,8,3,4]\n",
    "k = 3\n",
    "kthLargest(arr,k)"
   ]
  },
  {
   "cell_type": "code",
   "execution_count": 13,
   "id": "0c274e88",
   "metadata": {},
   "outputs": [],
   "source": [
    "def kthLargest2(arr,k):\n",
    "    m = MinHeap(arr)\n",
    "    for i in arr:\n",
    "        m.push(i)\n",
    "        if len(m.heap)-1>k:\n",
    "            m.pop()\n",
    "    return m.peek()    "
   ]
  },
  {
   "cell_type": "code",
   "execution_count": 14,
   "id": "8604357d",
   "metadata": {},
   "outputs": [
    {
     "data": {
      "text/plain": [
       "3"
      ]
     },
     "execution_count": 14,
     "metadata": {},
     "output_type": "execute_result"
    }
   ],
   "source": [
    "arr = [1,5,2,8,3]\n",
    "k = 3\n",
    "kthLargest2(arr,k)"
   ]
  },
  {
   "cell_type": "code",
   "execution_count": 15,
   "id": "fdb1db9d",
   "metadata": {},
   "outputs": [],
   "source": [
    "def kLargest(arr,k):\n",
    "    m = MinHeap()\n",
    "    for i in arr:\n",
    "        m.push(i)\n",
    "        if len(m.heap)-1>k:\n",
    "            m.pop()\n",
    "    return m.heap[1:]  "
   ]
  },
  {
   "cell_type": "code",
   "execution_count": 16,
   "id": "1060c6fd",
   "metadata": {},
   "outputs": [
    {
     "data": {
      "text/plain": [
       "[3, 5, 8]"
      ]
     },
     "execution_count": 16,
     "metadata": {},
     "output_type": "execute_result"
    }
   ],
   "source": [
    "arr = [1,5,2,8,3]\n",
    "k = 3\n",
    "kLargest(arr,k)"
   ]
  },
  {
   "cell_type": "code",
   "execution_count": 17,
   "id": "963db4ce",
   "metadata": {},
   "outputs": [],
   "source": [
    "def kCLosest(arr,k,x):\n",
    "    m = MaxHeap()\n",
    "    for i in arr:\n",
    "        m.push(abs(i-x))\n",
    "        if len(m.heap)-1>k:\n",
    "            m.pop()\n",
    "    return m.heap[1:]         "
   ]
  },
  {
   "cell_type": "code",
   "execution_count": 18,
   "id": "73665de5",
   "metadata": {},
   "outputs": [
    {
     "data": {
      "text/plain": [
       "[1, 0, 1]"
      ]
     },
     "execution_count": 18,
     "metadata": {},
     "output_type": "execute_result"
    }
   ],
   "source": [
    "arr = [5,4,1,2,8,3]\n",
    "k = 3\n",
    "x = 4\n",
    "kCLosest(arr,k,x)"
   ]
  },
  {
   "cell_type": "code",
   "execution_count": 19,
   "id": "382e99ca",
   "metadata": {},
   "outputs": [],
   "source": [
    "def kCLosest2(arr,k,x):\n",
    "    m = MaxHeap()\n",
    "    mapAll = {}\n",
    "    for i in arr:\n",
    "        m.push(abs(i-x))\n",
    "        alpha = abs(i-x)\n",
    "        if alpha in mapAll:\n",
    "            mapAll[alpha].append(i)\n",
    "        else:\n",
    "            mapAll[alpha] = [i]\n",
    "        if len(m.heap)-1>k:\n",
    "            m.pop()\n",
    "    print(mapAll)        \n",
    "    heap = list(set(m.heap[1:]))\n",
    "    print(heap)\n",
    "    l = []\n",
    "    while len(heap)>0:\n",
    "        l.extend(mapAll[heap[0]])\n",
    "        heap.pop(0)\n",
    "    return l    "
   ]
  },
  {
   "cell_type": "code",
   "execution_count": 20,
   "id": "6761bec8",
   "metadata": {},
   "outputs": [
    {
     "name": "stdout",
     "output_type": "stream",
     "text": [
      "{1: [5, 3], 0: [4], 3: [1], 2: [2], 4: [8]}\n",
      "[0, 1]\n"
     ]
    },
    {
     "data": {
      "text/plain": [
       "[4, 5, 3]"
      ]
     },
     "execution_count": 20,
     "metadata": {},
     "output_type": "execute_result"
    }
   ],
   "source": [
    "arr = [5,4,1,2,8,3]\n",
    "k = 3\n",
    "x = 4\n",
    "kCLosest2(arr,k,x)"
   ]
  },
  {
   "cell_type": "code",
   "execution_count": 21,
   "id": "26798f8c",
   "metadata": {},
   "outputs": [],
   "source": [
    "class MaxHeap:\n",
    "    def __init__(self,items=[]):\n",
    "        self.heap = [0]\n",
    "        for i in items:\n",
    "            self.heap.append(i)\n",
    "            self.__floatUp(len(self.heap)-1)\n",
    "       \n",
    "    def __floatUp(self,index):\n",
    "        parent = index//2\n",
    "        if index<=1:\n",
    "            return\n",
    "        elif self.heap[index][0]>self.heap[parent][0]:\n",
    "            self.__swap(index,parent)\n",
    "            self.__floatUp(parent)\n",
    "            \n",
    "    def __swap(self,i,j):\n",
    "        self.heap[i],self.heap[j] = self.heap[j],self.heap[i]\n",
    "        \n",
    "    def push(self,data):\n",
    "        self.heap.append(data)\n",
    "        self.__floatUp(len(self.heap)-1)\n",
    "     \n",
    "    def pop(self):\n",
    "        if len(self.heap)>2:\n",
    "            self.__swap(1,len(self.heap)-1)\n",
    "            max = self.heap.pop()\n",
    "            self.__bubbleDown(1)\n",
    "        elif len(self.heap) == 2:\n",
    "            max = self.heap.pop()\n",
    "        else:\n",
    "            max = False\n",
    "        return max\n",
    "    def __bubbleDown(self,index):\n",
    "        left = index*2\n",
    "        right = 2*index+1\n",
    "        largest = index\n",
    "        if len(self.heap)>left and self.heap[largest][0]<self.heap[left][0]:\n",
    "            largest = left\n",
    "        if len(self.heap)>right and self.heap[largest][0]<self.heap[right][0]:\n",
    "            largest = right\n",
    "        if index != largest:\n",
    "            self.__swap(index,largest)\n",
    "            self.__bubbleDown(largest)\n",
    "    \n",
    "    def peek(self):\n",
    "        if self.heap[1]:\n",
    "            return self.heap[1]\n",
    "        return False\n",
    "    \n",
    "    def heapSort(self):\n",
    "        arr = []\n",
    "        for i in range(0,len(self.heap)-1):\n",
    "            arr.append(self.pop())\n",
    "        return arr  \n",
    "    "
   ]
  },
  {
   "cell_type": "code",
   "execution_count": 22,
   "id": "25058251",
   "metadata": {},
   "outputs": [
    {
     "name": "stdout",
     "output_type": "stream",
     "text": [
      "[0, [96, 'c'], [1, 'a'], [2, 'b']]\n",
      "[0, [109, 'd'], [96, 'c'], [2, 'b'], [1, 'a']]\n",
      "[0, [96, 'c'], [1, 'a'], [2, 'b']]\n",
      "[96, 'c']\n",
      "[[96, 'c'], [2, 'b'], [1, 'a']]\n"
     ]
    }
   ],
   "source": [
    "arr = [[1,'a'],[2,'b'],[96,'c']]\n",
    "maxHeap = MaxHeap(arr)\n",
    "print(maxHeap.heap)\n",
    "maxHeap.push([109,'d'])\n",
    "print(maxHeap.heap)\n",
    "maxHeap.pop()\n",
    "print(maxHeap.heap)\n",
    "print(maxHeap.peek())\n",
    "print(maxHeap.heapSort())"
   ]
  },
  {
   "cell_type": "code",
   "execution_count": 23,
   "id": "b196bcad",
   "metadata": {},
   "outputs": [],
   "source": [
    "def kCLosestWithoutMap(arr,k,x):\n",
    "        m = MaxHeap()\n",
    "        for i in range(len(arr)):\n",
    "            m.push([abs(arr[i]-x),arr[i]])\n",
    "            if len(m.heap)-1>k:\n",
    "                m.pop()\n",
    "        l = []    \n",
    "        heap = m.heap[1:]\n",
    "        print(heap)\n",
    "        while len(heap)>0:\n",
    "            l.append(heap[0][1])\n",
    "            heap.pop(0)\n",
    "        return l          "
   ]
  },
  {
   "cell_type": "code",
   "execution_count": 24,
   "id": "9e01e021",
   "metadata": {},
   "outputs": [
    {
     "name": "stdout",
     "output_type": "stream",
     "text": [
      "[[1, 3], [0, 4], [1, 5]]\n"
     ]
    },
    {
     "data": {
      "text/plain": [
       "[3, 4, 5]"
      ]
     },
     "execution_count": 24,
     "metadata": {},
     "output_type": "execute_result"
    }
   ],
   "source": [
    "arr = [5,4,1,2,8,3]\n",
    "k = 3\n",
    "x = 4\n",
    "kCLosestWithoutMap(arr,k,x)"
   ]
  },
  {
   "cell_type": "code",
   "execution_count": 25,
   "id": "5a561279",
   "metadata": {},
   "outputs": [],
   "source": [
    "class MinHeap:\n",
    "    def __init__(self,items=[]):\n",
    "        self.heap = [0]\n",
    "        for i in items:\n",
    "            self.heap.append(i)\n",
    "            self.__floatUp(len(self.heap)-1)\n",
    "       \n",
    "    def __floatUp(self,index):\n",
    "        parent = index//2\n",
    "        if index<=1:\n",
    "            return\n",
    "        elif self.heap[index][0]<self.heap[parent][0]:\n",
    "            self.__swap(index,parent)\n",
    "            self.__floatUp(parent)\n",
    "            \n",
    "    def __swap(self,i,j):\n",
    "        self.heap[i],self.heap[j] = self.heap[j],self.heap[i]\n",
    "        \n",
    "    def push(self,data):\n",
    "        self.heap.append(data)\n",
    "        self.__floatUp(len(self.heap)-1)\n",
    "     \n",
    "    def pop(self):\n",
    "        if len(self.heap)>2:\n",
    "            self.__swap(1,len(self.heap)-1)\n",
    "            max = self.heap.pop()\n",
    "            self.__bubbleDown(1)\n",
    "        elif len(self.heap) == 2:\n",
    "            max = self.heap.pop()\n",
    "        else:\n",
    "            max = False\n",
    "        return max\n",
    "    def __bubbleDown(self,index):\n",
    "        left = index*2\n",
    "        right = 2*index+1\n",
    "        smallest = index\n",
    "        if len(self.heap)>left and self.heap[smallest][0]>self.heap[left][0]:\n",
    "            smallest = left\n",
    "        if len(self.heap)>right and self.heap[smallest][0]>self.heap[right][0]:\n",
    "            smallest = right\n",
    "        if index != smallest:\n",
    "            self.__swap(index,smallest)\n",
    "            self.__bubbleDown(smallest)\n",
    "    \n",
    "    def peek(self):\n",
    "        if self.heap[1]:\n",
    "            return self.heap[1]\n",
    "        return False\n",
    "    \n",
    "    def heapSort(self):\n",
    "        arr = []\n",
    "        for i in range(0,len(self.heap)-1):\n",
    "            arr.append(self.pop())\n",
    "        return arr    "
   ]
  },
  {
   "cell_type": "code",
   "execution_count": 26,
   "id": "193dd6d4",
   "metadata": {},
   "outputs": [
    {
     "name": "stdout",
     "output_type": "stream",
     "text": [
      "[0, [1, 'abc'], [96, 'b']]\n",
      "[0, [-1, 'h'], [96, 'b'], [1, 'abc']]\n",
      "[0, [1, 'abc'], [96, 'b']]\n",
      "[1, 'abc']\n",
      "[[1, 'abc'], [96, 'b']]\n"
     ]
    }
   ],
   "source": [
    "arr = [[1,'abc'],[96,'b']]\n",
    "minHeap = MinHeap(arr)\n",
    "print(minHeap.heap)\n",
    "minHeap.push([-1,'h'])\n",
    "print(minHeap.heap)\n",
    "minHeap.pop()\n",
    "print(minHeap.heap)\n",
    "print(minHeap.peek())\n",
    "print(minHeap.heapSort())"
   ]
  },
  {
   "cell_type": "code",
   "execution_count": 27,
   "id": "e96a8c70",
   "metadata": {},
   "outputs": [],
   "source": [
    "def topKFrequent(arr,k):\n",
    "    m = MinHeap()\n",
    "    count = {}\n",
    "    for i in arr:\n",
    "        if i in count:\n",
    "            count[i] = count[i]+1\n",
    "        else:\n",
    "            count[i] =1\n",
    "    print(count)\n",
    "    for key, value in count.items():\n",
    "        m.push([value,key])\n",
    "        if len(m.heap)-1>k:\n",
    "            m.pop()\n",
    "    heap = m.heap[1:]\n",
    "    l =[]\n",
    "    while len(heap)>0:\n",
    "        l.append(heap[0][1])\n",
    "        heap.pop(0)\n",
    "    return l    "
   ]
  },
  {
   "cell_type": "code",
   "execution_count": 28,
   "id": "894a06a1",
   "metadata": {},
   "outputs": [
    {
     "name": "stdout",
     "output_type": "stream",
     "text": [
      "{1: 5, 2: 3, 3: 1}\n"
     ]
    },
    {
     "data": {
      "text/plain": [
       "[2, 1]"
      ]
     },
     "execution_count": 28,
     "metadata": {},
     "output_type": "execute_result"
    }
   ],
   "source": [
    "arr = [1,1,1,1,1,2,2,2,3]\n",
    "k = 2\n",
    "topKFrequent(arr,k)"
   ]
  },
  {
   "cell_type": "code",
   "execution_count": 32,
   "id": "95ab9555",
   "metadata": {},
   "outputs": [],
   "source": [
    "def frequencySort(arr):\n",
    "    m = MaxHeap()\n",
    "    count = {}\n",
    "    for i in arr:\n",
    "        if i in count:\n",
    "            count[i] = count[i] + 1 \n",
    "        else:\n",
    "            count[i] = 1\n",
    "    print(count)\n",
    "    for key,value in count.items():\n",
    "        m.push([value,key])\n",
    "    ans = []\n",
    "    while len(m.heap)>1:\n",
    "        c = m.pop()\n",
    "        for _ in range(c[0]):\n",
    "            ans.append(c[1])\n",
    "    return ans          "
   ]
  },
  {
   "cell_type": "code",
   "execution_count": 33,
   "id": "bd934ac8",
   "metadata": {},
   "outputs": [
    {
     "name": "stdout",
     "output_type": "stream",
     "text": [
      "{1: 9, 2: 6, 3: 3, 4: 4}\n"
     ]
    },
    {
     "data": {
      "text/plain": [
       "[1, 1, 1, 1, 1, 1, 1, 1, 1, 2, 2, 2, 2, 2, 2, 4, 4, 4, 4, 3, 3, 3]"
      ]
     },
     "execution_count": 33,
     "metadata": {},
     "output_type": "execute_result"
    }
   ],
   "source": [
    "arr = [1,1,1,2,2,2,2,2,2,1,1,1,1,1,1,3,4,4,3,3,4,4]\n",
    "frequencySort(arr)"
   ]
  },
  {
   "cell_type": "code",
   "execution_count": 48,
   "id": "f9ea02e8",
   "metadata": {},
   "outputs": [],
   "source": [
    "def kClosestPoints(points,k):\n",
    "    m = MaxHeap()\n",
    "    for point in points:\n",
    "        x = point[0]\n",
    "        y = point[1]\n",
    "        dist = (x**2+y**2)**(0.5)\n",
    "        m.push([dist,point])\n",
    "        if len(m.heap)-1>k:\n",
    "            m.pop()\n",
    "        ans = []\n",
    "    for i in m.heap[1:]:\n",
    "        ans.append(i[1])\n",
    "    return ans    "
   ]
  },
  {
   "cell_type": "code",
   "execution_count": 49,
   "id": "37df3e2a",
   "metadata": {},
   "outputs": [
    {
     "data": {
      "text/plain": [
       "[[-2, 2], [-1, -1]]"
      ]
     },
     "execution_count": 49,
     "metadata": {},
     "output_type": "execute_result"
    }
   ],
   "source": [
    "points = [[1,3],[-2,2],[-1,-1],[4,4]]\n",
    "k = 2\n",
    "kClosestPoints(points,k)"
   ]
  },
  {
   "cell_type": "code",
   "execution_count": null,
   "id": "11dce504",
   "metadata": {},
   "outputs": [],
   "source": []
  },
  {
   "cell_type": "code",
   "execution_count": null,
   "id": "938165c4",
   "metadata": {},
   "outputs": [],
   "source": []
  }
 ],
 "metadata": {
  "kernelspec": {
   "display_name": "Python 3",
   "language": "python",
   "name": "python3"
  },
  "language_info": {
   "codemirror_mode": {
    "name": "ipython",
    "version": 3
   },
   "file_extension": ".py",
   "mimetype": "text/x-python",
   "name": "python",
   "nbconvert_exporter": "python",
   "pygments_lexer": "ipython3",
   "version": "3.8.8"
  }
 },
 "nbformat": 4,
 "nbformat_minor": 5
}
