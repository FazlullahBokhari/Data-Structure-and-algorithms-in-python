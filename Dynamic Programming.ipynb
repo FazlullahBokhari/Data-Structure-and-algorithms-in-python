{
 "cells": [
  {
   "cell_type": "code",
   "execution_count": 1,
   "id": "9a285327",
   "metadata": {},
   "outputs": [],
   "source": [
    "def fib(n):\n",
    "    if n==1:\n",
    "        return 0\n",
    "    elif n==2:\n",
    "        return 1\n",
    "    else:\n",
    "        return  fib(n-1)+fib(n-2)"
   ]
  },
  {
   "cell_type": "code",
   "execution_count": 2,
   "id": "d1f9eb3a",
   "metadata": {},
   "outputs": [
    {
     "data": {
      "text/plain": [
       "5"
      ]
     },
     "execution_count": 2,
     "metadata": {},
     "output_type": "execute_result"
    }
   ],
   "source": [
    "n=6\n",
    "fib(n)"
   ]
  },
  {
   "cell_type": "code",
   "execution_count": 3,
   "id": "2feed108",
   "metadata": {},
   "outputs": [],
   "source": [
    "def fib2(n,dp):\n",
    "    if dp[n] != -1:\n",
    "        return dp[n]\n",
    "    if n==1:\n",
    "        dp[n] = 0\n",
    "        return dp[n]\n",
    "    elif n==2:\n",
    "        dp[n] = 1\n",
    "        return dp[n]\n",
    "    dp[n] = fib2(n-1,dp)+fib2(n-2,dp)\n",
    "    return dp[n]"
   ]
  },
  {
   "cell_type": "code",
   "execution_count": 4,
   "id": "2683861f",
   "metadata": {},
   "outputs": [
    {
     "data": {
      "text/plain": [
       "5"
      ]
     },
     "execution_count": 4,
     "metadata": {},
     "output_type": "execute_result"
    }
   ],
   "source": [
    "n=6\n",
    "dp = []\n",
    "for _ in range(n+1):\n",
    "    dp.append(-1)\n",
    "fib2(n,dp)"
   ]
  },
  {
   "cell_type": "code",
   "execution_count": 5,
   "id": "d2110e26",
   "metadata": {},
   "outputs": [],
   "source": [
    "def fib3(n):\n",
    "    arr = [0,1]\n",
    "    for i in range(2,n):\n",
    "        arr.append(arr[i-1]+arr[i-2])\n",
    "    return arr[n-1]    "
   ]
  },
  {
   "cell_type": "code",
   "execution_count": 6,
   "id": "45fac47f",
   "metadata": {},
   "outputs": [
    {
     "data": {
      "text/plain": [
       "5"
      ]
     },
     "execution_count": 6,
     "metadata": {},
     "output_type": "execute_result"
    }
   ],
   "source": [
    "n = 6\n",
    "fib(n)"
   ]
  },
  {
   "cell_type": "code",
   "execution_count": 7,
   "id": "aa1c1f7d",
   "metadata": {},
   "outputs": [],
   "source": [
    "def knapsack(weight,value,wt,n):\n",
    "    if n==0 or wt==0:\n",
    "        return 0\n",
    "    if weight[n-1]<=wt:\n",
    "        return max(value[n-1]+knapsack(weight,value,wt-weight[n-1],n-1),knapsack(weight,value,wt,n-1))\n",
    "    elif weight[n-1]>wt:\n",
    "        return knapsack(weight,value,wt,n-1)"
   ]
  },
  {
   "cell_type": "code",
   "execution_count": 8,
   "id": "4cafa8e4",
   "metadata": {},
   "outputs": [
    {
     "data": {
      "text/plain": [
       "9"
      ]
     },
     "execution_count": 8,
     "metadata": {},
     "output_type": "execute_result"
    }
   ],
   "source": [
    "weight = [1,3,4,5]\n",
    "value = [1,4,5,7]\n",
    "wt = 7\n",
    "n = len(weight)\n",
    "knapsack(weight,value,wt,n)"
   ]
  },
  {
   "cell_type": "code",
   "execution_count": 9,
   "id": "297e6e2f",
   "metadata": {},
   "outputs": [],
   "source": [
    "def knapsack2(weight,value,wt,n,dp):\n",
    "    if n==0 or wt==0:\n",
    "        return 0\n",
    "    if dp[n][wt] != -1:\n",
    "        return dp[n][wt]\n",
    "    if weight[n-1]<=wt:\n",
    "        dp[n][wt] = max(value[n-1]+knapsack2(weight,value,wt-weight[n-1],n-1,dp),knapsack2(weight,value,wt,n-1,dp))\n",
    "        \n",
    "        return dp[n][wt]\n",
    "    elif weight[n-1]>wt:\n",
    "        dp[n][wt] = knapsack2(weight,value,wt,n-1,dp)\n",
    "        return dp[n][wt]"
   ]
  },
  {
   "cell_type": "code",
   "execution_count": 10,
   "id": "3e120050",
   "metadata": {},
   "outputs": [
    {
     "data": {
      "text/plain": [
       "9"
      ]
     },
     "execution_count": 10,
     "metadata": {},
     "output_type": "execute_result"
    }
   ],
   "source": [
    "weight = [1,3,4,5]\n",
    "value = [1,4,5,7]\n",
    "wt = 7\n",
    "n = len(weight)\n",
    "dp = []\n",
    "for _ in range(n+1):\n",
    "    row = []\n",
    "    for __ in range(wt+1):\n",
    "        row.append(-1)\n",
    "    dp.append(row)   \n",
    "    \n",
    "knapsack2(weight,value,wt,n,dp)    "
   ]
  },
  {
   "cell_type": "code",
   "execution_count": 11,
   "id": "f5535bf1",
   "metadata": {},
   "outputs": [],
   "source": [
    "def knapsack3(weight,value,wt,n):\n",
    "    dp = []\n",
    "    for i in range(n+1):\n",
    "        row = []\n",
    "        for j in range(wt+1):\n",
    "            if i==0 or j==0:\n",
    "                row.append(0)\n",
    "            else:\n",
    "                row.append(-1)\n",
    "        dp.append(row)\n",
    "    for i in range(n+1):\n",
    "        for j in range(wt+1):\n",
    "            if weight[i-1]<=j:\n",
    "                dp[i][j] = max(\n",
    "                    value[i-1]+dp[i-1][j-weight[i-1]],\n",
    "                dp[i-1][j])\n",
    "            elif weight[i-1]>j:\n",
    "                dp[i][j] = dp[i-1][j]\n",
    "    return dp[-1][-1]    "
   ]
  },
  {
   "cell_type": "code",
   "execution_count": 12,
   "id": "b94cdd52",
   "metadata": {},
   "outputs": [
    {
     "data": {
      "text/plain": [
       "9"
      ]
     },
     "execution_count": 12,
     "metadata": {},
     "output_type": "execute_result"
    }
   ],
   "source": [
    "weight = [1,3,4,5]\n",
    "value = [1,4,5,7]\n",
    "wt = 7\n",
    "n = len(weight)\n",
    "knapsack3(weight,value,wt,n)"
   ]
  },
  {
   "cell_type": "code",
   "execution_count": 13,
   "id": "156f9f17",
   "metadata": {},
   "outputs": [],
   "source": [
    "def subsetSum(weight,wt,n):\n",
    "    dp = []\n",
    "    for i in range(n+1):\n",
    "        row = []\n",
    "        for j in range(wt+1):\n",
    "            if j==0:\n",
    "                row.append(True)\n",
    "            elif i==0:\n",
    "                row.append(False)\n",
    "            else:\n",
    "                row.append(-1)\n",
    "        dp.append(row)\n",
    "    for i in range(1,n+1):\n",
    "        for j in range(1,wt+1):\n",
    "            if weight[i-1]<=j:\n",
    "                dp[i][j] = dp[i-1][j-weight[i-1]] or dp[i-1][j]\n",
    "            elif weight[i-1]>j:\n",
    "                dp[i][j] = dp[i-1][j]\n",
    "    #for i in dp:\n",
    "     #   print(*i)\n",
    "    return dp[-1][-1]       "
   ]
  },
  {
   "cell_type": "code",
   "execution_count": 14,
   "id": "50f9fc4c",
   "metadata": {},
   "outputs": [
    {
     "data": {
      "text/plain": [
       "False"
      ]
     },
     "execution_count": 14,
     "metadata": {},
     "output_type": "execute_result"
    }
   ],
   "source": [
    "weight = [2,3,7,8,10]\n",
    "wt = 110\n",
    "n = len(weight)\n",
    "subsetSum(weight,wt,n)"
   ]
  },
  {
   "cell_type": "code",
   "execution_count": 15,
   "id": "a5878219",
   "metadata": {},
   "outputs": [],
   "source": [
    "def equalSumPart(arr):\n",
    "    if sum(arr)%2!=0:\n",
    "        return False\n",
    "    wt = sum(arr)//2\n",
    "    n = len(arr)\n",
    "    return subsetSum(arr,wt,n)"
   ]
  },
  {
   "cell_type": "code",
   "execution_count": 16,
   "id": "a3530d1b",
   "metadata": {},
   "outputs": [
    {
     "data": {
      "text/plain": [
       "False"
      ]
     },
     "execution_count": 16,
     "metadata": {},
     "output_type": "execute_result"
    }
   ],
   "source": [
    "arr = [2,3,7,8,10,2]\n",
    "equalSumPart(arr)"
   ]
  },
  {
   "cell_type": "code",
   "execution_count": 17,
   "id": "f9faf16f",
   "metadata": {},
   "outputs": [],
   "source": [
    "def subsetWithGivenSum(weight,wt,n):\n",
    "    dp = []\n",
    "    for i in range(n+1):\n",
    "        row = []\n",
    "        for j in range(wt+1):\n",
    "            if j==0:\n",
    "                row.append(1)\n",
    "            elif i==0:\n",
    "                row.append(0)\n",
    "            else:\n",
    "                row.append(-1)\n",
    "        dp.append(row)\n",
    "    for i in range(1,n+1):\n",
    "        for j in range(1,wt+1):\n",
    "            if weight[i-1]<=j:\n",
    "                dp[i][j] = dp[i-1][j-weight[i-1]] + dp[i-1][j]\n",
    "            elif weight[i-1]>j:\n",
    "                dp[i][j] = dp[i-1][j]\n",
    "    #for i in dp:\n",
    "     #   print(*i)\n",
    "    return dp[-1][-1]       "
   ]
  },
  {
   "cell_type": "code",
   "execution_count": 18,
   "id": "552ea7a3",
   "metadata": {},
   "outputs": [
    {
     "data": {
      "text/plain": [
       "3"
      ]
     },
     "execution_count": 18,
     "metadata": {},
     "output_type": "execute_result"
    }
   ],
   "source": [
    "arr = [2,3,7,8,10]\n",
    "suM = 10\n",
    "n = len(arr)\n",
    "subsetWithGivenSum(arr,suM,n)"
   ]
  },
  {
   "cell_type": "code",
   "execution_count": 19,
   "id": "50d15d8f",
   "metadata": {},
   "outputs": [],
   "source": [
    "def knapsack(weight,value,wt,n):\n",
    "    if n==0 or wt==0:\n",
    "        return 0\n",
    "    if weight[n-1]<=wt:\n",
    "        return max(value[n-1]+knapsack(weight,value,wt-weight[n-1],n),knapsack(weight,value,wt,n-1))\n",
    "    elif weight[n-1]>wt:\n",
    "        return knapsack(weight,value,wt,n-1)"
   ]
  },
  {
   "cell_type": "code",
   "execution_count": 20,
   "id": "da85e6cd",
   "metadata": {},
   "outputs": [
    {
     "data": {
      "text/plain": [
       "90"
      ]
     },
     "execution_count": 20,
     "metadata": {},
     "output_type": "execute_result"
    }
   ],
   "source": [
    "weight = [1,3,4,5]\n",
    "value = [1,4,5,30]\n",
    "wt = 15\n",
    "n = len(weight)\n",
    "knapsack(weight,value,wt,n)"
   ]
  },
  {
   "cell_type": "code",
   "execution_count": 21,
   "id": "4cc097ea",
   "metadata": {},
   "outputs": [],
   "source": [
    "def knapsack2(weight,value,wt,n,dp):\n",
    "    if n==0 or wt==0:\n",
    "        return 0\n",
    "    if dp[n][wt] != -1:\n",
    "        return dp[n][wt]\n",
    "    if weight[n-1]<=wt:\n",
    "        dp[n][wt] = max(value[n-1]+knapsack2(weight,value,wt-weight[n-1],n,dp),knapsack2(weight,value,wt,n-1,dp))\n",
    "        \n",
    "        return dp[n][wt]\n",
    "    elif weight[n-1]>wt:\n",
    "        dp[n][wt] = knapsack2(weight,value,wt,n-1,dp)\n",
    "        return dp[n][wt]"
   ]
  },
  {
   "cell_type": "code",
   "execution_count": 22,
   "id": "9ea4da99",
   "metadata": {},
   "outputs": [
    {
     "data": {
      "text/plain": [
       "90"
      ]
     },
     "execution_count": 22,
     "metadata": {},
     "output_type": "execute_result"
    }
   ],
   "source": [
    "weight = [1,3,4,5]\n",
    "value = [1,4,5,30]\n",
    "wt = 15\n",
    "n = len(weight)\n",
    "dp = []\n",
    "for _ in range(n+1):\n",
    "    row = []\n",
    "    for __ in range(wt+1):\n",
    "        row.append(-1)\n",
    "    dp.append(row)   \n",
    "    \n",
    "knapsack2(weight,value,wt,n,dp)    "
   ]
  },
  {
   "cell_type": "code",
   "execution_count": 23,
   "id": "33f4d0ca",
   "metadata": {},
   "outputs": [],
   "source": [
    "def knapsack3(weight,value,wt,n):\n",
    "    dp = []\n",
    "    for i in range(n+1):\n",
    "        row = []\n",
    "        for j in range(wt+1):\n",
    "            if i==0 or j==0:\n",
    "                row.append(0)\n",
    "            else:\n",
    "                row.append(-1)\n",
    "        dp.append(row)\n",
    "    for i in range(n+1):\n",
    "        for j in range(wt+1):\n",
    "            if weight[i-1]<=j:\n",
    "                dp[i][j] = max(\n",
    "                    value[i-1]+dp[i][j-weight[i-1]],\n",
    "                dp[i-1][j])\n",
    "            elif weight[i-1]>j:\n",
    "                dp[i][j] = dp[i-1][j]\n",
    "    return dp[-1][-1]    "
   ]
  },
  {
   "cell_type": "code",
   "execution_count": 24,
   "id": "9ed1c9c9",
   "metadata": {},
   "outputs": [
    {
     "data": {
      "text/plain": [
       "90"
      ]
     },
     "execution_count": 24,
     "metadata": {},
     "output_type": "execute_result"
    }
   ],
   "source": [
    "weight = [1,3,4,5]\n",
    "value = [1,4,5,30]\n",
    "wt = 15\n",
    "n = len(weight)\n",
    "knapsack3(weight,value,wt,n)"
   ]
  },
  {
   "cell_type": "code",
   "execution_count": 25,
   "id": "4ced8531",
   "metadata": {},
   "outputs": [],
   "source": [
    "\n",
    "def coinChangeMax(weight,wt,n):\n",
    "    dp = []\n",
    "    for i in range(n+1):\n",
    "        row = []\n",
    "        for j in range(wt+1):\n",
    "            if j==0:\n",
    "                row.append(1)\n",
    "            elif i==0:\n",
    "                row.append(0)\n",
    "            else:\n",
    "                row.append(-1)\n",
    "        dp.append(row)\n",
    "    for i in range(1,n+1):\n",
    "        for j in range(1,wt+1):\n",
    "            if weight[i-1]<=j:\n",
    "                dp[i][j] = dp[i][j-weight[i-1]]+dp[i-1][j]\n",
    "            elif weight[i-1]>j:\n",
    "                dp[i][j] = dp[i-1][j]\n",
    "    return dp[-1][-1]    "
   ]
  },
  {
   "cell_type": "code",
   "execution_count": 26,
   "id": "f35e17ed",
   "metadata": {},
   "outputs": [
    {
     "data": {
      "text/plain": [
       "5"
      ]
     },
     "execution_count": 26,
     "metadata": {},
     "output_type": "execute_result"
    }
   ],
   "source": [
    "weight = [1,2,3]\n",
    "value = [1,4,5,30]\n",
    "wt = 5\n",
    "n = len(weight)\n",
    "coinChangeMax(weight,wt,n)"
   ]
  },
  {
   "cell_type": "code",
   "execution_count": 27,
   "id": "7b22cf77",
   "metadata": {},
   "outputs": [],
   "source": [
    "import sys\n",
    "def coinChangeMin(weight,wt,n):\n",
    "    dp = []\n",
    "    for i in range(n+1):\n",
    "        row = []\n",
    "        for j in range(wt+1):\n",
    "            if j==0:\n",
    "                row.append(0)\n",
    "            elif i==0:\n",
    "                row.append(sys.maxsize)\n",
    "            else:\n",
    "                row.append(-1)\n",
    "        dp.append(row)\n",
    "    for i in range(1,n+1):\n",
    "        for j in range(1,wt+1):\n",
    "            if weight[i-1]<=j:\n",
    "                dp[i][j] = min(1+dp[i][j-weight[i-1]],dp[i-1][j])\n",
    "            elif weight[i-1]>j:\n",
    "                dp[i][j] = dp[i-1][j]\n",
    "    return dp[-1][-1]    "
   ]
  },
  {
   "cell_type": "code",
   "execution_count": 28,
   "id": "5cf734ca",
   "metadata": {},
   "outputs": [
    {
     "data": {
      "text/plain": [
       "2"
      ]
     },
     "execution_count": 28,
     "metadata": {},
     "output_type": "execute_result"
    }
   ],
   "source": [
    "weight = [1,2,3]\n",
    "wt = 5\n",
    "n = len(weight)\n",
    "coinChangeMin(weight,wt,n)"
   ]
  },
  {
   "cell_type": "code",
   "execution_count": 31,
   "id": "df1df470",
   "metadata": {},
   "outputs": [],
   "source": [
    "def lcs(x,y,n,m):\n",
    "    if n==0 or m==0:\n",
    "        return 0\n",
    "    if x[n-1] == y[m-1]:\n",
    "        return 1+lcs(x,y,n-1,m-1)\n",
    "    else:\n",
    "        return max(lcs(x,y,n-1,m),lcs(x,y,n,m-1))"
   ]
  },
  {
   "cell_type": "code",
   "execution_count": 33,
   "id": "496dea6d",
   "metadata": {},
   "outputs": [
    {
     "data": {
      "text/plain": [
       "3"
      ]
     },
     "execution_count": 33,
     "metadata": {},
     "output_type": "execute_result"
    }
   ],
   "source": [
    "x = \"abcde\"\n",
    "y = \"ace\"\n",
    "n = len(x)\n",
    "m = len(y)\n",
    "lcs(x,y,n,m)"
   ]
  },
  {
   "cell_type": "code",
   "execution_count": 39,
   "id": "d6b11c4c",
   "metadata": {},
   "outputs": [],
   "source": [
    "def lcs2(x,y,n,m,dp):\n",
    "    if n==0 or m==0:\n",
    "        return 0\n",
    "    if dp[n][m]!= -1:\n",
    "        return dp[n][m]\n",
    "    if x[n-1] == y[m-1]:\n",
    "        dp[n][m] = 1+lcs2(x,y,n-1,m-1,dp)\n",
    "        return dp[n][m]\n",
    "    else:\n",
    "        dp[n][m] = max(lcs2(x,y,n-1,m,dp),lcs2(x,y,n,m-1,dp))\n",
    "        return dp[n][m]"
   ]
  },
  {
   "cell_type": "code",
   "execution_count": 40,
   "id": "20f45d5b",
   "metadata": {},
   "outputs": [
    {
     "data": {
      "text/plain": [
       "3"
      ]
     },
     "execution_count": 40,
     "metadata": {},
     "output_type": "execute_result"
    }
   ],
   "source": [
    "x = \"abcde\"\n",
    "y = \"ace\"\n",
    "n = len(x)\n",
    "m = len(y)\n",
    "\n",
    "dp = []\n",
    "for _ in range(n+1):\n",
    "    row = []\n",
    "    for __ in range(m+1):\n",
    "        row.append(-1)\n",
    "    dp.append(row)\n",
    "    \n",
    "lcs2(x,y,n,m,dp)    "
   ]
  },
  {
   "cell_type": "code",
   "execution_count": 53,
   "id": "cd16a914",
   "metadata": {},
   "outputs": [],
   "source": [
    "def lcs3(x,y,n,m):\n",
    "    dp = []\n",
    "    for i in range(n+1):\n",
    "        row = []\n",
    "        for j in range(m+1):\n",
    "            if i==0 or j==0:\n",
    "                row.append(0)\n",
    "            else:\n",
    "                row.append(-1)\n",
    "        dp.append(row)\n",
    "    \n",
    "    for i in range(1,n+1):\n",
    "        for j in range(1,m+1):\n",
    "            if x[i-1] == y[j-1]:\n",
    "                dp[i][j] = 1+dp[i-1][j-1]\n",
    "            else:\n",
    "                dp[i][j] =max(1+dp[i][j-1],dp[i-1][j])\n",
    "    for i in dp:\n",
    "        print(*i)\n",
    "    return dp[-1][-1] "
   ]
  },
  {
   "cell_type": "code",
   "execution_count": 54,
   "id": "0c233e88",
   "metadata": {},
   "outputs": [
    {
     "name": "stdout",
     "output_type": "stream",
     "text": [
      "0 0 0 0\n",
      "0 1 2 3\n",
      "0 1 2 3\n",
      "0 1 2 3\n",
      "0 1 2 3\n",
      "0 1 2 3\n"
     ]
    },
    {
     "data": {
      "text/plain": [
       "3"
      ]
     },
     "execution_count": 54,
     "metadata": {},
     "output_type": "execute_result"
    }
   ],
   "source": [
    "x = \"abcde\"\n",
    "y = \"ace\"\n",
    "n = len(x)\n",
    "m = len(y)\n",
    "lcs3(x,y,n,m)"
   ]
  },
  {
   "cell_type": "code",
   "execution_count": 55,
   "id": "779e03e1",
   "metadata": {},
   "outputs": [],
   "source": [
    "def lcs3(x,y,n,m):\n",
    "    dp = []\n",
    "    for i in range(n+1):\n",
    "        row = []\n",
    "        for j in range(m+1):\n",
    "            if i==0 or j==0:\n",
    "                row.append(0)\n",
    "            else:\n",
    "                row.append(-1)\n",
    "        dp.append(row)\n",
    "    \n",
    "    for i in range(1,n+1):\n",
    "        for j in range(1,m+1):\n",
    "            if x[i-1] == y[j-1]:\n",
    "                dp[i][j] = 1+dp[i-1][j-1]\n",
    "            else:\n",
    "                dp[i][j] =max(1+dp[i][j-1],dp[i-1][j])\n",
    "    return dp\n",
    "\n",
    "def printLCS(x,y,n,m):\n",
    "    dp = lcs3(x,y,n,m)\n",
    "    ans = []\n",
    "    \n",
    "    i = n\n",
    "    j = m\n",
    "    while i>0 or j>0:\n",
    "        if x[i-1] == y[j-1]:\n",
    "            ans.append(x[i-1])\n",
    "            i -=1\n",
    "            j -=1\n",
    "        else:\n",
    "            if dp[i][j-1]>dp[i-1][j]:\n",
    "                j = j - 1 \n",
    "            else:\n",
    "                i = i - 1\n",
    "    ans.reverse()\n",
    "    ans = ''.join(ans)\n",
    "    return ans\n",
    "    "
   ]
  },
  {
   "cell_type": "code",
   "execution_count": 56,
   "id": "6dce9846",
   "metadata": {},
   "outputs": [
    {
     "data": {
      "text/plain": [
       "'ace'"
      ]
     },
     "execution_count": 56,
     "metadata": {},
     "output_type": "execute_result"
    }
   ],
   "source": [
    "x = \"abcde\"\n",
    "y = \"ace\"\n",
    "n = len(x)\n",
    "m = len(y)\n",
    "printLCS(x,y,n,m)"
   ]
  },
  {
   "cell_type": "code",
   "execution_count": 59,
   "id": "8fc843b7",
   "metadata": {},
   "outputs": [],
   "source": [
    "import sys\n",
    "def lcsQ(x,y,n,m):\n",
    "    dp = []\n",
    "    for i in range(n+1):\n",
    "        row = []\n",
    "        for j in range(m+1):\n",
    "            if i==0 or j==0:\n",
    "                row.append(0)\n",
    "            else:\n",
    "                row.append(-1)\n",
    "        dp.append(row)\n",
    "    for i in dp:\n",
    "        print(*i)\n",
    "    print()    \n",
    "    for i in range(1,n+1):\n",
    "        for j in range(1,m+1):\n",
    "            if x[i-1] == y[j-1]:\n",
    "                dp[i][j] = 1+dp[i-1][j-1]\n",
    "            else:\n",
    "                dp[i][j] = 0\n",
    "    maX = -sys.maxsize\n",
    "    for i in dp:\n",
    "        for j in i:\n",
    "            if j>maX:\n",
    "                maX = j\n",
    "    return maX"
   ]
  },
  {
   "cell_type": "code",
   "execution_count": 61,
   "id": "a9741659",
   "metadata": {},
   "outputs": [
    {
     "name": "stdout",
     "output_type": "stream",
     "text": [
      "0 0 0 0 0 0\n",
      "0 -1 -1 -1 -1 -1\n",
      "0 -1 -1 -1 -1 -1\n",
      "0 -1 -1 -1 -1 -1\n",
      "0 -1 -1 -1 -1 -1\n",
      "0 -1 -1 -1 -1 -1\n",
      "\n"
     ]
    },
    {
     "data": {
      "text/plain": [
       "2"
      ]
     },
     "execution_count": 61,
     "metadata": {},
     "output_type": "execute_result"
    }
   ],
   "source": [
    "x = \"abcde\"\n",
    "y = \"abfce\"\n",
    "n = len(x)\n",
    "m = len(y)\n",
    "lcsQ(x,y,n,m)"
   ]
  },
  {
   "cell_type": "code",
   "execution_count": 65,
   "id": "d07a7c8b",
   "metadata": {},
   "outputs": [],
   "source": [
    "def lcs3(x,y,n,m):\n",
    "    dp = []\n",
    "    for i in range(n+1):\n",
    "        row = []\n",
    "        for j in range(m+1):\n",
    "            if i==0 or j==0:\n",
    "                row.append(0)\n",
    "            else:\n",
    "                row.append(-1)\n",
    "        dp.append(row)\n",
    "    \n",
    "    for i in range(1,n+1):\n",
    "        for j in range(1,m+1):\n",
    "            if x[i-1] == y[j-1]:\n",
    "                dp[i][j] = 1+dp[i-1][j-1]\n",
    "            else:\n",
    "                dp[i][j] =max(dp[i][j-1],dp[i-1][j])\n",
    "    return dp[-1][-1] \n",
    "\n",
    "def scs(x,y,n,m):\n",
    "    return m+n - lcs3(x,y,n,m)"
   ]
  },
  {
   "cell_type": "code",
   "execution_count": 66,
   "id": "855eee59",
   "metadata": {},
   "outputs": [
    {
     "data": {
      "text/plain": [
       "5"
      ]
     },
     "execution_count": 66,
     "metadata": {},
     "output_type": "execute_result"
    }
   ],
   "source": [
    "x = \"geek\"\n",
    "y = \"eke\"\n",
    "n = len(x)\n",
    "m = len(y)\n",
    "scs(x,y,n,m)"
   ]
  },
  {
   "cell_type": "code",
   "execution_count": 82,
   "id": "981b1742",
   "metadata": {},
   "outputs": [],
   "source": [
    "def genSubArray(arr):\n",
    "    n = len(arr)\n",
    "    subString = []\n",
    "    for i in range(n):\n",
    "        temp = []\n",
    "        for j in range(i,n):\n",
    "            temp.append(arr[j])\n",
    "            subString.append(temp[::])\n",
    "    return subString        "
   ]
  },
  {
   "cell_type": "code",
   "execution_count": 83,
   "id": "5c2024d2",
   "metadata": {},
   "outputs": [
    {
     "data": {
      "text/plain": [
       "[[1], [1, 2], [1, 2, 3], [2], [2, 3], [3]]"
      ]
     },
     "execution_count": 83,
     "metadata": {},
     "output_type": "execute_result"
    }
   ],
   "source": [
    "arr = [1,2,3]\n",
    "genSubArray(arr)"
   ]
  },
  {
   "cell_type": "code",
   "execution_count": 87,
   "id": "5c6b4337",
   "metadata": {},
   "outputs": [],
   "source": [
    "import sys\n",
    "def maxSubArraySum(arr):\n",
    "    sub = genSubArray(arr)\n",
    "    maX = -sys.maxsize\n",
    "    for i in sub:\n",
    "        print(sum(i),end=\",\")\n",
    "        if sum(i)>maX:\n",
    "            maX = sum(i)\n",
    "    return maX    "
   ]
  },
  {
   "cell_type": "code",
   "execution_count": 88,
   "id": "47255510",
   "metadata": {},
   "outputs": [
    {
     "name": "stdout",
     "output_type": "stream",
     "text": [
      "-2,-1,-4,0,-1,1,2,-3,1,1,-2,2,1,3,4,-1,3,-3,1,0,2,3,-2,2,4,3,5,6,1,5,-1,1,2,-3,1,2,3,-2,2,1,-4,0,-5,-1,4,"
     ]
    },
    {
     "data": {
      "text/plain": [
       "6"
      ]
     },
     "execution_count": 88,
     "metadata": {},
     "output_type": "execute_result"
    }
   ],
   "source": [
    "arr = [-2,1,-3,4,-1,2,1,-5,4]\n",
    "maxSubArraySum(arr)"
   ]
  },
  {
   "cell_type": "code",
   "execution_count": 89,
   "id": "29565b6c",
   "metadata": {},
   "outputs": [],
   "source": [
    "import sys\n",
    "def maxSubArraySum2(arr):\n",
    "    maX = -sys.maxsize\n",
    "    n = len(arr)\n",
    "    for i in range(n):\n",
    "        temp = 0\n",
    "        for j in range(i,n):\n",
    "            temp = temp + arr[j]\n",
    "            if temp>maX:\n",
    "                maX = temp\n",
    "    return maX   "
   ]
  },
  {
   "cell_type": "code",
   "execution_count": 95,
   "id": "7492774b",
   "metadata": {},
   "outputs": [
    {
     "data": {
      "text/plain": [
       "6"
      ]
     },
     "execution_count": 95,
     "metadata": {},
     "output_type": "execute_result"
    }
   ],
   "source": [
    "arr = [-2,1,-3,4,-1,2,1,-5,4]\n",
    "maxSubArraySum2(arr)"
   ]
  },
  {
   "cell_type": "code",
   "execution_count": 98,
   "id": "197d096e",
   "metadata": {},
   "outputs": [],
   "source": [
    "import sys\n",
    "def maxSubArraySum3(arr):\n",
    "    maX_so_far = -sys.maxsize\n",
    "    n = len(arr)\n",
    "    maX = 0\n",
    "    for i in range(n):\n",
    "        maX = maX + arr[i]\n",
    "        if maX_so_far<maX:\n",
    "                maX_so_far = maX\n",
    "        if maX<0:\n",
    "            maX = 0\n",
    "    return maX_so_far   "
   ]
  },
  {
   "cell_type": "code",
   "execution_count": 99,
   "id": "b8e47601",
   "metadata": {},
   "outputs": [
    {
     "data": {
      "text/plain": [
       "6"
      ]
     },
     "execution_count": 99,
     "metadata": {},
     "output_type": "execute_result"
    }
   ],
   "source": [
    "arr = [-2,1,-3,4,-1,2,1,-5,4]\n",
    "maxSubArraySum3(arr)"
   ]
  },
  {
   "cell_type": "code",
   "execution_count": null,
   "id": "26b58c33",
   "metadata": {},
   "outputs": [],
   "source": []
  }
 ],
 "metadata": {
  "kernelspec": {
   "display_name": "Python 3",
   "language": "python",
   "name": "python3"
  },
  "language_info": {
   "codemirror_mode": {
    "name": "ipython",
    "version": 3
   },
   "file_extension": ".py",
   "mimetype": "text/x-python",
   "name": "python",
   "nbconvert_exporter": "python",
   "pygments_lexer": "ipython3",
   "version": "3.8.8"
  }
 },
 "nbformat": 4,
 "nbformat_minor": 5
}
