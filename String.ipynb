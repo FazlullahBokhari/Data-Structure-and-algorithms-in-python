{
 "cells": [
  {
   "cell_type": "code",
   "execution_count": 1,
   "id": "4a944b03",
   "metadata": {},
   "outputs": [],
   "source": [
    "def reverseStr(st):\n",
    "    for i in range(len(st)-1,-1,-1):\n",
    "        print(st[i],end=\" \")"
   ]
  },
  {
   "cell_type": "code",
   "execution_count": 2,
   "id": "e338fcc7",
   "metadata": {},
   "outputs": [
    {
     "name": "stdout",
     "output_type": "stream",
     "text": [
      "h a l l u l z a F "
     ]
    }
   ],
   "source": [
    "st = \"Fazlullah\"\n",
    "reverseStr(st)"
   ]
  },
  {
   "cell_type": "code",
   "execution_count": 3,
   "id": "9c19c42f",
   "metadata": {},
   "outputs": [
    {
     "data": {
      "text/plain": [
       "'hallulzaf'"
      ]
     },
     "execution_count": 3,
     "metadata": {},
     "output_type": "execute_result"
    }
   ],
   "source": [
    "ip_str = \"fazlullah\"\n",
    "op_str = '*'*len(ip_str)\n",
    "\n",
    "ip_str = list(ip_str)\n",
    "op_str = list(op_str)\n",
    "\n",
    "j=0\n",
    "for i in range(len(ip_str)-1,-1,-1):\n",
    "    op_str[j] = ip_str[i]\n",
    "    j = j+1\n",
    "op_str = ''.join(op_str)\n",
    "op_str"
   ]
  },
  {
   "cell_type": "code",
   "execution_count": 4,
   "id": "62f16369",
   "metadata": {},
   "outputs": [],
   "source": [
    "def reverseStr2(st):\n",
    "    st = list(st)\n",
    "    for i in range(len(st)//2):\n",
    "        st[i],st[len(st)-1-i] = st[len(st)-1-i],st[i]\n",
    "    op_st = ''.join(st)    \n",
    "    return op_st    "
   ]
  },
  {
   "cell_type": "code",
   "execution_count": 5,
   "id": "aef1d753",
   "metadata": {},
   "outputs": [
    {
     "data": {
      "text/plain": [
       "'hallulzaF'"
      ]
     },
     "execution_count": 5,
     "metadata": {},
     "output_type": "execute_result"
    }
   ],
   "source": [
    "st = \"Fazlullah\"\n",
    "reverseStr2(st)"
   ]
  },
  {
   "cell_type": "code",
   "execution_count": 6,
   "id": "e50a7b81",
   "metadata": {},
   "outputs": [
    {
     "data": {
      "text/plain": [
       "'hallulzaF'"
      ]
     },
     "execution_count": 6,
     "metadata": {},
     "output_type": "execute_result"
    }
   ],
   "source": [
    "st = \"Fazlullah\"\n",
    "st = list(st)\n",
    "i = 0\n",
    "j = len(st)-1\n",
    "while i<j:\n",
    "    st[i],st[len(st)-1-i] = st[len(st)-1-i],st[i]\n",
    "    i +=1\n",
    "    j -=1\n",
    "op_st = ''.join(st)    \n",
    "op_st "
   ]
  },
  {
   "cell_type": "code",
   "execution_count": 7,
   "id": "47c406d6",
   "metadata": {},
   "outputs": [],
   "source": [
    "def occurence(st):\n",
    "    count = {}\n",
    "    for i in st:\n",
    "        if i not in count:\n",
    "            count[i] = 1\n",
    "        else:\n",
    "            count[i] = count[i]+1\n",
    "    print(count)\n",
    "    temp = -1\n",
    "    ans = -1\n",
    "    for key, value in count.items():\n",
    "        if value>temp:\n",
    "            temp = value\n",
    "            ans = key\n",
    "    return ans,temp        \n",
    "            "
   ]
  },
  {
   "cell_type": "code",
   "execution_count": 8,
   "id": "19a5c7f4",
   "metadata": {},
   "outputs": [
    {
     "name": "stdout",
     "output_type": "stream",
     "text": [
      "{'a': 3, 'b': 2, 'c': 4, 'd': 5, 'f': 4}\n"
     ]
    },
    {
     "data": {
      "text/plain": [
       "('d', 5)"
      ]
     },
     "execution_count": 8,
     "metadata": {},
     "output_type": "execute_result"
    }
   ],
   "source": [
    "st = 'abcabacdfdfdcfdcfd'\n",
    "occurence(st)"
   ]
  },
  {
   "cell_type": "code",
   "execution_count": 9,
   "id": "a1b1acc4",
   "metadata": {},
   "outputs": [],
   "source": [
    "def occurence2(st):\n",
    "    count = []\n",
    "    for i in list(set(st)):\n",
    "        c=0\n",
    "        for j in st:\n",
    "            if i==j:\n",
    "                c=c+1\n",
    "        count.append([i,c])        \n",
    "    print(count)\n",
    "    temp = -1\n",
    "    ans = -1\n",
    "    for key, value in count:\n",
    "        if value>temp:\n",
    "            temp = value\n",
    "            ans = key\n",
    "    return ans,temp                 "
   ]
  },
  {
   "cell_type": "code",
   "execution_count": 10,
   "id": "718c76ab",
   "metadata": {},
   "outputs": [
    {
     "name": "stdout",
     "output_type": "stream",
     "text": [
      "[['b', 2], ['f', 4], ['a', 3], ['d', 5], ['c', 4]]\n"
     ]
    },
    {
     "data": {
      "text/plain": [
       "('d', 5)"
      ]
     },
     "execution_count": 10,
     "metadata": {},
     "output_type": "execute_result"
    }
   ],
   "source": [
    "st = 'abcabacdfdfdcfdcfd'\n",
    "occurence2(st)"
   ]
  },
  {
   "cell_type": "code",
   "execution_count": 11,
   "id": "718f6cb1",
   "metadata": {},
   "outputs": [],
   "source": [
    "def removeChr(st,ch):\n",
    "    i =0\n",
    "    st = list(st)\n",
    "    while i<len(st):\n",
    "        if st[i] == ch:\n",
    "            st.pop(i)\n",
    "        else:\n",
    "            i = i+1\n",
    "    op_st = ''.join(st)\n",
    "    return op_st"
   ]
  },
  {
   "cell_type": "code",
   "execution_count": 12,
   "id": "e9e70f75",
   "metadata": {},
   "outputs": [
    {
     "data": {
      "text/plain": [
       "'krsh'"
      ]
     },
     "execution_count": 12,
     "metadata": {},
     "output_type": "execute_result"
    }
   ],
   "source": [
    "st = 'akarsh'\n",
    "ch = 'a'\n",
    "removeChr(st,ch)"
   ]
  },
  {
   "cell_type": "code",
   "execution_count": 13,
   "id": "8a520301",
   "metadata": {},
   "outputs": [],
   "source": [
    "def printDuplicate(st):\n",
    "    count = {}\n",
    "    for i in list(st):\n",
    "        if i in count:\n",
    "            count[i] = count[i]+1\n",
    "        else:\n",
    "            count[i] = 1\n",
    "    print(count)\n",
    "    ans = []\n",
    "    for key,value in count.items():\n",
    "        if value>1:\n",
    "            ans.append(key)\n",
    "    return ans          "
   ]
  },
  {
   "cell_type": "code",
   "execution_count": 14,
   "id": "832fe872",
   "metadata": {},
   "outputs": [
    {
     "name": "stdout",
     "output_type": "stream",
     "text": [
      "{'a': 2, 'k': 2, 'r': 1, 's': 1, 'h': 2}\n"
     ]
    },
    {
     "data": {
      "text/plain": [
       "['a', 'k', 'h']"
      ]
     },
     "execution_count": 14,
     "metadata": {},
     "output_type": "execute_result"
    }
   ],
   "source": [
    "st = 'akarshhk'\n",
    "printDuplicate(st)"
   ]
  },
  {
   "cell_type": "code",
   "execution_count": 15,
   "id": "8cc1aae1",
   "metadata": {},
   "outputs": [],
   "source": [
    "def printDuplicate2(st):\n",
    "    count = []\n",
    "    for i in list(set(st)):\n",
    "        c =0\n",
    "        for j in st:\n",
    "            if i == j:\n",
    "                c = c+1\n",
    "        count.append([i,c])\n",
    "    print(count)\n",
    "    ans = []\n",
    "    for key,value in count:\n",
    "        if value>1:\n",
    "            ans.append(key)\n",
    "    return ans          "
   ]
  },
  {
   "cell_type": "code",
   "execution_count": 16,
   "id": "947681be",
   "metadata": {},
   "outputs": [
    {
     "name": "stdout",
     "output_type": "stream",
     "text": [
      "[['s', 1], ['h', 2], ['k', 2], ['r', 1], ['a', 2]]\n"
     ]
    },
    {
     "data": {
      "text/plain": [
       "['h', 'k', 'a']"
      ]
     },
     "execution_count": 16,
     "metadata": {},
     "output_type": "execute_result"
    }
   ],
   "source": [
    "st = 'akarshhk'\n",
    "printDuplicate2(st)"
   ]
  },
  {
   "cell_type": "code",
   "execution_count": 17,
   "id": "a9911c36",
   "metadata": {},
   "outputs": [],
   "source": [
    "def removeDuplicate(st):\n",
    "    count = {}\n",
    "    for i in st:\n",
    "        if i not in count:\n",
    "            count[i] = 1\n",
    "        else:\n",
    "            count[i] = count[i]+1\n",
    "    ip = list(st)        \n",
    "    i=0\n",
    "    while i<len(ip):\n",
    "        if count[ip[i]]>1:\n",
    "            ip.pop(i)\n",
    "        else:\n",
    "            i = i+1\n",
    "    op_st = ''.join(ip)\n",
    "    return op_st"
   ]
  },
  {
   "cell_type": "code",
   "execution_count": 18,
   "id": "cdce0721",
   "metadata": {},
   "outputs": [
    {
     "data": {
      "text/plain": [
       "'rs'"
      ]
     },
     "execution_count": 18,
     "metadata": {},
     "output_type": "execute_result"
    }
   ],
   "source": [
    "st = 'akarshhk'\n",
    "removeDuplicate(st)"
   ]
  },
  {
   "cell_type": "code",
   "execution_count": 1,
   "id": "cfa2530b",
   "metadata": {},
   "outputs": [],
   "source": [
    "class Queue:\n",
    "    def __init__(self):\n",
    "        self.q = []\n",
    "        \n",
    "    def enque(self,data):\n",
    "        self.q.append(data)\n",
    "        \n",
    "    def deque(self):\n",
    "        popEle = -1\n",
    "        if len(self.q)>0:\n",
    "            popEle = self.q.pop(0)\n",
    "        return popEle"
   ]
  },
  {
   "cell_type": "code",
   "execution_count": 2,
   "id": "b37b0fa2",
   "metadata": {},
   "outputs": [],
   "source": [
    "def rotationCheck(str1,str2):\n",
    "    if len(str1)!=len(str2):\n",
    "        return False\n",
    "    \n",
    "    q1 = Queue()\n",
    "    q2 = Queue()\n",
    "    for i in str1:\n",
    "        q1.enque(i)\n",
    "    for i in str2:\n",
    "        q2.enque(i)\n",
    "    for i in range(len(q1.q)):\n",
    "        alpha = q2.deque()\n",
    "        q2.enque(alpha)\n",
    "        if q1.q == q2.q:\n",
    "            return True\n",
    "    return False      "
   ]
  },
  {
   "cell_type": "code",
   "execution_count": 5,
   "id": "4f620432",
   "metadata": {},
   "outputs": [
    {
     "data": {
      "text/plain": [
       "False"
      ]
     },
     "execution_count": 5,
     "metadata": {},
     "output_type": "execute_result"
    }
   ],
   "source": [
    "str1 = \"abcd\"\n",
    "str2 = \"dabe\"\n",
    "rotationCheck(str1,str2)"
   ]
  },
  {
   "cell_type": "code",
   "execution_count": 13,
   "id": "1cbcd6ce",
   "metadata": {},
   "outputs": [],
   "source": [
    "def rotationCheck2(str1,str2):\n",
    "    if len(str1)!=len(str2):\n",
    "        return False\n",
    "    temp = str1+str2\n",
    "    if str2 in temp:\n",
    "        return True\n",
    "    return False      "
   ]
  },
  {
   "cell_type": "code",
   "execution_count": 14,
   "id": "ed4d3bf9",
   "metadata": {},
   "outputs": [
    {
     "data": {
      "text/plain": [
       "True"
      ]
     },
     "execution_count": 14,
     "metadata": {},
     "output_type": "execute_result"
    }
   ],
   "source": [
    "str1 = \"abcd\"\n",
    "str2 = \"dabc\"\n",
    "rotationCheck2(str1,str2)"
   ]
  },
  {
   "cell_type": "code",
   "execution_count": null,
   "id": "44b9814e",
   "metadata": {},
   "outputs": [],
   "source": []
  },
  {
   "cell_type": "code",
   "execution_count": 19,
   "id": "8e5f3a7b",
   "metadata": {},
   "outputs": [],
   "source": [
    "def isSubString(s1,s2):\n",
    "    m = len(s1)\n",
    "    n = len(s2)\n",
    "    \n",
    "    for i in range(n-m+1):\n",
    "        for j in range(m):\n",
    "            if s2[i+j] != s1[j]:\n",
    "                break\n",
    "        if j+1==m:\n",
    "            return i"
   ]
  },
  {
   "cell_type": "code",
   "execution_count": 20,
   "id": "f5c9b05d",
   "metadata": {},
   "outputs": [
    {
     "data": {
      "text/plain": [
       "2"
      ]
     },
     "execution_count": 20,
     "metadata": {},
     "output_type": "execute_result"
    }
   ],
   "source": [
    "s1 = 'euro'\n",
    "s2 = 'ineuron'\n",
    "isSubString(s1,s2)"
   ]
  },
  {
   "cell_type": "code",
   "execution_count": 21,
   "id": "d8a02e3b",
   "metadata": {},
   "outputs": [],
   "source": [
    "def isSubstring2(s1,s2):\n",
    "    t = 0\n",
    "    l = len(s1)\n",
    "    i = 0\n",
    "    for i in range(l):\n",
    "        if t==len(s2):\n",
    "            break\n",
    "        if s1[i] == s2[t]:\n",
    "            t +=1\n",
    "        else:\n",
    "            t = 0\n",
    "            \n",
    "    if t<len(s2):\n",
    "        return -1\n",
    "    return i-t "
   ]
  },
  {
   "cell_type": "code",
   "execution_count": 22,
   "id": "f33a4dee",
   "metadata": {},
   "outputs": [
    {
     "data": {
      "text/plain": [
       "2"
      ]
     },
     "execution_count": 22,
     "metadata": {},
     "output_type": "execute_result"
    }
   ],
   "source": [
    "s1 = 'euro'\n",
    "s2 = 'ineuron'\n",
    "isSubstring2(s2,s1)"
   ]
  },
  {
   "cell_type": "code",
   "execution_count": 23,
   "id": "07efa2ad",
   "metadata": {},
   "outputs": [],
   "source": [
    "def isAnagram(s1,s2):\n",
    "    s1 = list(s1)\n",
    "    s2 = list(s2)\n",
    "    s1.sort()\n",
    "    s2.sort()\n",
    "    \n",
    "    if s1 == s2:\n",
    "        return True\n",
    "    return False"
   ]
  },
  {
   "cell_type": "code",
   "execution_count": 24,
   "id": "2f8e6c0c",
   "metadata": {},
   "outputs": [
    {
     "data": {
      "text/plain": [
       "True"
      ]
     },
     "execution_count": 24,
     "metadata": {},
     "output_type": "execute_result"
    }
   ],
   "source": [
    "s1 = 'ababca'\n",
    "s2 = 'acbaba'\n",
    "isAnagram(s1,s2)"
   ]
  },
  {
   "cell_type": "code",
   "execution_count": 25,
   "id": "6cd284c1",
   "metadata": {},
   "outputs": [],
   "source": [
    "def isAnagram2(s1,s2):\n",
    "    count1 = {}\n",
    "    count2 = {}\n",
    "    for i in s1:\n",
    "        if i in count1:\n",
    "            count1[i] = count1[i]+1\n",
    "        else:\n",
    "            count1[i] = 1\n",
    "    for i in s2:\n",
    "        if i in count2:\n",
    "            count2[i] = count2[i]+1\n",
    "        else:\n",
    "            count2[i] = 1      \n",
    "    for i in list(set(s1+s2)):\n",
    "        if i not in count1 or i not in count2 or count1[i] != count2[i]:\n",
    "            return False\n",
    "    return True    "
   ]
  },
  {
   "cell_type": "code",
   "execution_count": 26,
   "id": "3d1bdb19",
   "metadata": {},
   "outputs": [
    {
     "data": {
      "text/plain": [
       "True"
      ]
     },
     "execution_count": 26,
     "metadata": {},
     "output_type": "execute_result"
    }
   ],
   "source": [
    "s1 = 'ababca'\n",
    "s2 = 'acbaba'\n",
    "isAnagram2(s1,s2)"
   ]
  },
  {
   "cell_type": "code",
   "execution_count": 27,
   "id": "aef16f67",
   "metadata": {},
   "outputs": [],
   "source": [
    "def isAnagram3(s1,s2):\n",
    "    count1 = {}\n",
    "    for i in s1:\n",
    "        if i in count1:\n",
    "            count1[i] = count1[i]+1\n",
    "        else:\n",
    "            count1[i] = 1\n",
    "    for i in s2:\n",
    "        if i in count1:\n",
    "            count1[i] = count1[i]-1\n",
    "        else:\n",
    "            count1[i] = 1      \n",
    "    for i,j in count1.items():\n",
    "        if j!=0:\n",
    "            return False\n",
    "    return True    "
   ]
  },
  {
   "cell_type": "code",
   "execution_count": 28,
   "id": "4e019dca",
   "metadata": {},
   "outputs": [
    {
     "data": {
      "text/plain": [
       "True"
      ]
     },
     "execution_count": 28,
     "metadata": {},
     "output_type": "execute_result"
    }
   ],
   "source": [
    "s1 = 'ababca'\n",
    "s2 = 'acbaba'\n",
    "isAnagram3(s1,s2)"
   ]
  },
  {
   "cell_type": "code",
   "execution_count": 29,
   "id": "3e4f0e6f",
   "metadata": {},
   "outputs": [],
   "source": [
    "def firstNonRepeating(st):\n",
    "    count = {}\n",
    "    for i in list(st):\n",
    "        if i not in count:\n",
    "            count[i] = 1\n",
    "        else:\n",
    "            count[i] = count[i]+1\n",
    "    print(count)\n",
    "    ans = ''\n",
    "    for key, value in count.items():\n",
    "        if value == 1:\n",
    "            ans = key\n",
    "            break\n",
    "    return ans        "
   ]
  },
  {
   "cell_type": "code",
   "execution_count": 30,
   "id": "ad378b56",
   "metadata": {},
   "outputs": [
    {
     "name": "stdout",
     "output_type": "stream",
     "text": [
      "{'a': 4, 'b': 2, 'c': 1, 'd': 1}\n"
     ]
    },
    {
     "data": {
      "text/plain": [
       "'c'"
      ]
     },
     "execution_count": 30,
     "metadata": {},
     "output_type": "execute_result"
    }
   ],
   "source": [
    "st = \"abcabaad\"\n",
    "firstNonRepeating(st)"
   ]
  },
  {
   "cell_type": "code",
   "execution_count": 31,
   "id": "2e24a4fb",
   "metadata": {},
   "outputs": [],
   "source": [
    "def genSubString(st):\n",
    "    n = len(st)\n",
    "    subString = []\n",
    "    for i in range(n):\n",
    "        for j in range(i+1,n+1):\n",
    "            alpha = []\n",
    "            for k in range(i,j):\n",
    "                alpha.append(st[k])\n",
    "            alpha = ''.join(alpha)\n",
    "            subString.append(alpha)\n",
    "    return subString        "
   ]
  },
  {
   "cell_type": "code",
   "execution_count": 32,
   "id": "a36c4bfd",
   "metadata": {},
   "outputs": [
    {
     "data": {
      "text/plain": [
       "['a', 'ab', 'abc', 'b', 'bc', 'c']"
      ]
     },
     "execution_count": 32,
     "metadata": {},
     "output_type": "execute_result"
    }
   ],
   "source": [
    "st = 'abc'\n",
    "genSubString(st)"
   ]
  },
  {
   "cell_type": "code",
   "execution_count": 33,
   "id": "08555526",
   "metadata": {},
   "outputs": [],
   "source": [
    "def genSubString2(st):\n",
    "    n = len(st)\n",
    "    subString = []\n",
    "    for i in range(n):\n",
    "        for j in range(i+1,n+1):\n",
    "            subString.append(st[i:j])\n",
    "    return subString        "
   ]
  },
  {
   "cell_type": "code",
   "execution_count": 34,
   "id": "55585a1f",
   "metadata": {},
   "outputs": [
    {
     "data": {
      "text/plain": [
       "['a', 'ab', 'abc', 'b', 'bc', 'c']"
      ]
     },
     "execution_count": 34,
     "metadata": {},
     "output_type": "execute_result"
    }
   ],
   "source": [
    "st = 'abc'\n",
    "genSubString2(st)"
   ]
  },
  {
   "cell_type": "code",
   "execution_count": 35,
   "id": "36e20b4a",
   "metadata": {},
   "outputs": [],
   "source": [
    "def genSubString3(st):\n",
    "    n = len(st)\n",
    "    subString = []\n",
    "    for i in range(n):\n",
    "        temp = []\n",
    "        for j in range(i,n):\n",
    "            temp.append(st[j])\n",
    "            alpha = ''.join(temp)\n",
    "            subString.append(alpha)\n",
    "    return subString        "
   ]
  },
  {
   "cell_type": "code",
   "execution_count": 36,
   "id": "a9b538c0",
   "metadata": {},
   "outputs": [
    {
     "data": {
      "text/plain": [
       "['a', 'ab', 'abc', 'b', 'bc', 'c']"
      ]
     },
     "execution_count": 36,
     "metadata": {},
     "output_type": "execute_result"
    }
   ],
   "source": [
    "st = 'abc'\n",
    "genSubString3(st)"
   ]
  },
  {
   "cell_type": "code",
   "execution_count": 37,
   "id": "f4691103",
   "metadata": {},
   "outputs": [],
   "source": [
    "def isPalindrome(st):\n",
    "    for i in range(len(st)//2):\n",
    "        if st[i] != st[len(st)-1-i]:\n",
    "            return False\n",
    "    return True    "
   ]
  },
  {
   "cell_type": "code",
   "execution_count": 41,
   "id": "299fb167",
   "metadata": {},
   "outputs": [
    {
     "data": {
      "text/plain": [
       "True"
      ]
     },
     "execution_count": 41,
     "metadata": {},
     "output_type": "execute_result"
    }
   ],
   "source": [
    "st = 'abccba'\n",
    "isPalindrome(st)"
   ]
  },
  {
   "cell_type": "code",
   "execution_count": 50,
   "id": "ce08553c",
   "metadata": {},
   "outputs": [],
   "source": [
    "def isUnique(st):\n",
    "    count = {}\n",
    "    for i in st:\n",
    "        if i in count:\n",
    "            count[i] = count[i]+1\n",
    "        else:\n",
    "            count[i] = 1\n",
    "    print(count)\n",
    "    for i,j in count.items():\n",
    "        if j!=1:\n",
    "            return False\n",
    "    return True       "
   ]
  },
  {
   "cell_type": "code",
   "execution_count": 51,
   "id": "7820d669",
   "metadata": {},
   "outputs": [
    {
     "name": "stdout",
     "output_type": "stream",
     "text": [
      "{'a': 1, 'b': 1, 'c': 1, 'd': 1, 's': 1, 'e': 1}\n"
     ]
    },
    {
     "data": {
      "text/plain": [
       "True"
      ]
     },
     "execution_count": 51,
     "metadata": {},
     "output_type": "execute_result"
    }
   ],
   "source": [
    "st = 'abcdse'\n",
    "isUnique(st)"
   ]
  },
  {
   "cell_type": "code",
   "execution_count": 52,
   "id": "ba9f3304",
   "metadata": {},
   "outputs": [],
   "source": [
    "def isUnique2(st):\n",
    "    unique_string = set(st)\n",
    "    if len(st) == len(unique_string):\n",
    "        return True\n",
    "    return False"
   ]
  },
  {
   "cell_type": "code",
   "execution_count": 56,
   "id": "0b5595d0",
   "metadata": {},
   "outputs": [
    {
     "data": {
      "text/plain": [
       "True"
      ]
     },
     "execution_count": 56,
     "metadata": {},
     "output_type": "execute_result"
    }
   ],
   "source": [
    "st = 'abcdste'\n",
    "isUnique2(st)"
   ]
  },
  {
   "cell_type": "code",
   "execution_count": 58,
   "id": "cc9b71bf",
   "metadata": {},
   "outputs": [],
   "source": [
    "def isPermutation(s1,s2):\n",
    "    s1 = list(s1)\n",
    "    s2 = list(s2)\n",
    "    s1.sort()\n",
    "    s2.sort()\n",
    "    \n",
    "    if s1 == s2:\n",
    "        return True\n",
    "    return False"
   ]
  },
  {
   "cell_type": "code",
   "execution_count": 59,
   "id": "88fc3b40",
   "metadata": {},
   "outputs": [
    {
     "data": {
      "text/plain": [
       "True"
      ]
     },
     "execution_count": 59,
     "metadata": {},
     "output_type": "execute_result"
    }
   ],
   "source": [
    "s1 = 'ababca'\n",
    "s2 = 'acbaba'\n",
    "isPermutation(s1,s2)"
   ]
  },
  {
   "cell_type": "code",
   "execution_count": 60,
   "id": "7693d5fd",
   "metadata": {},
   "outputs": [],
   "source": [
    "def isPermutation2(s1,s2):\n",
    "    count1 = {}\n",
    "    count2 = {}\n",
    "    for i in s1:\n",
    "        if i in count1:\n",
    "            count1[i] = count1[i]+1\n",
    "        else:\n",
    "            count1[i] = 1\n",
    "    for i in s2:\n",
    "        if i in count2:\n",
    "            count2[i] = count2[i]+1\n",
    "        else:\n",
    "            count2[i] = 1      \n",
    "    for i in list(set(s1+s2)):\n",
    "        if i not in count1 or i not in count2 or count1[i] != count2[i]:\n",
    "            return False\n",
    "    return True    "
   ]
  },
  {
   "cell_type": "code",
   "execution_count": 63,
   "id": "d179e1d6",
   "metadata": {},
   "outputs": [
    {
     "data": {
      "text/plain": [
       "True"
      ]
     },
     "execution_count": 63,
     "metadata": {},
     "output_type": "execute_result"
    }
   ],
   "source": [
    "s1 = 'ababca'\n",
    "s2 = 'acbaba'\n",
    "isPermutation2(s1,s2)"
   ]
  },
  {
   "cell_type": "code",
   "execution_count": 64,
   "id": "32063804",
   "metadata": {},
   "outputs": [],
   "source": [
    "def isPermutation3(s1,s2):\n",
    "    count1 = {}\n",
    "    for i in s1:\n",
    "        if i in count1:\n",
    "            count1[i] = count1[i]+1\n",
    "        else:\n",
    "            count1[i] = 1\n",
    "    for i in s2:\n",
    "        if i in count1:\n",
    "            count1[i] = count1[i]-1\n",
    "        else:\n",
    "            count1[i] = 1      \n",
    "    for i,j in count1.items():\n",
    "        if j!=0:\n",
    "            return False\n",
    "    return True    "
   ]
  },
  {
   "cell_type": "code",
   "execution_count": 65,
   "id": "21bd1fd9",
   "metadata": {},
   "outputs": [
    {
     "data": {
      "text/plain": [
       "True"
      ]
     },
     "execution_count": 65,
     "metadata": {},
     "output_type": "execute_result"
    }
   ],
   "source": [
    "s1 = 'ababca'\n",
    "s2 = 'acbaba'\n",
    "isPermutation3(s1,s2)"
   ]
  },
  {
   "cell_type": "code",
   "execution_count": 75,
   "id": "daf5df34",
   "metadata": {},
   "outputs": [],
   "source": [
    "def compression(st):\n",
    "    if len(st) == 0:\n",
    "        return ''\n",
    "    last = st[0]\n",
    "    c=1\n",
    "    op = []\n",
    "    for i in range(1,len(st)):\n",
    "        if st[i] == last:\n",
    "            c +=1\n",
    "        else:\n",
    "            op.append(last)\n",
    "            op.append(str(c))\n",
    "            last = st[i]\n",
    "            c=1\n",
    "    op.append(last)\n",
    "    op.append(str(c))\n",
    "    op = ''.join(op)\n",
    "    return op"
   ]
  },
  {
   "cell_type": "code",
   "execution_count": 76,
   "id": "2e0d806a",
   "metadata": {},
   "outputs": [
    {
     "data": {
      "text/plain": [
       "'a2b1c5a3'"
      ]
     },
     "execution_count": 76,
     "metadata": {},
     "output_type": "execute_result"
    }
   ],
   "source": [
    "st = 'aabcccccaaa'\n",
    "compression(st)"
   ]
  },
  {
   "cell_type": "code",
   "execution_count": 82,
   "id": "6f08b3ba",
   "metadata": {},
   "outputs": [],
   "source": [
    "def expansion(st):\n",
    "    if len(st)<=1 or len(st)%2!=0:\n",
    "        return \"\"\n",
    "    op = []\n",
    "    for i in range(0,len(st),2):\n",
    "        ch = st[i]\n",
    "        count = int(st[i+1])\n",
    "        for j in range(count):\n",
    "            op.append(ch)\n",
    "    op = ''.join(op) \n",
    "    return op"
   ]
  },
  {
   "cell_type": "code",
   "execution_count": 87,
   "id": "49b8b9d5",
   "metadata": {},
   "outputs": [
    {
     "data": {
      "text/plain": [
       "''"
      ]
     },
     "execution_count": 87,
     "metadata": {},
     "output_type": "execute_result"
    }
   ],
   "source": [
    "st = 'a2b1c5a3'\n",
    "expansion(st)"
   ]
  },
  {
   "cell_type": "code",
   "execution_count": null,
   "id": "7b2e89ad",
   "metadata": {},
   "outputs": [],
   "source": []
  }
 ],
 "metadata": {
  "kernelspec": {
   "display_name": "Python 3",
   "language": "python",
   "name": "python3"
  },
  "language_info": {
   "codemirror_mode": {
    "name": "ipython",
    "version": 3
   },
   "file_extension": ".py",
   "mimetype": "text/x-python",
   "name": "python",
   "nbconvert_exporter": "python",
   "pygments_lexer": "ipython3",
   "version": "3.8.8"
  }
 },
 "nbformat": 4,
 "nbformat_minor": 5
}
