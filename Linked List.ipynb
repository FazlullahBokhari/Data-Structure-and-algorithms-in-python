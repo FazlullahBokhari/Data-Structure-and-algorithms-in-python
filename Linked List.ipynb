{
 "cells": [
  {
   "cell_type": "markdown",
   "id": "13f6d75b",
   "metadata": {},
   "source": [
    "# Singly LInked List"
   ]
  },
  {
   "cell_type": "code",
   "execution_count": 1,
   "id": "6a16183a",
   "metadata": {},
   "outputs": [],
   "source": [
    "class Node:\n",
    "    def __init__(self,data):\n",
    "        self.val = data\n",
    "        self.next = None"
   ]
  },
  {
   "cell_type": "code",
   "execution_count": 2,
   "id": "d17988dc",
   "metadata": {},
   "outputs": [],
   "source": [
    "class LinkedList:\n",
    "    def __init__(self):\n",
    "        self.head = None\n",
    "        \n",
    "    def insertStart(self,data):\n",
    "        newNode = Node(data)\n",
    "        newNode.next = self.head\n",
    "        self.head = newNode\n",
    "    \n",
    "    def insertAtMiddle(self,data,pos):\n",
    "        newNode = Node(data)\n",
    "        store = pos.next\n",
    "        pos.next = newNode\n",
    "        newNode.next = store\n",
    "        \n",
    "    def deleteStart(self):\n",
    "        if self.head == None:\n",
    "            return None\n",
    "        else:\n",
    "            self.head = self.head.next\n",
    "    \n",
    "    def printLinkedList(self):\n",
    "        cur = self.head\n",
    "        while cur != None:\n",
    "            print(cur.val, end=\" \")\n",
    "            cur = cur.next\n",
    "        print()    \n",
    "    \n",
    "    def getlength(self):\n",
    "        cur = self.head\n",
    "        length = 0\n",
    "        while cur != None:\n",
    "            length = length + 1\n",
    "            cur = cur.next\n",
    "        return length  \n",
    "    \n",
    "    def insertAtEnd(self,data):\n",
    "        cur = self.head\n",
    "        newNode = Node(data)\n",
    "        if cur == None:\n",
    "            self.head = newNode\n",
    "        else:\n",
    "            while cur.next != None:\n",
    "                cur = cur.next\n",
    "            cur.next = newNode    \n",
    "        \n",
    "    def search(self,key):\n",
    "        cur = self.head\n",
    "        keyNode = None\n",
    "        while cur != None:\n",
    "            if cur.val == key:\n",
    "                keyNode = cur\n",
    "                break\n",
    "            cur = cur.next\n",
    "        return keyNode   \n",
    "    \n",
    "    def deleteAtMiddle(self,pos):\n",
    "        cur = self.head\n",
    "        if cur == pos or cur == None:\n",
    "            self.head = None\n",
    "        else:\n",
    "            prev = None\n",
    "            while cur != pos:\n",
    "                prev = cur\n",
    "                cur = cur.next\n",
    "            prev.next = cur.next    \n",
    "            \n",
    "    def deleteAtEnd(self):\n",
    "        cur = self.head\n",
    "        if cur == None or cur.next == None:\n",
    "            self.head = None\n",
    "        else:\n",
    "            while cur.next.next != None:\n",
    "                cur = cur.next\n",
    "            cur.next = None  \n",
    "    def deleteAll(self):\n",
    "        cur = self.head\n",
    "        while cur:\n",
    "            prev = cur.next\n",
    "            del cur.val\n",
    "            cur = prev\n",
    "            \n",
    "    def getlengthR(self,head):\n",
    "        if head == None:\n",
    "            return 0\n",
    "        return 1 + self.getlengthR(head.next)"
   ]
  },
  {
   "cell_type": "code",
   "execution_count": 3,
   "id": "f5714e57",
   "metadata": {},
   "outputs": [
    {
     "name": "stdout",
     "output_type": "stream",
     "text": [
      "5\n"
     ]
    }
   ],
   "source": [
    "l = LinkedList()\n",
    "\n",
    "nodes_val = [1,2,3,4,5]\n",
    "\n",
    "for i in nodes_val:\n",
    "    l.insertStart(i)\n",
    "    \n",
    "print(l.head.val)"
   ]
  },
  {
   "cell_type": "code",
   "execution_count": 4,
   "id": "fbdd4855",
   "metadata": {},
   "outputs": [
    {
     "name": "stdout",
     "output_type": "stream",
     "text": [
      "5 4 3 2 1 \n",
      "4 3 2 1 \n"
     ]
    }
   ],
   "source": [
    "l.printLinkedList()\n",
    "l.deleteStart()\n",
    "l.printLinkedList()"
   ]
  },
  {
   "cell_type": "code",
   "execution_count": 5,
   "id": "d3e7ed24",
   "metadata": {},
   "outputs": [
    {
     "data": {
      "text/plain": [
       "<__main__.Node at 0x20df3aa1b20>"
      ]
     },
     "execution_count": 5,
     "metadata": {},
     "output_type": "execute_result"
    }
   ],
   "source": [
    "posValue = 1\n",
    "l.search(posValue)"
   ]
  },
  {
   "cell_type": "code",
   "execution_count": 6,
   "id": "c9d28f27",
   "metadata": {},
   "outputs": [
    {
     "name": "stdout",
     "output_type": "stream",
     "text": [
      "4 3 100 2 1 \n"
     ]
    }
   ],
   "source": [
    "posValue = 3\n",
    "posNode = l.search(posValue)\n",
    "data = 100\n",
    "l.insertAtMiddle(data,posNode)\n",
    "l.printLinkedList() "
   ]
  },
  {
   "cell_type": "code",
   "execution_count": 7,
   "id": "2ac6cf3d",
   "metadata": {},
   "outputs": [
    {
     "name": "stdout",
     "output_type": "stream",
     "text": [
      "4 3 100 2 1 10 \n"
     ]
    }
   ],
   "source": [
    "posValue = 3\n",
    "posNode = l.search(posValue)\n",
    "data = 10\n",
    "l.insertAtEnd(data)\n",
    "l.printLinkedList()"
   ]
  },
  {
   "cell_type": "code",
   "execution_count": 8,
   "id": "f0bf698d",
   "metadata": {},
   "outputs": [
    {
     "name": "stdout",
     "output_type": "stream",
     "text": [
      "4 3 100 2 1 10 \n",
      "4 3 15 100 2 1 10 \n",
      "4 15 100 2 1 10 \n"
     ]
    }
   ],
   "source": [
    "l.printLinkedList() \n",
    "posValue = 3\n",
    "posNode = l.search(posValue)\n",
    "data = 15\n",
    "l.insertAtMiddle(data,posNode)\n",
    "l.printLinkedList()\n",
    "l.deleteAtMiddle(posNode)\n",
    "l.printLinkedList()"
   ]
  },
  {
   "cell_type": "code",
   "execution_count": 9,
   "id": "27f17c5f",
   "metadata": {},
   "outputs": [
    {
     "name": "stdout",
     "output_type": "stream",
     "text": [
      "4 15 100 2 1 10 \n",
      "4 15 100 2 1 \n"
     ]
    }
   ],
   "source": [
    "l.printLinkedList()\n",
    "l.deleteAtEnd()\n",
    "l.printLinkedList()"
   ]
  },
  {
   "cell_type": "code",
   "execution_count": 10,
   "id": "54cae58a",
   "metadata": {},
   "outputs": [
    {
     "name": "stdout",
     "output_type": "stream",
     "text": [
      "4 15 100 2 1 \n"
     ]
    },
    {
     "data": {
      "text/plain": [
       "5"
      ]
     },
     "execution_count": 10,
     "metadata": {},
     "output_type": "execute_result"
    }
   ],
   "source": [
    "l.printLinkedList()\n",
    "l.getlength()"
   ]
  },
  {
   "cell_type": "code",
   "execution_count": 11,
   "id": "89bb02a7",
   "metadata": {},
   "outputs": [],
   "source": [
    "l.deleteAll()"
   ]
  },
  {
   "cell_type": "code",
   "execution_count": 12,
   "id": "e8adb551",
   "metadata": {},
   "outputs": [
    {
     "data": {
      "text/plain": [
       "5"
      ]
     },
     "execution_count": 12,
     "metadata": {},
     "output_type": "execute_result"
    }
   ],
   "source": [
    "l.getlengthR(l.head)"
   ]
  },
  {
   "cell_type": "code",
   "execution_count": null,
   "id": "63a3c4ee",
   "metadata": {},
   "outputs": [],
   "source": []
  },
  {
   "cell_type": "markdown",
   "id": "d98893c4",
   "metadata": {},
   "source": [
    "# Doubly LInked List"
   ]
  },
  {
   "cell_type": "code",
   "execution_count": 13,
   "id": "5722813d",
   "metadata": {},
   "outputs": [],
   "source": [
    "class Node:\n",
    "    def __init__(self,data):\n",
    "        self.val = data\n",
    "        self.next = None\n",
    "        self.prev = None"
   ]
  },
  {
   "cell_type": "code",
   "execution_count": 14,
   "id": "ef091086",
   "metadata": {},
   "outputs": [],
   "source": [
    "class DoublyLL:\n",
    "    def __init__(self):\n",
    "        self.head = None\n",
    "        \n",
    "    def printLL(self):\n",
    "        cur = self.head\n",
    "        while cur != None:\n",
    "            print(cur.val, end=\" \")\n",
    "            cur = cur.next\n",
    "        print()\n",
    "        \n",
    "    def insertAtStrat(self,data):\n",
    "        newNode = Node(data)\n",
    "        \n",
    "        if self.head == None:\n",
    "            self.head = newNode\n",
    "        else:\n",
    "            self.head.prev = newNode\n",
    "            newNode.next = self.head\n",
    "            self.head = newNode\n",
    "            \n",
    "    def insertAtMiddle(self,data,pos):\n",
    "        newNode = Node(data)\n",
    "        store = pos.next\n",
    "        pos.next = newNode\n",
    "        newNode.prev = pos\n",
    "        newNode.next = store\n",
    "        store.prev = newNode\n",
    "        \n",
    "    def insertAtEnd(self,data):\n",
    "        newNode = Node(data)\n",
    "        cur = self.head\n",
    "        if cur == None:\n",
    "            cur = newNode\n",
    "        else:\n",
    "            while cur.next != None:\n",
    "                cur = cur.next\n",
    "                \n",
    "            cur.next = newNode\n",
    "            newNode.prev = cur\n",
    "             \n",
    "    def search(self,key):\n",
    "        cur = self.head\n",
    "        keyNode = None\n",
    "        while cur != None:\n",
    "            if cur.val == key:\n",
    "                keyNode = cur\n",
    "                break\n",
    "            cur = cur.next\n",
    "        return keyNode    \n",
    "    \n",
    "    def deleteAtStart(self):\n",
    "        if self.head == None:\n",
    "            return None\n",
    "        else:\n",
    "            self.head = self.head.next\n",
    "            self.head.prev = None\n",
    "\n",
    "    def deleteAtMiddle(self,pos):\n",
    "        cur = self.head\n",
    "        if cur == None or cur == pos:\n",
    "            return None\n",
    "        prev = pos.prev\n",
    "        prev.next = pos.next\n",
    "        pos.next.prev = pos\n",
    "     \n",
    "    def deleteAtEnd(self):\n",
    "        cur = self.head\n",
    "        if cur == None or cur.next == None:\n",
    "            return None\n",
    "        else:\n",
    "            while cur.next.next != None:\n",
    "                cur = cur.next\n",
    "            cur.next = None    "
   ]
  },
  {
   "cell_type": "code",
   "execution_count": 15,
   "id": "cc3564a3",
   "metadata": {},
   "outputs": [],
   "source": [
    "d = DoublyLL()"
   ]
  },
  {
   "cell_type": "code",
   "execution_count": 16,
   "id": "8763eb5f",
   "metadata": {},
   "outputs": [
    {
     "name": "stdout",
     "output_type": "stream",
     "text": [
      "5\n",
      "<__main__.Node object at 0x0000020DF3B69610>\n",
      "None\n"
     ]
    }
   ],
   "source": [
    "nodes_val = [1,2,3,4,5]\n",
    "for i in nodes_val:\n",
    "    d.insertAtStrat(i)\n",
    "print(d.head.val)\n",
    "print(d.head.next)\n",
    "print(d.head.prev)"
   ]
  },
  {
   "cell_type": "code",
   "execution_count": 17,
   "id": "184f7b6d",
   "metadata": {},
   "outputs": [
    {
     "name": "stdout",
     "output_type": "stream",
     "text": [
      "5 4 3 2 1 \n"
     ]
    }
   ],
   "source": [
    "d.printLL()"
   ]
  },
  {
   "cell_type": "code",
   "execution_count": 18,
   "id": "bdb6b69b",
   "metadata": {},
   "outputs": [
    {
     "name": "stdout",
     "output_type": "stream",
     "text": [
      "5 4 3 2 1 \n",
      "4 3 2 1 \n"
     ]
    }
   ],
   "source": [
    "d.printLL()\n",
    "d.deleteAtStart()\n",
    "d.printLL()"
   ]
  },
  {
   "cell_type": "code",
   "execution_count": 19,
   "id": "83f05798",
   "metadata": {},
   "outputs": [
    {
     "name": "stdout",
     "output_type": "stream",
     "text": [
      "4 3 2 1 \n",
      "4 3 10 2 1 \n"
     ]
    }
   ],
   "source": [
    "d.printLL()\n",
    "posValue = 3\n",
    "posNode = d.search(posValue)\n",
    "data = 10\n",
    "d.insertAtMiddle(data,posNode)\n",
    "d.printLL()"
   ]
  },
  {
   "cell_type": "code",
   "execution_count": 20,
   "id": "3b5f1dda",
   "metadata": {},
   "outputs": [
    {
     "name": "stdout",
     "output_type": "stream",
     "text": [
      "4 3 10 2 1 \n",
      "4 10 2 1 \n"
     ]
    }
   ],
   "source": [
    "d.printLL()\n",
    "posValue = 3\n",
    "posNode = d.search(posValue)\n",
    "d.deleteAtMiddle(posNode)\n",
    "d.printLL()"
   ]
  },
  {
   "cell_type": "code",
   "execution_count": 21,
   "id": "1cdadf7a",
   "metadata": {},
   "outputs": [
    {
     "name": "stdout",
     "output_type": "stream",
     "text": [
      "4 10 2 1 \n",
      "4 10 2 1 100 \n"
     ]
    }
   ],
   "source": [
    "d.printLL()\n",
    "data = 100\n",
    "d.insertAtEnd(data)\n",
    "d.printLL()"
   ]
  },
  {
   "cell_type": "code",
   "execution_count": 22,
   "id": "d99708ab",
   "metadata": {},
   "outputs": [
    {
     "name": "stdout",
     "output_type": "stream",
     "text": [
      "4 10 2 1 100 \n",
      "4 10 2 1 \n"
     ]
    }
   ],
   "source": [
    "d.printLL()\n",
    "d.deleteAtEnd()\n",
    "d.printLL()"
   ]
  },
  {
   "cell_type": "code",
   "execution_count": null,
   "id": "2f40d898",
   "metadata": {},
   "outputs": [],
   "source": []
  },
  {
   "cell_type": "markdown",
   "id": "730d6b17",
   "metadata": {},
   "source": [
    "# Circular Linked List"
   ]
  },
  {
   "cell_type": "code",
   "execution_count": 23,
   "id": "a6cd0026",
   "metadata": {},
   "outputs": [],
   "source": [
    "class Node:\n",
    "    def __init__(self,data):\n",
    "        self.val = data\n",
    "        self.next = None"
   ]
  },
  {
   "cell_type": "code",
   "execution_count": 24,
   "id": "dddccb05",
   "metadata": {},
   "outputs": [],
   "source": [
    "class CircularLL:\n",
    "    def __init__(self):\n",
    "        self.last = None\n",
    "        \n",
    "    def printCLL(self):\n",
    "        if self.last == None:\n",
    "            return None\n",
    "        cur = self.last.next \n",
    "        while True:\n",
    "            print(cur.val, end=\" \")\n",
    "            if cur == self.last:\n",
    "                break\n",
    "            cur = cur.next    \n",
    "        print() \n",
    "       \n",
    "    def search(self,key):\n",
    "        if self.last == None:\n",
    "            return None\n",
    "        cur = self.last.next\n",
    "        keyNode = None\n",
    "        while True:\n",
    "            if cur.val == key:\n",
    "                keyNode = cur\n",
    "                break\n",
    "            if cur == self.last:\n",
    "                break\n",
    "            cur = cur.next    \n",
    "        return keyNode\n",
    "        \n",
    "    def insertAtStart(self,data):\n",
    "        newNode = Node(data)\n",
    "        if self.last == None:\n",
    "            self.last = newNode\n",
    "            newNode.next = self.last\n",
    "        else:\n",
    "            newNode.next = self.last.next\n",
    "            self.last.next = newNode\n",
    "    \n",
    "    def insertAtMiddle(self,data,pos):\n",
    "        newNode = Node(data)\n",
    "        store = pos.next\n",
    "        pos.next = newNode\n",
    "        newNode.next = store\n",
    "        \n",
    "    def insertAtEnd(self,data):\n",
    "        newNode = Node(data)\n",
    "        if self.last == None:\n",
    "            self.last = newNode\n",
    "            newNode.next = self.last\n",
    "        else:\n",
    "            newNode.next = self.last.next\n",
    "            self.last.next = newNode\n",
    "            self.last = newNode\n",
    "    \n",
    "    def deleteAtStart(self):\n",
    "        if self.last == None:\n",
    "            return None\n",
    "        elif self.last.next == self.last:\n",
    "            self.last = None\n",
    "        else:\n",
    "            self.last.next = self.last.next.next\n",
    "  \n",
    "    def deleteAtMiddle(self,pos):\n",
    "        cur = self.last\n",
    "        if self.last == None:\n",
    "            return None\n",
    "        else:\n",
    "            prev = None\n",
    "            while cur != pos:\n",
    "                prev = cur\n",
    "                cur = cur.next\n",
    "            prev.next = cur.next\n",
    "   \n",
    "    def deleteAtEnd(self):\n",
    "        if self.last == None:\n",
    "            return None\n",
    "        elif self.last.next == self.last:\n",
    "            self.last = None\n",
    "        else:\n",
    "            cur = self.last.next\n",
    "            while cur.next != self.last:\n",
    "                cur = cur.next \n",
    "            cur.next = self.last.next\n",
    "            self.last = cur"
   ]
  },
  {
   "cell_type": "code",
   "execution_count": 25,
   "id": "9d91512a",
   "metadata": {},
   "outputs": [],
   "source": [
    "c = CircularLL()"
   ]
  },
  {
   "cell_type": "code",
   "execution_count": 26,
   "id": "8a5b6340",
   "metadata": {},
   "outputs": [
    {
     "name": "stdout",
     "output_type": "stream",
     "text": [
      "5 4 3 2 1 \n"
     ]
    }
   ],
   "source": [
    "nodes_val = [1,2,3,4,5]\n",
    "for i in nodes_val:\n",
    "    c.insertAtStart(i)\n",
    "c.printCLL() "
   ]
  },
  {
   "cell_type": "code",
   "execution_count": 27,
   "id": "7a5bc56c",
   "metadata": {},
   "outputs": [
    {
     "name": "stdout",
     "output_type": "stream",
     "text": [
      "5 4 3 2 1 \n",
      "4 3 2 1 \n"
     ]
    }
   ],
   "source": [
    "c.printCLL()\n",
    "c.deleteAtStart()\n",
    "c.printCLL()"
   ]
  },
  {
   "cell_type": "code",
   "execution_count": 28,
   "id": "f6b93daf",
   "metadata": {},
   "outputs": [
    {
     "name": "stdout",
     "output_type": "stream",
     "text": [
      "4 3 2 1 \n",
      "4 100 3 2 1 \n"
     ]
    }
   ],
   "source": [
    "c.printCLL()\n",
    "posValue = 4\n",
    "posNode = c.search(posValue)\n",
    "data = 100\n",
    "c.insertAtMiddle(data,posNode)\n",
    "c.printCLL()"
   ]
  },
  {
   "cell_type": "code",
   "execution_count": 29,
   "id": "56c900fc",
   "metadata": {},
   "outputs": [
    {
     "name": "stdout",
     "output_type": "stream",
     "text": [
      "4 100 3 2 1 \n",
      "4 100 3 1 \n"
     ]
    }
   ],
   "source": [
    "c.printCLL()\n",
    "posValue = 2\n",
    "posNode = c.search(posValue)\n",
    "c.deleteAtMiddle(posNode)\n",
    "c.printCLL()"
   ]
  },
  {
   "cell_type": "code",
   "execution_count": 30,
   "id": "7eebd20c",
   "metadata": {},
   "outputs": [
    {
     "name": "stdout",
     "output_type": "stream",
     "text": [
      "4 100 3 1 \n",
      "4 100 3 1 150 \n"
     ]
    }
   ],
   "source": [
    "c.printCLL()\n",
    "data = 150\n",
    "c.insertAtEnd(data)\n",
    "c.printCLL()"
   ]
  },
  {
   "cell_type": "code",
   "execution_count": 31,
   "id": "131e134a",
   "metadata": {},
   "outputs": [
    {
     "name": "stdout",
     "output_type": "stream",
     "text": [
      "4 100 3 1 150 \n",
      "4 100 3 1 \n"
     ]
    }
   ],
   "source": [
    "c.printCLL()\n",
    "c.deleteAtEnd()\n",
    "c.printCLL()"
   ]
  },
  {
   "cell_type": "code",
   "execution_count": null,
   "id": "d928fa1a",
   "metadata": {},
   "outputs": [],
   "source": []
  },
  {
   "cell_type": "code",
   "execution_count": 32,
   "id": "57972d95",
   "metadata": {},
   "outputs": [],
   "source": [
    "# merge two linked list in asc "
   ]
  },
  {
   "cell_type": "code",
   "execution_count": 33,
   "id": "58198151",
   "metadata": {},
   "outputs": [],
   "source": [
    "class Node:\n",
    "    def __init__(self,data):\n",
    "        self.val = data\n",
    "        self.next = None"
   ]
  },
  {
   "cell_type": "code",
   "execution_count": 34,
   "id": "7f1d4dd9",
   "metadata": {},
   "outputs": [],
   "source": [
    "class LinkedList:\n",
    "    def __init__(self):\n",
    "        self.head = None\n",
    "        \n",
    "    def printLinkedList(self):\n",
    "        cur = self.head\n",
    "        while cur != None:\n",
    "            print(cur.val, end=\" \")\n",
    "            cur = cur.next\n",
    "        print()    \n",
    "    \n",
    "    def insertAtEnd(self,data):\n",
    "        cur = self.head\n",
    "        newNode = Node(data)\n",
    "        if cur == None:\n",
    "            self.head = newNode\n",
    "        else:\n",
    "            while cur.next != None:\n",
    "                cur = cur.next\n",
    "            cur.next = newNode    "
   ]
  },
  {
   "cell_type": "code",
   "execution_count": 35,
   "id": "13b404fe",
   "metadata": {},
   "outputs": [
    {
     "name": "stdout",
     "output_type": "stream",
     "text": [
      "1 5 8 12 \n"
     ]
    }
   ],
   "source": [
    "list1 = LinkedList()\n",
    "nodes_val_1 = [1,5,8,12]\n",
    "for i in nodes_val_1:\n",
    "    list1.insertAtEnd(i)\n",
    "list1.printLinkedList()    "
   ]
  },
  {
   "cell_type": "code",
   "execution_count": 36,
   "id": "565af846",
   "metadata": {},
   "outputs": [
    {
     "name": "stdout",
     "output_type": "stream",
     "text": [
      "3 4 9 19 \n"
     ]
    }
   ],
   "source": [
    "list2 = LinkedList()\n",
    "nodes_val_2 = [3,4,9,19]\n",
    "for i in nodes_val_2:\n",
    "    list2.insertAtEnd(i)\n",
    "list2.printLinkedList()    "
   ]
  },
  {
   "cell_type": "code",
   "execution_count": 37,
   "id": "64e79c86",
   "metadata": {},
   "outputs": [],
   "source": [
    "def mergeList(head1,head2):\n",
    "    sorted_list = LinkedList()\n",
    "    if head1 == None:\n",
    "        sorted_list.head = head2\n",
    "    elif head2 == None:\n",
    "        sorted_list.head = head1\n",
    "    else:\n",
    "        if head1.val <= head2.val:\n",
    "            sorted_list.head = head1\n",
    "            head1 = head1.next\n",
    "        else:\n",
    "            sorted_list.head = head2\n",
    "            head2 = head2.next\n",
    "    temp_head = sorted_list.head\n",
    "    while head1 and head2:\n",
    "        if head1.val<=head2.val:\n",
    "            temp_head.next = head1\n",
    "            temp_head = temp_head.next\n",
    "            head1 = head1.next\n",
    "        else:\n",
    "            temp_head.next = head2\n",
    "            temp_head = temp_head.next\n",
    "            head2 = head2.next\n",
    "    if head1 == None:\n",
    "        temp_head.next = head2\n",
    "    if head2 == None:\n",
    "        temp_head.next = head1\n",
    "    return sorted_list    "
   ]
  },
  {
   "cell_type": "code",
   "execution_count": 38,
   "id": "68775da7",
   "metadata": {},
   "outputs": [],
   "source": [
    "sorted_list = mergeList(list1.head,list2.head)"
   ]
  },
  {
   "cell_type": "code",
   "execution_count": 39,
   "id": "eed80d58",
   "metadata": {},
   "outputs": [
    {
     "name": "stdout",
     "output_type": "stream",
     "text": [
      "1 3 4 5 8 9 12 19 \n"
     ]
    }
   ],
   "source": [
    "sorted_list.printLinkedList()"
   ]
  },
  {
   "cell_type": "code",
   "execution_count": null,
   "id": "3ecb879b",
   "metadata": {},
   "outputs": [],
   "source": []
  },
  {
   "cell_type": "code",
   "execution_count": 40,
   "id": "9cd589a9",
   "metadata": {},
   "outputs": [],
   "source": [
    "#Reverser a linked list iterative"
   ]
  },
  {
   "cell_type": "code",
   "execution_count": 41,
   "id": "0967a4fc",
   "metadata": {},
   "outputs": [],
   "source": [
    "class Node:\n",
    "    def __init__(self,data):\n",
    "        self.val = data\n",
    "        self.next = None"
   ]
  },
  {
   "cell_type": "code",
   "execution_count": 42,
   "id": "9f4cef6c",
   "metadata": {},
   "outputs": [],
   "source": [
    "class LinkedList:\n",
    "    def __init__(self):\n",
    "        self.head = None\n",
    "    \n",
    "    def print_list(self):\n",
    "        cur = self.head\n",
    "        if cur == None:\n",
    "            return None\n",
    "        else:\n",
    "            while cur != None:\n",
    "                print(cur.val, end=\" \")\n",
    "                cur = cur.next\n",
    "            print()     \n",
    "    \n",
    "    def insertAtEnd(self,data):\n",
    "        newNode = Node(data)\n",
    "        cur = self.head\n",
    "        if cur == None:\n",
    "            self.head = newNode\n",
    "        else:\n",
    "            while cur.next != None:\n",
    "                cur = cur.next\n",
    "            cur.next = newNode    \n",
    "            \n",
    "    def reverse(self):\n",
    "        cur = self.head\n",
    "        next,prev = None,None\n",
    "        while cur != None:\n",
    "            next = cur.next\n",
    "            cur.next = prev\n",
    "            prev = cur\n",
    "            cur = next\n",
    "        self.head = prev    \n",
    "        \n",
    "    def reverseR(self,head):\n",
    "        if head is None or head.next is None:\n",
    "            return head\n",
    "        rest = self.reverseR(head.next)\n",
    "        head.next.next = head\n",
    "        head.next = None\n",
    "        return rest"
   ]
  },
  {
   "cell_type": "code",
   "execution_count": 43,
   "id": "8cf850af",
   "metadata": {},
   "outputs": [],
   "source": [
    "l = LinkedList()"
   ]
  },
  {
   "cell_type": "code",
   "execution_count": 44,
   "id": "42647913",
   "metadata": {},
   "outputs": [
    {
     "name": "stdout",
     "output_type": "stream",
     "text": [
      "1 2 3 4 5 \n"
     ]
    }
   ],
   "source": [
    "data = [1,2,3,4,5]\n",
    "for i in data:\n",
    "    l.insertAtEnd(i)\n",
    "l.print_list()    "
   ]
  },
  {
   "cell_type": "code",
   "execution_count": 45,
   "id": "c17f0ced",
   "metadata": {},
   "outputs": [
    {
     "name": "stdout",
     "output_type": "stream",
     "text": [
      "5 4 3 2 1 \n"
     ]
    }
   ],
   "source": [
    "l.reverse()\n",
    "l.print_list()"
   ]
  },
  {
   "cell_type": "code",
   "execution_count": 46,
   "id": "30aa85f2",
   "metadata": {},
   "outputs": [
    {
     "name": "stdout",
     "output_type": "stream",
     "text": [
      "5 4 3 2 1 \n",
      "1 2 3 4 5 \n"
     ]
    }
   ],
   "source": [
    "l.print_list()\n",
    "l.head = l.reverseR(l.head)\n",
    "l.print_list()"
   ]
  },
  {
   "cell_type": "code",
   "execution_count": 47,
   "id": "8e6db9d5",
   "metadata": {},
   "outputs": [],
   "source": [
    "# Detect loop in linked list using hashing"
   ]
  },
  {
   "cell_type": "code",
   "execution_count": 235,
   "id": "48052e5b",
   "metadata": {},
   "outputs": [],
   "source": [
    "class Node:\n",
    "    def __init__(self,data):\n",
    "        self.val = data\n",
    "        self.next = None"
   ]
  },
  {
   "cell_type": "code",
   "execution_count": 236,
   "id": "736dcdf2",
   "metadata": {},
   "outputs": [],
   "source": [
    "class LinkedList:\n",
    "    def __init__(self):\n",
    "        self.head = None\n",
    "        \n",
    "    def checkloop(self):\n",
    "        hash = {}\n",
    "        loopNode = None\n",
    "        cur = self.head\n",
    "        while cur != None:\n",
    "            if cur not in hash:\n",
    "                hash[cur] = True\n",
    "            else:\n",
    "                loopNode = cur\n",
    "                break\n",
    "        return loopNode         \n",
    "    \n",
    "    def checkloopBytortoise(self):\n",
    "        loopNode = None\n",
    "        slow = self.head\n",
    "        fast = self.head\n",
    "        while slow and fast and fast.next:\n",
    "            slow = slow.next\n",
    "            fast = fast.next.next\n",
    "            if slow == fast:\n",
    "                loopNode = slow\n",
    "                break\n",
    "        return loopNode\n",
    "    \n",
    "    def startLoop(self):\n",
    "        p = self.head\n",
    "        q = self.checkloopBytortoise()\n",
    "        while p != q:\n",
    "            p = p.next\n",
    "            q = q.next\n",
    "        return p \n",
    "    \n",
    "    def lengthOfLoop(self):\n",
    "        l = 0\n",
    "        p = self.checkloopBytortoise()\n",
    "        q = self.checkloopBytortoise()\n",
    "        while 1:\n",
    "            l = l+1\n",
    "            p = p.next\n",
    "            if p==q:\n",
    "                break\n",
    "        return l\n",
    "    \n",
    "    def getlength(self):\n",
    "        cur = self.head\n",
    "        length = 0\n",
    "        while cur != None:\n",
    "            length = length + 1\n",
    "            cur = cur.next\n",
    "        return length \n",
    "    \n",
    "    def insertAtEnd(self,data):\n",
    "        newNode = Node(data)\n",
    "        cur = self.head\n",
    "        if cur == None:\n",
    "            self.head = newNode\n",
    "        else:\n",
    "            while cur.next != None:\n",
    "                cur = cur.next\n",
    "            cur.next = newNode    \n",
    "            \n",
    "    \n",
    "    def printLinkedList(self):\n",
    "        cur = self.head\n",
    "        while cur != None:\n",
    "            print(cur.val, end=\" \")\n",
    "            cur = cur.next\n",
    "        print()   \n",
    "    \n",
    "    def middleElement(self):\n",
    "        global l\n",
    "        l = l.getlength()\n",
    "        mid = l//2\n",
    "        cur = self.head\n",
    "        pos = 0\n",
    "        while pos != mid:\n",
    "            cur = cur.next\n",
    "            pos = pos+1\n",
    "        return cur   \n",
    "    \n",
    "    def middleElement2(self):\n",
    "        slow = self.head\n",
    "        fast = self.head\n",
    "        while slow and fast and fast.next:\n",
    "            slow = slow.next\n",
    "            fast = fast.next.next\n",
    "        return slow,\"you are here\"    "
   ]
  },
  {
   "cell_type": "code",
   "execution_count": 237,
   "id": "688d74b1",
   "metadata": {},
   "outputs": [],
   "source": [
    "l = LinkedList()"
   ]
  },
  {
   "cell_type": "code",
   "execution_count": 238,
   "id": "bcab3906",
   "metadata": {},
   "outputs": [],
   "source": [
    "l.head = Node(5)\n",
    "l.head.next = Node(1)\n",
    "l.head.next.next = Node(6)\n",
    "p = l.head.next.next\n",
    "l.head.next.next.next = Node(7)\n",
    "l.head.next.next.next.next = Node(8)\n",
    "l.head.next.next.next.next.next = p"
   ]
  },
  {
   "cell_type": "code",
   "execution_count": 239,
   "id": "5e493ea0",
   "metadata": {},
   "outputs": [
    {
     "name": "stdout",
     "output_type": "stream",
     "text": [
      "5\n"
     ]
    },
    {
     "data": {
      "text/plain": [
       "<__main__.Node at 0x20df4dc5430>"
      ]
     },
     "execution_count": 239,
     "metadata": {},
     "output_type": "execute_result"
    }
   ],
   "source": [
    "loopNode = l.checkloop()\n",
    "print(loopNode.val)\n",
    "loopNode"
   ]
  },
  {
   "cell_type": "code",
   "execution_count": 240,
   "id": "5eced220",
   "metadata": {},
   "outputs": [],
   "source": [
    "#Detect loop in linked list using floyd/tortoise and hare algorithm"
   ]
  },
  {
   "cell_type": "code",
   "execution_count": 241,
   "id": "14ff0c44",
   "metadata": {},
   "outputs": [
    {
     "name": "stdout",
     "output_type": "stream",
     "text": [
      "7\n"
     ]
    },
    {
     "data": {
      "text/plain": [
       "<__main__.Node at 0x20df4dc57f0>"
      ]
     },
     "execution_count": 241,
     "metadata": {},
     "output_type": "execute_result"
    }
   ],
   "source": [
    "loopNode = l.checkloopBytortoise()\n",
    "print(loopNode.val)\n",
    "loopNode"
   ]
  },
  {
   "cell_type": "code",
   "execution_count": 242,
   "id": "1da3a550",
   "metadata": {},
   "outputs": [
    {
     "data": {
      "text/plain": [
       "6"
      ]
     },
     "execution_count": 242,
     "metadata": {},
     "output_type": "execute_result"
    }
   ],
   "source": [
    "loopNode = l.checkloop()\n",
    "loopStartNode = l.startLoop()\n",
    "loopStartNode.val"
   ]
  },
  {
   "cell_type": "code",
   "execution_count": 243,
   "id": "a5d00f58",
   "metadata": {},
   "outputs": [
    {
     "data": {
      "text/plain": [
       "3"
      ]
     },
     "execution_count": 243,
     "metadata": {},
     "output_type": "execute_result"
    }
   ],
   "source": [
    "length = l.lengthOfLoop()\n",
    "length"
   ]
  },
  {
   "cell_type": "code",
   "execution_count": 383,
   "id": "109332d5",
   "metadata": {},
   "outputs": [],
   "source": [
    "class Node:\n",
    "    def __init__(self,data):\n",
    "        self.val = data\n",
    "        self.next = None"
   ]
  },
  {
   "cell_type": "code",
   "execution_count": 384,
   "id": "8620e53b",
   "metadata": {},
   "outputs": [],
   "source": [
    "class LinkedList:\n",
    "    def __init__(self):\n",
    "        self.head = None\n",
    "        \n",
    "    def checkloop(self):\n",
    "        hash = {}\n",
    "        loopNode = None\n",
    "        cur = self.head\n",
    "        while cur != None:\n",
    "            if cur not in hash:\n",
    "                hash[cur] = True\n",
    "            else:\n",
    "                loopNode = cur\n",
    "                break\n",
    "        return loopNode         \n",
    "    \n",
    "    def checkloopBytortoise(self):\n",
    "        loopNode = None\n",
    "        slow = self.head\n",
    "        fast = self.head\n",
    "        while slow and fast and fast.next:\n",
    "            slow = slow.next\n",
    "            fast = fast.next.next\n",
    "            if slow == fast:\n",
    "                loopNode = slow\n",
    "                break\n",
    "        return loopNode\n",
    "    \n",
    "    def startLoop(self):\n",
    "        p = self.head\n",
    "        q = self.checkloopBytortoise()\n",
    "        while p != q:\n",
    "            p = p.next\n",
    "            q = q.next\n",
    "        return p \n",
    "    \n",
    "    def lengthOfLoop(self):\n",
    "        l = 0\n",
    "        p = self.checkloopBytortoise()\n",
    "        q = self.checkloopBytortoise()\n",
    "        while 1:\n",
    "            l = l+1\n",
    "            p = p.next\n",
    "            if p==q:\n",
    "                break\n",
    "        return l\n",
    "    \n",
    "    def getlength(self):\n",
    "        cur = self.head\n",
    "        length = 0\n",
    "        while cur != None:\n",
    "            length = length + 1\n",
    "            cur = cur.next\n",
    "        return length \n",
    "    \n",
    "    def insertAtEnd(self,data):\n",
    "        newNode = Node(data)\n",
    "        cur = self.head\n",
    "        if cur == None:\n",
    "            self.head = newNode\n",
    "        else:\n",
    "            while cur.next != None:\n",
    "                cur = cur.next\n",
    "            cur.next = newNode    \n",
    "            \n",
    "    \n",
    "    def printLinkedList(self):\n",
    "        cur = self.head\n",
    "        while cur != None:\n",
    "            print(cur.val, end=\" \")\n",
    "            cur = cur.next\n",
    "        print()   \n",
    "    \n",
    "    def middleElement(self):\n",
    "        global ll\n",
    "        l = ll.getlength()\n",
    "        mid = l//2\n",
    "        cur = self.head\n",
    "        pos = 0\n",
    "        while pos != mid:\n",
    "            cur = cur.next\n",
    "            pos = pos+1\n",
    "        return cur   \n",
    "    \n",
    "    def middleElement2(self):\n",
    "        slow = self.head\n",
    "        fast = self.head\n",
    "        while slow and fast and fast.next:\n",
    "            slow = slow.next\n",
    "            fast = fast.next.next\n",
    "        return slow\n",
    "    \n",
    "    "
   ]
  },
  {
   "cell_type": "code",
   "execution_count": 254,
   "id": "8dd1b265",
   "metadata": {},
   "outputs": [
    {
     "name": "stdout",
     "output_type": "stream",
     "text": [
      "1 2 3 4 5 6 \n"
     ]
    }
   ],
   "source": [
    "ll = LinkedList()\n",
    "nodes_val = [1,2,3,4,5,6]\n",
    "for i in nodes_val:\n",
    "    ll.insertAtEnd(i)\n",
    "ll.printLinkedList()    "
   ]
  },
  {
   "cell_type": "code",
   "execution_count": 255,
   "id": "0cec0426",
   "metadata": {},
   "outputs": [
    {
     "data": {
      "text/plain": [
       "4"
      ]
     },
     "execution_count": 255,
     "metadata": {},
     "output_type": "execute_result"
    }
   ],
   "source": [
    "middleElement = ll.middleElement()\n",
    "middleElement.val"
   ]
  },
  {
   "cell_type": "code",
   "execution_count": 256,
   "id": "2c2d02f2",
   "metadata": {},
   "outputs": [
    {
     "data": {
      "text/plain": [
       "4"
      ]
     },
     "execution_count": 256,
     "metadata": {},
     "output_type": "execute_result"
    }
   ],
   "source": [
    "middle = ll.middleElement2()\n",
    "middle.val"
   ]
  },
  {
   "cell_type": "code",
   "execution_count": 389,
   "id": "13fae859",
   "metadata": {},
   "outputs": [],
   "source": [
    "class Node:\n",
    "    def __init__(self,data):\n",
    "        self.val = data\n",
    "        self.next = None"
   ]
  },
  {
   "cell_type": "code",
   "execution_count": 390,
   "id": "d56f2fc7",
   "metadata": {},
   "outputs": [],
   "source": [
    "class LinkedList:\n",
    "    def __init__(self):\n",
    "        self.head = None\n",
    "    \n",
    "    def getlength(self):\n",
    "        cur = self.head\n",
    "        length = 0\n",
    "        while cur != None:\n",
    "            length = length + 1\n",
    "            cur = cur.next\n",
    "        return length \n",
    "    \n",
    "    def insertAtEnd(self,data):\n",
    "        newNode = Node(data)\n",
    "        cur = self.head\n",
    "        if cur == None:\n",
    "            self.head = newNode\n",
    "        else:\n",
    "            while cur.next != None:\n",
    "                cur = cur.next\n",
    "            cur.next = newNode    \n",
    "            \n",
    "    \n",
    "    def printLinkedList(self):\n",
    "        cur = self.head\n",
    "        while cur != None:\n",
    "            print(cur.val, end=\" \")\n",
    "            cur = cur.next\n",
    "        print()   \n",
    "        \n",
    "    def checkRepeated(self):\n",
    "        flag = False\n",
    "        cur1 = self.head\n",
    "        while cur1 != None:\n",
    "            cur2 = self.head\n",
    "            while cur2 != None:\n",
    "                if cur1 != cur2 and cur1.val == cur2.val:\n",
    "                    flag = True\n",
    "                    break\n",
    "                cur2 = cur2.next\n",
    "            cur1 = cur1.next\n",
    "        return flag     \n",
    "                \n",
    "    def checkRepeated2(self):\n",
    "        flag = False\n",
    "        cur = self.head\n",
    "        hash = {}\n",
    "        while cur != None:\n",
    "            if cur.val not in hash:\n",
    "                hash[cur.val] = True\n",
    "            else:\n",
    "                flag = True\n",
    "                break\n",
    "            cur = cur.next     \n",
    "        return flag  \n",
    "    \n",
    "    def removeDuplicate(self):\n",
    "        cur = self.head\n",
    "        while cur != None and cur.next != None:\n",
    "            if cur.val == cur.next.val:\n",
    "                alpha = cur.next.next\n",
    "                cur.next = alpha\n",
    "            else:    \n",
    "                cur = cur.next \n",
    "                \n",
    "    def deleteAtMiddle(self,pos):\n",
    "        cur = self.head\n",
    "        if cur == pos or cur == None:\n",
    "            self.head = None\n",
    "        else:\n",
    "            prev = None\n",
    "            while cur != pos:\n",
    "                prev = cur\n",
    "                cur = cur.next\n",
    "            prev.next = cur.next              \n",
    "                \n",
    "    def removeDuplicate2(self):\n",
    "        hash = {}\n",
    "        cur = self.head\n",
    "        while cur !=None:\n",
    "            if cur.val not in hash:\n",
    "                hash[cur.val] = True\n",
    "            else:\n",
    "                self.deleteAtMiddle(cur)\n",
    "            cur = cur.next   \n",
    "        \n",
    "    def search(self,key):\n",
    "        cur = self.head\n",
    "        keyNode = None\n",
    "        while cur != None:\n",
    "            if cur.val == key:\n",
    "                keyNode = cur\n",
    "                break\n",
    "            cur = cur.next\n",
    "        return keyNode\n",
    "    \n",
    "    def deleteWithoutHeadPointer(self,pos):\n",
    "        if pos == None or pos.next == None:\n",
    "            return None\n",
    "        pos.val = pos.next.val\n",
    "        pos.next = pos.next.next\n",
    "        \n",
    "    def count(self):\n",
    "        hash = {}\n",
    "        cur = self.head\n",
    "        while cur != None:\n",
    "            if cur.val not in hash:\n",
    "                hash[cur.val] = 1\n",
    "            else:\n",
    "                hash[cur.val] = hash[cur.val] +1\n",
    "            cur = cur.next\n",
    "        return hash \n",
    "    \n",
    "    def evenOrOdd(self):\n",
    "        cur = self.head\n",
    "        state = None\n",
    "        while 1:\n",
    "            if cur == None:\n",
    "                state = \"Even\"\n",
    "                break\n",
    "            elif cur.next == None:\n",
    "                state = \"Odd\"\n",
    "                break\n",
    "            cur = cur.next.next\n",
    "        return state    "
   ]
  },
  {
   "cell_type": "code",
   "execution_count": 375,
   "id": "059b330c",
   "metadata": {},
   "outputs": [
    {
     "name": "stdout",
     "output_type": "stream",
     "text": [
      "1 2 3 4 5 6 6 \n"
     ]
    }
   ],
   "source": [
    "l = LinkedList()\n",
    "nodes_val = [1,2,3,4,5,6,6]\n",
    "for i in nodes_val:\n",
    "    l.insertAtEnd(i)\n",
    "l.printLinkedList() "
   ]
  },
  {
   "cell_type": "code",
   "execution_count": 376,
   "id": "d49ce55a",
   "metadata": {},
   "outputs": [
    {
     "data": {
      "text/plain": [
       "True"
      ]
     },
     "execution_count": 376,
     "metadata": {},
     "output_type": "execute_result"
    }
   ],
   "source": [
    "l.checkRepeated()"
   ]
  },
  {
   "cell_type": "code",
   "execution_count": 377,
   "id": "f7fbfd50",
   "metadata": {},
   "outputs": [
    {
     "data": {
      "text/plain": [
       "True"
      ]
     },
     "execution_count": 377,
     "metadata": {},
     "output_type": "execute_result"
    }
   ],
   "source": [
    "l.checkRepeated2()"
   ]
  },
  {
   "cell_type": "code",
   "execution_count": 378,
   "id": "b3ffc32c",
   "metadata": {},
   "outputs": [
    {
     "name": "stdout",
     "output_type": "stream",
     "text": [
      "1 2 3 4 5 6 6 \n",
      "1 2 3 4 5 6 \n"
     ]
    }
   ],
   "source": [
    "l.printLinkedList()\n",
    "l.removeDuplicate()\n",
    "l.printLinkedList()"
   ]
  },
  {
   "cell_type": "code",
   "execution_count": 379,
   "id": "27299015",
   "metadata": {},
   "outputs": [
    {
     "name": "stdout",
     "output_type": "stream",
     "text": [
      "1 2 3 4 5 6 6 5 \n",
      "1 2 3 4 5 6 \n"
     ]
    }
   ],
   "source": [
    "l = LinkedList()\n",
    "nodes_val = [1,2,3,4,5,6,6,5]\n",
    "for i in nodes_val:\n",
    "    l.insertAtEnd(i)\n",
    "l.printLinkedList()\n",
    "l.removeDuplicate2()\n",
    "l.printLinkedList()"
   ]
  },
  {
   "cell_type": "code",
   "execution_count": 380,
   "id": "3a1737e1",
   "metadata": {},
   "outputs": [
    {
     "name": "stdout",
     "output_type": "stream",
     "text": [
      "1 2 3 4 5 6 \n",
      "1 2 4 5 6 \n"
     ]
    }
   ],
   "source": [
    "l = LinkedList()\n",
    "nodes_val = [1,2,3,4,5,6]\n",
    "for i in nodes_val:\n",
    "    l.insertAtEnd(i)\n",
    "l.printLinkedList()\n",
    "posValue = 3\n",
    "posNode = l.search(posValue)\n",
    "l.deleteWithoutHeadPointer(posNode)\n",
    "l.printLinkedList()"
   ]
  },
  {
   "cell_type": "code",
   "execution_count": 393,
   "id": "90df06bc",
   "metadata": {},
   "outputs": [
    {
     "name": "stdout",
     "output_type": "stream",
     "text": [
      "1 2 3 4 5 6 \n",
      "Count of element  1  is  1\n",
      "Count of element  2  is  1\n",
      "Count of element  3  is  1\n",
      "Count of element  4  is  1\n",
      "Count of element  5  is  1\n",
      "Count of element  6  is  1\n"
     ]
    }
   ],
   "source": [
    "l = LinkedList()\n",
    "nodes_val = [1,2,3,4,5,6]\n",
    "for i in nodes_val:\n",
    "    l.insertAtEnd(i)\n",
    "l.printLinkedList()\n",
    "countDict = l.count()\n",
    "for key,value in countDict.items():\n",
    "    print(\"Count of element \",key,\" is \",value)"
   ]
  },
  {
   "cell_type": "code",
   "execution_count": 394,
   "id": "9b4f2328",
   "metadata": {},
   "outputs": [
    {
     "name": "stdout",
     "output_type": "stream",
     "text": [
      "1 2 3 4 5 6 \n"
     ]
    },
    {
     "data": {
      "text/plain": [
       "'Even'"
      ]
     },
     "execution_count": 394,
     "metadata": {},
     "output_type": "execute_result"
    }
   ],
   "source": [
    "l.printLinkedList()\n",
    "l.evenOrOdd()"
   ]
  },
  {
   "cell_type": "code",
   "execution_count": 38,
   "id": "603f72fa",
   "metadata": {},
   "outputs": [],
   "source": [
    "class Node:\n",
    "    def __init__(self,data):\n",
    "        self.val = data\n",
    "        self.next = None"
   ]
  },
  {
   "cell_type": "code",
   "execution_count": 39,
   "id": "849fd188",
   "metadata": {},
   "outputs": [],
   "source": [
    "class LinkedList:\n",
    "    def __init__(self):\n",
    "        self.head = None    \n",
    "    def insertAtEnd(self,data):\n",
    "        newNode = Node(data)\n",
    "        cur = self.head\n",
    "        if cur == None:\n",
    "            self.head = newNode\n",
    "        else:\n",
    "            while cur.next != None:\n",
    "                cur = cur.next\n",
    "            cur.next = newNode    \n",
    "    def printLinkedList(self):\n",
    "        cur = self.head\n",
    "        while cur != None:\n",
    "            print(cur.val, end=\" \")\n",
    "            cur = cur.next\n",
    "        print()   \n",
    "        \n",
    "    def search(self,key):\n",
    "        cur = self.head\n",
    "        keyNode = None\n",
    "        while cur != None:\n",
    "            if cur.val == key:\n",
    "                keyNode = cur\n",
    "                break\n",
    "            cur = cur.next\n",
    "        return keyNode\n",
    "    \n",
    "    def getlength(self):\n",
    "        cur = self.head\n",
    "        length = 0\n",
    "        while cur != None:\n",
    "            length = length + 1\n",
    "            cur = cur.next\n",
    "        return length \n",
    "    \n",
    "    \n",
    "    def intersectionPoint(self,h1,h2):\n",
    "        cur1 = h1\n",
    "        cur2 = h2\n",
    "        st1 = []\n",
    "        st2 = []\n",
    "        while cur1 != None:\n",
    "            st1.append(cur1)\n",
    "            cur1 = cur1.next\n",
    "        while cur2 != None:\n",
    "            st2.append(cur2)\n",
    "            cur2 = cur2.next \n",
    "        while len(st1) and len(st2) :\n",
    "            alpha = st1.pop(-1)\n",
    "            beta = st2.pop(-1)\n",
    "            if alpha == beta:\n",
    "                interNode = alpha\n",
    "        return interNode   \n",
    "    "
   ]
  },
  {
   "cell_type": "code",
   "execution_count": 40,
   "id": "c40246ac",
   "metadata": {},
   "outputs": [
    {
     "name": "stdout",
     "output_type": "stream",
     "text": [
      "1 2 3 4 5 \n"
     ]
    }
   ],
   "source": [
    "l = LinkedList()\n",
    "l.head = Node(1)\n",
    "l.head.next = Node(2)\n",
    "l.head.next.next = Node(3)\n",
    "p = l.head.next.next\n",
    "l.head.next.next.next = Node(4)\n",
    "l.head.next.next.next.next = Node(5)\n",
    "l.printLinkedList()"
   ]
  },
  {
   "cell_type": "code",
   "execution_count": 41,
   "id": "b6d41444",
   "metadata": {},
   "outputs": [
    {
     "name": "stdout",
     "output_type": "stream",
     "text": [
      "11 12 13 14 3 4 5 \n"
     ]
    }
   ],
   "source": [
    "l3 = LinkedList()\n",
    "l3.head = Node(11)\n",
    "l3.head.next = Node(12)\n",
    "l3.head.next.next = Node(13)\n",
    "l3.head.next.next.next = Node(14)\n",
    "l3.head.next.next.next.next = p\n",
    "l3.printLinkedList()"
   ]
  },
  {
   "cell_type": "code",
   "execution_count": 42,
   "id": "e1d19425",
   "metadata": {},
   "outputs": [
    {
     "data": {
      "text/plain": [
       "3"
      ]
     },
     "execution_count": 42,
     "metadata": {},
     "output_type": "execute_result"
    }
   ],
   "source": [
    "interNode = l.intersectionPoint(l.head,l3.head)\n",
    "interNode.val"
   ]
  },
  {
   "cell_type": "code",
   "execution_count": 1,
   "id": "dbd718f6",
   "metadata": {},
   "outputs": [],
   "source": [
    "class Node:\n",
    "    def __init__(self,data):\n",
    "        self.val = data\n",
    "        self.next = None"
   ]
  },
  {
   "cell_type": "code",
   "execution_count": 14,
   "id": "a80ba3ba",
   "metadata": {},
   "outputs": [],
   "source": [
    "class LinkedList:\n",
    "    def __init__(self):\n",
    "        self.head = None    \n",
    "    def insertAtEnd(self,data):\n",
    "        newNode = Node(data)\n",
    "        cur = self.head\n",
    "        if cur == None:\n",
    "            self.head = newNode\n",
    "        else:\n",
    "            while cur.next != None:\n",
    "                cur = cur.next\n",
    "            cur.next = newNode    \n",
    "    def printLinkedList(self):\n",
    "        cur = self.head\n",
    "        while cur != None:\n",
    "            print(cur.val, end=\" \")\n",
    "            cur = cur.next\n",
    "        print()   \n",
    "        \n",
    "    def search(self,key):\n",
    "        cur = self.head\n",
    "        keyNode = None\n",
    "        while cur != None:\n",
    "            if cur.val == key:\n",
    "                keyNode = cur\n",
    "                break\n",
    "            cur = cur.next\n",
    "        return keyNode\n",
    "    \n",
    "    def getlength(self):\n",
    "        cur = self.head\n",
    "        length = 0\n",
    "        while cur != None:\n",
    "            length = length + 1\n",
    "            cur = cur.next\n",
    "        return length "
   ]
  },
  {
   "cell_type": "code",
   "execution_count": 15,
   "id": "122fa39b",
   "metadata": {},
   "outputs": [
    {
     "name": "stdout",
     "output_type": "stream",
     "text": [
      "1 2 3 4 5 \n"
     ]
    }
   ],
   "source": [
    "l = LinkedList()\n",
    "l.head = Node(1)\n",
    "l.head.next = Node(2)\n",
    "l.head.next.next = Node(3)\n",
    "p = l.head.next.next\n",
    "l.head.next.next.next = Node(4)\n",
    "l.head.next.next.next.next = Node(5)\n",
    "l.printLinkedList()"
   ]
  },
  {
   "cell_type": "code",
   "execution_count": 16,
   "id": "d82ebf52",
   "metadata": {},
   "outputs": [
    {
     "name": "stdout",
     "output_type": "stream",
     "text": [
      "11 12 13 14 3 4 5 \n"
     ]
    }
   ],
   "source": [
    "l3 = LinkedList()\n",
    "l3.head = Node(11)\n",
    "l3.head.next = Node(12)\n",
    "l3.head.next.next = Node(13)\n",
    "l3.head.next.next.next = Node(14)\n",
    "l3.head.next.next.next.next = p\n",
    "l3.printLinkedList()"
   ]
  },
  {
   "cell_type": "code",
   "execution_count": 17,
   "id": "b32db038",
   "metadata": {},
   "outputs": [],
   "source": [
    "def intersectionPoint2(l1,l2):\n",
    "        #global l, l3\n",
    "        interNode = None\n",
    "        cur1 = l1.head\n",
    "        cur2 = l2.head\n",
    "        len1 = l1.getlength()\n",
    "        len2 = l2.getlength()\n",
    "        if len1>len2:\n",
    "            d = len1-len2\n",
    "            while cur1!=None and d>0:\n",
    "                cur1 = cur1.next\n",
    "                d = d-1\n",
    "        else:\n",
    "            d = len2-len1\n",
    "            while cur2 != None and d>0:\n",
    "                cur2 = cur2.next\n",
    "                d=d-1\n",
    "                \n",
    "        while cur1 != cur2:\n",
    "            cur1 = cur1.next\n",
    "            cur2 = cur2.next\n",
    "        interNode = cur1\n",
    "        return interNode"
   ]
  },
  {
   "cell_type": "code",
   "execution_count": 18,
   "id": "2f1608fe",
   "metadata": {},
   "outputs": [
    {
     "data": {
      "text/plain": [
       "3"
      ]
     },
     "execution_count": 18,
     "metadata": {},
     "output_type": "execute_result"
    }
   ],
   "source": [
    "interNode = intersectionPoint2(l,l3)\n",
    "interNode.val"
   ]
  },
  {
   "cell_type": "code",
   "execution_count": 54,
   "id": "685334be",
   "metadata": {},
   "outputs": [],
   "source": [
    "class Node:\n",
    "    def __init__(self,data):\n",
    "        self.val = data\n",
    "        self.next = None\n",
    "        self.prev = None\n",
    "        \n",
    "        \n",
    "class LinkedList:\n",
    "    def __init__(self):\n",
    "        self.head = None    \n",
    "    def insertAtEnd(self,data):\n",
    "        newNode = Node(data)\n",
    "        cur = self.head\n",
    "        if cur == None:\n",
    "            self.head = newNode\n",
    "        else:\n",
    "            while cur.next != None:\n",
    "                cur = cur.next\n",
    "            cur.next = newNode    \n",
    "    def printLinkedList(self):\n",
    "        cur = self.head\n",
    "        while cur != None:\n",
    "            print(cur.val, end=\" \")\n",
    "            cur = cur.next\n",
    "        print()   \n",
    "        \n",
    "    def search(self,key):\n",
    "        cur = self.head\n",
    "        keyNode = None\n",
    "        while cur != None:\n",
    "            if cur.val == key:\n",
    "                keyNode = cur\n",
    "                break\n",
    "            cur = cur.next\n",
    "        return keyNode\n",
    "    \n",
    "    def getlength(self):\n",
    "        cur = self.head\n",
    "        length = 0\n",
    "        while cur != None:\n",
    "            length = length + 1\n",
    "            cur = cur.next\n",
    "        return length \n",
    "    def nthNodeFromEnd(self,n):\n",
    "        if self.head == None:\n",
    "            return None\n",
    "        ahead = self.head\n",
    "        behind = self.head\n",
    "        while ahead!=None and n-1>0:\n",
    "            ahead = ahead.next\n",
    "            n = n-1\n",
    "        if ahead==None:\n",
    "            return None\n",
    "        while ahead.next!=None:\n",
    "            ahead = ahead.next\n",
    "            behind = behind.next\n",
    "        return behind \n",
    "    \n",
    "    def reverseR(self,head):\n",
    "        if head == None or head.next == None:\n",
    "            return head\n",
    "        rest = self.reverseR(head.next)\n",
    "        alpha = head.next\n",
    "        head.next.next = head\n",
    "        head.next = None\n",
    "        head.prev = alpha\n",
    "        return rest\n",
    "    \n",
    "    def reverseI(self):\n",
    "        cur = self.head\n",
    "        while cur != None:\n",
    "            temp = cur.prev\n",
    "            cur.prev = cur.next\n",
    "            cur.next = temp\n",
    "            cur = cur.prev\n",
    "        if temp != None:\n",
    "            self.head = temp.prev"
   ]
  },
  {
   "cell_type": "code",
   "execution_count": 55,
   "id": "649a162a",
   "metadata": {},
   "outputs": [
    {
     "name": "stdout",
     "output_type": "stream",
     "text": [
      "1 2 3 4 5 \n"
     ]
    },
    {
     "data": {
      "text/plain": [
       "3"
      ]
     },
     "execution_count": 55,
     "metadata": {},
     "output_type": "execute_result"
    }
   ],
   "source": [
    "l = LinkedList()\n",
    "nodes_val = [1,2,3,4,5]\n",
    "for i in nodes_val:\n",
    "    l.insertAtEnd(i)\n",
    "l.printLinkedList()\n",
    "n=3\n",
    "nthNode = l.nthNodeFromEnd(n)\n",
    "nthNode.val"
   ]
  },
  {
   "cell_type": "code",
   "execution_count": 56,
   "id": "a809f12a",
   "metadata": {},
   "outputs": [
    {
     "name": "stdout",
     "output_type": "stream",
     "text": [
      "1 2 3 4 5 \n",
      "5 4 3 2 1 \n"
     ]
    }
   ],
   "source": [
    "l.printLinkedList()\n",
    "l.head = l.reverseR(l.head)\n",
    "l.printLinkedList()"
   ]
  },
  {
   "cell_type": "code",
   "execution_count": 57,
   "id": "e95498ac",
   "metadata": {},
   "outputs": [
    {
     "name": "stdout",
     "output_type": "stream",
     "text": [
      "5 4 3 2 1 \n",
      "1 2 3 4 5 \n"
     ]
    }
   ],
   "source": [
    "l.printLinkedList()\n",
    "l.reverseI()\n",
    "l.printLinkedList()"
   ]
  },
  {
   "cell_type": "code",
   "execution_count": null,
   "id": "8a44d124",
   "metadata": {},
   "outputs": [],
   "source": []
  },
  {
   "cell_type": "code",
   "execution_count": null,
   "id": "1e39cb1a",
   "metadata": {},
   "outputs": [],
   "source": []
  }
 ],
 "metadata": {
  "kernelspec": {
   "display_name": "Python 3",
   "language": "python",
   "name": "python3"
  },
  "language_info": {
   "codemirror_mode": {
    "name": "ipython",
    "version": 3
   },
   "file_extension": ".py",
   "mimetype": "text/x-python",
   "name": "python",
   "nbconvert_exporter": "python",
   "pygments_lexer": "ipython3",
   "version": "3.8.8"
  }
 },
 "nbformat": 4,
 "nbformat_minor": 5
}
