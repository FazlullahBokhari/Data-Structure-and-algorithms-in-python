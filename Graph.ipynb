{
 "cells": [
  {
   "cell_type": "code",
   "execution_count": 36,
   "id": "0263063a",
   "metadata": {},
   "outputs": [
    {
     "data": {
      "text/plain": [
       "{0: [1, 2], 1: [2], 2: [0, 3], 3: [3]}"
      ]
     },
     "execution_count": 36,
     "metadata": {},
     "output_type": "execute_result"
    }
   ],
   "source": [
    "#1st approach\n",
    "edges = [[0,1],[0,2],[1,2],[2,0],[2,3],[3,3]]\n",
    "graph = {}\n",
    "for i,j in edges:\n",
    "    if i in graph:\n",
    "        graph[i].append(j)\n",
    "    else:\n",
    "        graph[i] = [j] \n",
    "graph        "
   ]
  },
  {
   "cell_type": "code",
   "execution_count": 37,
   "id": "f000d1cc",
   "metadata": {},
   "outputs": [
    {
     "data": {
      "text/plain": [
       "{0: [1, 2], 1: [2], 2: [0, 3], 3: [3]}"
      ]
     },
     "execution_count": 37,
     "metadata": {},
     "output_type": "execute_result"
    }
   ],
   "source": [
    "#2nd approach\n",
    "import collections as c\n",
    "edges = [[0,1],[0,2],[1,2],[2,0],[2,3],[3,3]]\n",
    "graph = c.defaultdict(list)\n",
    "for i,j in edges:\n",
    "    graph[i].append(j)\n",
    "dict(graph)        "
   ]
  },
  {
   "cell_type": "code",
   "execution_count": 38,
   "id": "886219a5",
   "metadata": {},
   "outputs": [],
   "source": [
    "#3rd approach\n",
    "\n",
    "class Graph:\n",
    "    def __init__(self):\n",
    "        self.graph = c.defaultdict(list)\n",
    "        \n",
    "    def addEdge(self,u,v):\n",
    "        self.graph[u].append(v)"
   ]
  },
  {
   "cell_type": "code",
   "execution_count": 39,
   "id": "45054107",
   "metadata": {},
   "outputs": [
    {
     "name": "stdout",
     "output_type": "stream",
     "text": [
      "{0: [1, 2], 1: [2], 2: [0, 3], 3: [3]}\n",
      "{0: [1, 2], 1: [2], 2: [0]}\n"
     ]
    }
   ],
   "source": [
    "g = Graph()\n",
    "g.addEdge(0,1)\n",
    "g.addEdge(0,2)\n",
    "g.addEdge(1,2)\n",
    "g.addEdge(2,0)\n",
    "g.addEdge(2,3)\n",
    "g.addEdge(3,3)\n",
    "print(dict(g.graph))\n",
    "\n",
    "g1 = Graph()\n",
    "g1.addEdge(0,1)\n",
    "g1.addEdge(0,2)\n",
    "g1.addEdge(1,2)\n",
    "g1.addEdge(2,0)\n",
    "print(dict(g1.graph))"
   ]
  },
  {
   "cell_type": "code",
   "execution_count": 40,
   "id": "3d148608",
   "metadata": {},
   "outputs": [
    {
     "name": "stdout",
     "output_type": "stream",
     "text": [
      "[0, 1, 1, 0]\n",
      "[0, 0, 1, 0]\n",
      "[1, 0, 0, 1]\n",
      "[0, 0, 0, 1]\n"
     ]
    }
   ],
   "source": [
    "#4th approach\n",
    "edges = [[0,1],[0,2],[1,2],[2,0],[2,3],[3,3]]\n",
    "graph = []\n",
    "n=3\n",
    "for _ in range(4):\n",
    "    row = []\n",
    "    for __ in range(4):\n",
    "        row.append(0)\n",
    "    graph.append(row) \n",
    "for i,j in edges:\n",
    "    graph[i][j] = 1   \n",
    "for i in graph:\n",
    "    print(i)  "
   ]
  },
  {
   "cell_type": "code",
   "execution_count": 52,
   "id": "21375996",
   "metadata": {},
   "outputs": [],
   "source": [
    "import collections as c\n",
    "class Graph:\n",
    "    def __init__(self):\n",
    "        self.graph = c.defaultdict(list)\n",
    "        \n",
    "    def addEdge(self,u,v):\n",
    "        self.graph[u].append(v)\n",
    "        self.graph[v].append(u)  \n",
    "    \n",
    "    def bfs(self,s,visited):\n",
    "        queue = []\n",
    "        queue.append(s)\n",
    "        visited[s] = True\n",
    "        while len(queue)!=0:\n",
    "            s = queue.pop(0)\n",
    "            print(s,end=\" \")\n",
    "            for i in self.graph[s]:\n",
    "                if visited[i] == False:\n",
    "                    queue.append(i)\n",
    "                    visited[i] = True               \n",
    "    \n",
    "    def bfsDdisconnected(self):\n",
    "        visited = [False]*(max(self.graph)+1)\n",
    "        for i in self.graph.keys():\n",
    "            if not visited[i]:\n",
    "                self.bfs(i,visited)"
   ]
  },
  {
   "cell_type": "code",
   "execution_count": 54,
   "id": "40730cbf",
   "metadata": {},
   "outputs": [
    {
     "name": "stdout",
     "output_type": "stream",
     "text": [
      "0 1 2 3 4 5 6 7 "
     ]
    }
   ],
   "source": [
    "g = Graph()\n",
    "g.addEdge(0,1)\n",
    "g.addEdge(0,2)\n",
    "g.addEdge(1,2)\n",
    "g.addEdge(2,0)\n",
    "g.addEdge(2,3)\n",
    "g.addEdge(3,3)\n",
    "g.addEdge(4,5)\n",
    "g.addEdge(6,7)\n",
    "g.bfsDdisconnected()"
   ]
  },
  {
   "cell_type": "code",
   "execution_count": 58,
   "id": "70c7fc42",
   "metadata": {},
   "outputs": [],
   "source": [
    "import collections as c\n",
    "class Graph:\n",
    "    def __init__(self):\n",
    "        self.graph = c.defaultdict(list)\n",
    "        \n",
    "    def addEdge(self,u,v):\n",
    "        self.graph[u].append(v)\n",
    "        self.graph[v].append(u) \n",
    "        \n",
    "    def dfs(self,s):\n",
    "        stack = []\n",
    "        stack.append(s)\n",
    "        while stack:\n",
    "            s = stack.pop(-1)\n",
    "            if visited[s] == False:\n",
    "                print(s,end=\" \")\n",
    "                visited[s] = True\n",
    "            for i in self.graph[s]:\n",
    "                if visited[i] == False:\n",
    "                    stack.append(i)\n",
    "                    \n",
    "    def dfsDdisconnected(self):\n",
    "        visited = [False]*(max(self.graph)+1)\n",
    "        for i in self.graph.keys():\n",
    "            if not visited[i]:\n",
    "                self.dfs(i,visited)                 "
   ]
  },
  {
   "cell_type": "code",
   "execution_count": 59,
   "id": "201e65f5",
   "metadata": {},
   "outputs": [
    {
     "ename": "TypeError",
     "evalue": "dfsDdisconnected() takes 1 positional argument but 2 were given",
     "output_type": "error",
     "traceback": [
      "\u001b[1;31m---------------------------------------------------------------------------\u001b[0m",
      "\u001b[1;31mTypeError\u001b[0m                                 Traceback (most recent call last)",
      "\u001b[1;32m<ipython-input-59-082f76fc24ae>\u001b[0m in \u001b[0;36m<module>\u001b[1;34m\u001b[0m\n\u001b[0;32m      7\u001b[0m \u001b[0mg\u001b[0m\u001b[1;33m.\u001b[0m\u001b[0maddEdge\u001b[0m\u001b[1;33m(\u001b[0m\u001b[1;36m3\u001b[0m\u001b[1;33m,\u001b[0m\u001b[1;36m3\u001b[0m\u001b[1;33m)\u001b[0m\u001b[1;33m\u001b[0m\u001b[1;33m\u001b[0m\u001b[0m\n\u001b[0;32m      8\u001b[0m \u001b[0mg\u001b[0m\u001b[1;33m.\u001b[0m\u001b[0maddEdge\u001b[0m\u001b[1;33m(\u001b[0m\u001b[1;36m4\u001b[0m\u001b[1;33m,\u001b[0m\u001b[1;36m5\u001b[0m\u001b[1;33m)\u001b[0m\u001b[1;33m\u001b[0m\u001b[1;33m\u001b[0m\u001b[0m\n\u001b[1;32m----> 9\u001b[1;33m \u001b[0mg\u001b[0m\u001b[1;33m.\u001b[0m\u001b[0mdfsDdisconnected\u001b[0m\u001b[1;33m(\u001b[0m\u001b[1;36m0\u001b[0m\u001b[1;33m)\u001b[0m\u001b[1;33m\u001b[0m\u001b[1;33m\u001b[0m\u001b[0m\n\u001b[0m",
      "\u001b[1;31mTypeError\u001b[0m: dfsDdisconnected() takes 1 positional argument but 2 were given"
     ]
    }
   ],
   "source": [
    "g = Graph()\n",
    "g.addEdge(0,1)\n",
    "g.addEdge(0,2)\n",
    "g.addEdge(1,2)\n",
    "g.addEdge(2,0)\n",
    "g.addEdge(2,3)\n",
    "g.addEdge(3,3)\n",
    "g.addEdge(4,5)\n",
    "g.dfsDdisconnected(0)"
   ]
  },
  {
   "cell_type": "code",
   "execution_count": null,
   "id": "b948d123",
   "metadata": {},
   "outputs": [],
   "source": []
  }
 ],
 "metadata": {
  "kernelspec": {
   "display_name": "Python 3",
   "language": "python",
   "name": "python3"
  },
  "language_info": {
   "codemirror_mode": {
    "name": "ipython",
    "version": 3
   },
   "file_extension": ".py",
   "mimetype": "text/x-python",
   "name": "python",
   "nbconvert_exporter": "python",
   "pygments_lexer": "ipython3",
   "version": "3.8.8"
  }
 },
 "nbformat": 4,
 "nbformat_minor": 5
}
