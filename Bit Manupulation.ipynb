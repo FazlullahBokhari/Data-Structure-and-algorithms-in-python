{
 "cells": [
  {
   "cell_type": "code",
   "execution_count": 3,
   "id": "a9c20d4c",
   "metadata": {},
   "outputs": [],
   "source": [
    "a = 4\n",
    "b = 5"
   ]
  },
  {
   "cell_type": "code",
   "execution_count": 4,
   "id": "699a3cbc",
   "metadata": {},
   "outputs": [
    {
     "data": {
      "text/plain": [
       "4"
      ]
     },
     "execution_count": 4,
     "metadata": {},
     "output_type": "execute_result"
    }
   ],
   "source": [
    "and_val = a&b\n",
    "and_val"
   ]
  },
  {
   "cell_type": "code",
   "execution_count": 5,
   "id": "39edd970",
   "metadata": {},
   "outputs": [
    {
     "data": {
      "text/plain": [
       "5"
      ]
     },
     "execution_count": 5,
     "metadata": {},
     "output_type": "execute_result"
    }
   ],
   "source": [
    "or_val = a|b\n",
    "or_val"
   ]
  },
  {
   "cell_type": "code",
   "execution_count": 6,
   "id": "7f4dc667",
   "metadata": {},
   "outputs": [
    {
     "data": {
      "text/plain": [
       "1"
      ]
     },
     "execution_count": 6,
     "metadata": {},
     "output_type": "execute_result"
    }
   ],
   "source": [
    "xor_val = a^b\n",
    "xor_val"
   ]
  },
  {
   "cell_type": "code",
   "execution_count": 7,
   "id": "09ad0a15",
   "metadata": {},
   "outputs": [
    {
     "data": {
      "text/plain": [
       "-6"
      ]
     },
     "execution_count": 7,
     "metadata": {},
     "output_type": "execute_result"
    }
   ],
   "source": [
    "not_val = ~b\n",
    "not_val"
   ]
  },
  {
   "cell_type": "code",
   "execution_count": 8,
   "id": "9b8bc235",
   "metadata": {},
   "outputs": [
    {
     "data": {
      "text/plain": [
       "8"
      ]
     },
     "execution_count": 8,
     "metadata": {},
     "output_type": "execute_result"
    }
   ],
   "source": [
    "left_shift = a<<1\n",
    "left_shift"
   ]
  },
  {
   "cell_type": "code",
   "execution_count": 9,
   "id": "5d92d42c",
   "metadata": {},
   "outputs": [
    {
     "data": {
      "text/plain": [
       "2"
      ]
     },
     "execution_count": 9,
     "metadata": {},
     "output_type": "execute_result"
    }
   ],
   "source": [
    "right_shift = a>>1\n",
    "right_shift"
   ]
  },
  {
   "cell_type": "code",
   "execution_count": 19,
   "id": "7cb2f67d",
   "metadata": {},
   "outputs": [],
   "source": [
    "def isPowerOfTwo(x):\n",
    "    if x==0:\n",
    "        return False\n",
    "    while x%2==0:\n",
    "        x = x/2\n",
    "    if x==1:\n",
    "        return True\n",
    "    return False"
   ]
  },
  {
   "cell_type": "code",
   "execution_count": 20,
   "id": "fedd17ee",
   "metadata": {},
   "outputs": [
    {
     "data": {
      "text/plain": [
       "False"
      ]
     },
     "execution_count": 20,
     "metadata": {},
     "output_type": "execute_result"
    }
   ],
   "source": [
    "x = 0\n",
    "isPowerOfTwo(x)"
   ]
  },
  {
   "cell_type": "code",
   "execution_count": 22,
   "id": "8833bf8b",
   "metadata": {},
   "outputs": [],
   "source": [
    "import math \n",
    "def log2(x):\n",
    "    if x == 0:\n",
    "        return False\n",
    "    return math.log10(x)/math.log10(2)\n",
    "def isPowerOfTwo2(x):\n",
    "    if math.ceil(log2(x)) == math.floor(log2(x)):\n",
    "        return True\n",
    "    return False"
   ]
  },
  {
   "cell_type": "code",
   "execution_count": 25,
   "id": "939f1312",
   "metadata": {},
   "outputs": [
    {
     "data": {
      "text/plain": [
       "False"
      ]
     },
     "execution_count": 25,
     "metadata": {},
     "output_type": "execute_result"
    }
   ],
   "source": [
    "x = 10\n",
    "isPowerOfTwo2(x)"
   ]
  },
  {
   "cell_type": "code",
   "execution_count": 26,
   "id": "d1dfdae3",
   "metadata": {},
   "outputs": [],
   "source": [
    "def isPowerOfTwo3(x):\n",
    "    if x&(x-1)==0:\n",
    "        return True\n",
    "    return False"
   ]
  },
  {
   "cell_type": "code",
   "execution_count": 30,
   "id": "d7d51e14",
   "metadata": {},
   "outputs": [
    {
     "data": {
      "text/plain": [
       "True"
      ]
     },
     "execution_count": 30,
     "metadata": {},
     "output_type": "execute_result"
    }
   ],
   "source": [
    "x = 16\n",
    "isPowerOfTwo3(x)"
   ]
  },
  {
   "cell_type": "code",
   "execution_count": 61,
   "id": "c933e3c9",
   "metadata": {},
   "outputs": [],
   "source": [
    "def countOne(n):\n",
    "    bin_num = bin(n)[2:]\n",
    "    count = 0\n",
    "    for i in bin_num:\n",
    "        if i=='1':\n",
    "            count += 1\n",
    "    return count        "
   ]
  },
  {
   "cell_type": "code",
   "execution_count": 62,
   "id": "4a8f7416",
   "metadata": {},
   "outputs": [
    {
     "data": {
      "text/plain": [
       "4"
      ]
     },
     "execution_count": 62,
     "metadata": {},
     "output_type": "execute_result"
    }
   ],
   "source": [
    "n = 23\n",
    "countOne(n)"
   ]
  },
  {
   "cell_type": "code",
   "execution_count": 65,
   "id": "a6436e04",
   "metadata": {},
   "outputs": [],
   "source": [
    "def countOne2(n):\n",
    "    count = 0\n",
    "    while n:\n",
    "        n = n&(n-1)\n",
    "        count += 1\n",
    "    return count        "
   ]
  },
  {
   "cell_type": "code",
   "execution_count": 66,
   "id": "1b5b109d",
   "metadata": {},
   "outputs": [
    {
     "data": {
      "text/plain": [
       "4"
      ]
     },
     "execution_count": 66,
     "metadata": {},
     "output_type": "execute_result"
    }
   ],
   "source": [
    "n = 23\n",
    "countOne2(n)"
   ]
  },
  {
   "cell_type": "code",
   "execution_count": 73,
   "id": "2cd8d015",
   "metadata": {},
   "outputs": [],
   "source": [
    "import random\n",
    "def listInit():\n",
    "    l = []\n",
    "    for i in range(1,101):\n",
    "        l.append(i)\n",
    "    missingIndex = random.randint(0,99)\n",
    "    print(l[missingIndex])\n",
    "    l.pop(missingIndex)\n",
    "    return l"
   ]
  },
  {
   "cell_type": "code",
   "execution_count": 74,
   "id": "c742ab42",
   "metadata": {},
   "outputs": [],
   "source": [
    "def missingElement(arr):\n",
    "    exp_xor = 0\n",
    "    actual_xor = 0\n",
    "    for i in range(1,101):\n",
    "        exp_xor = exp_xor^i\n",
    "    for i in arr:\n",
    "        actual_xor = actual_xor^i\n",
    "    missingEle = actual_xor^exp_xor\n",
    "    return missingEle"
   ]
  },
  {
   "cell_type": "code",
   "execution_count": 75,
   "id": "73ec40cf",
   "metadata": {},
   "outputs": [
    {
     "name": "stdout",
     "output_type": "stream",
     "text": [
      "75\n"
     ]
    },
    {
     "data": {
      "text/plain": [
       "75"
      ]
     },
     "execution_count": 75,
     "metadata": {},
     "output_type": "execute_result"
    }
   ],
   "source": [
    "arr = listInit()\n",
    "missingElement(arr)"
   ]
  },
  {
   "cell_type": "code",
   "execution_count": 76,
   "id": "c2f8448f",
   "metadata": {},
   "outputs": [],
   "source": [
    "def eleOccursOnce(arr):\n",
    "    xor_val = 0\n",
    "    for i in arr:\n",
    "        xor_val = xor_val^i\n",
    "    ele = xor_val\n",
    "    return ele"
   ]
  },
  {
   "cell_type": "code",
   "execution_count": 77,
   "id": "56d119fb",
   "metadata": {},
   "outputs": [
    {
     "data": {
      "text/plain": [
       "9"
      ]
     },
     "execution_count": 77,
     "metadata": {},
     "output_type": "execute_result"
    }
   ],
   "source": [
    "arr = [1,1,2,2,3,3,4,4,5,5,6,6,7,7,8,9,8]\n",
    "eleOccursOnce(arr)"
   ]
  },
  {
   "cell_type": "code",
   "execution_count": null,
   "id": "450cd033",
   "metadata": {},
   "outputs": [],
   "source": []
  }
 ],
 "metadata": {
  "kernelspec": {
   "display_name": "Python 3",
   "language": "python",
   "name": "python3"
  },
  "language_info": {
   "codemirror_mode": {
    "name": "ipython",
    "version": 3
   },
   "file_extension": ".py",
   "mimetype": "text/x-python",
   "name": "python",
   "nbconvert_exporter": "python",
   "pygments_lexer": "ipython3",
   "version": "3.8.8"
  }
 },
 "nbformat": 4,
 "nbformat_minor": 5
}
