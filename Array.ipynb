{
 "cells": [
  {
   "cell_type": "code",
   "execution_count": 1,
   "id": "f5e5b768",
   "metadata": {},
   "outputs": [],
   "source": [
    "def max_min_array(arr):\n",
    "    if len(arr) == 0:\n",
    "        return \n",
    "    arr.sort()\n",
    "    min_element = arr[0]\n",
    "    max_element = arr[len(arr)-1]\n",
    "    return min_element,max_element"
   ]
  },
  {
   "cell_type": "code",
   "execution_count": 2,
   "id": "8d4962d5",
   "metadata": {},
   "outputs": [
    {
     "data": {
      "text/plain": [
       "(1, 7)"
      ]
     },
     "execution_count": 2,
     "metadata": {},
     "output_type": "execute_result"
    }
   ],
   "source": [
    "arr = [2,4,5,1,2,3,5,7,4]\n",
    "max_min_array(arr)"
   ]
  },
  {
   "cell_type": "code",
   "execution_count": 3,
   "id": "3becbe75",
   "metadata": {},
   "outputs": [],
   "source": [
    "def max_min(arr):\n",
    "    if len(arr) == 0:\n",
    "        return \"zero length array\"\n",
    "    else:\n",
    "        a = arr[0]\n",
    "        b = arr[0]\n",
    "        print(min_ele)\n",
    "        for i in range(0,len(arr)):\n",
    "            if a<arr[i]:\n",
    "                a = arr[i]\n",
    "                max_ele = a\n",
    "                print(max_ele,\"max---------\",i)\n",
    "            elif b>arr[i]:\n",
    "                b = arr[i]\n",
    "                min_ele = b\n",
    "                print(min_ele,\"min----------\",i)\n",
    "        return min_ele,max_ele        "
   ]
  },
  {
   "cell_type": "code",
   "execution_count": 4,
   "id": "69b2871d",
   "metadata": {},
   "outputs": [
    {
     "ename": "UnboundLocalError",
     "evalue": "local variable 'min_ele' referenced before assignment",
     "output_type": "error",
     "traceback": [
      "\u001b[1;31m---------------------------------------------------------------------------\u001b[0m",
      "\u001b[1;31mUnboundLocalError\u001b[0m                         Traceback (most recent call last)",
      "\u001b[1;32m<ipython-input-4-5c25afeca0a7>\u001b[0m in \u001b[0;36m<module>\u001b[1;34m\u001b[0m\n\u001b[0;32m      1\u001b[0m \u001b[0marr\u001b[0m \u001b[1;33m=\u001b[0m \u001b[1;33m[\u001b[0m\u001b[1;36m2\u001b[0m\u001b[1;33m,\u001b[0m\u001b[1;36m4\u001b[0m\u001b[1;33m,\u001b[0m\u001b[1;36m5\u001b[0m\u001b[1;33m,\u001b[0m\u001b[1;36m1\u001b[0m\u001b[1;33m,\u001b[0m\u001b[1;36m2\u001b[0m\u001b[1;33m,\u001b[0m\u001b[1;36m3\u001b[0m\u001b[1;33m,\u001b[0m\u001b[1;36m5\u001b[0m\u001b[1;33m,\u001b[0m\u001b[1;36m7\u001b[0m\u001b[1;33m,\u001b[0m\u001b[1;36m4\u001b[0m\u001b[1;33m]\u001b[0m\u001b[1;33m\u001b[0m\u001b[1;33m\u001b[0m\u001b[0m\n\u001b[1;32m----> 2\u001b[1;33m \u001b[0mmax_min\u001b[0m\u001b[1;33m(\u001b[0m\u001b[0marr\u001b[0m\u001b[1;33m)\u001b[0m\u001b[1;33m\u001b[0m\u001b[1;33m\u001b[0m\u001b[0m\n\u001b[0m",
      "\u001b[1;32m<ipython-input-3-245199bbdbdf>\u001b[0m in \u001b[0;36mmax_min\u001b[1;34m(arr)\u001b[0m\n\u001b[0;32m      5\u001b[0m         \u001b[0ma\u001b[0m \u001b[1;33m=\u001b[0m \u001b[0marr\u001b[0m\u001b[1;33m[\u001b[0m\u001b[1;36m0\u001b[0m\u001b[1;33m]\u001b[0m\u001b[1;33m\u001b[0m\u001b[1;33m\u001b[0m\u001b[0m\n\u001b[0;32m      6\u001b[0m         \u001b[0mb\u001b[0m \u001b[1;33m=\u001b[0m \u001b[0marr\u001b[0m\u001b[1;33m[\u001b[0m\u001b[1;36m0\u001b[0m\u001b[1;33m]\u001b[0m\u001b[1;33m\u001b[0m\u001b[1;33m\u001b[0m\u001b[0m\n\u001b[1;32m----> 7\u001b[1;33m         \u001b[0mprint\u001b[0m\u001b[1;33m(\u001b[0m\u001b[0mmin_ele\u001b[0m\u001b[1;33m)\u001b[0m\u001b[1;33m\u001b[0m\u001b[1;33m\u001b[0m\u001b[0m\n\u001b[0m\u001b[0;32m      8\u001b[0m         \u001b[1;32mfor\u001b[0m \u001b[0mi\u001b[0m \u001b[1;32min\u001b[0m \u001b[0mrange\u001b[0m\u001b[1;33m(\u001b[0m\u001b[1;36m0\u001b[0m\u001b[1;33m,\u001b[0m\u001b[0mlen\u001b[0m\u001b[1;33m(\u001b[0m\u001b[0marr\u001b[0m\u001b[1;33m)\u001b[0m\u001b[1;33m)\u001b[0m\u001b[1;33m:\u001b[0m\u001b[1;33m\u001b[0m\u001b[1;33m\u001b[0m\u001b[0m\n\u001b[0;32m      9\u001b[0m             \u001b[1;32mif\u001b[0m \u001b[0ma\u001b[0m\u001b[1;33m<\u001b[0m\u001b[0marr\u001b[0m\u001b[1;33m[\u001b[0m\u001b[0mi\u001b[0m\u001b[1;33m]\u001b[0m\u001b[1;33m:\u001b[0m\u001b[1;33m\u001b[0m\u001b[1;33m\u001b[0m\u001b[0m\n",
      "\u001b[1;31mUnboundLocalError\u001b[0m: local variable 'min_ele' referenced before assignment"
     ]
    }
   ],
   "source": [
    "arr = [2,4,5,1,2,3,5,7,4]\n",
    "max_min(arr)"
   ]
  },
  {
   "cell_type": "code",
   "execution_count": 5,
   "id": "130cfff3",
   "metadata": {},
   "outputs": [],
   "source": [
    "def segreate1(arr):\n",
    "    new_arr = []\n",
    "    zero = []\n",
    "    one = []\n",
    "    for i in arr:\n",
    "        if i == 0:\n",
    "            zero.append(i)\n",
    "        if i == 1:\n",
    "            one.append(i)\n",
    "        new_arr = zero + one\n",
    "    return new_arr        "
   ]
  },
  {
   "cell_type": "code",
   "execution_count": 6,
   "id": "8d297a2e",
   "metadata": {},
   "outputs": [
    {
     "data": {
      "text/plain": [
       "[0, 0, 0, 0, 0, 1, 1, 1, 1, 1]"
      ]
     },
     "execution_count": 6,
     "metadata": {},
     "output_type": "execute_result"
    }
   ],
   "source": [
    "arr1 = [0,1,0,1,0,1,0,0,1,1]\n",
    "segreate1(arr1)"
   ]
  },
  {
   "cell_type": "code",
   "execution_count": 7,
   "id": "53e1be72",
   "metadata": {},
   "outputs": [],
   "source": [
    "def segregate2(arr):\n",
    "    count = 0\n",
    "    for i in arr:\n",
    "        if i == 0:\n",
    "            count = count + 1\n",
    "    for i in range(count):\n",
    "        arr[i] = 0\n",
    "    for i in range(count, len(arr)):\n",
    "        arr[i] = 1\n",
    "    return arr    "
   ]
  },
  {
   "cell_type": "code",
   "execution_count": 8,
   "id": "3ff0e155",
   "metadata": {},
   "outputs": [
    {
     "data": {
      "text/plain": [
       "[0, 0, 0, 0, 0, 1, 1, 1, 1, 1]"
      ]
     },
     "execution_count": 8,
     "metadata": {},
     "output_type": "execute_result"
    }
   ],
   "source": [
    "segregate2(arr1)"
   ]
  },
  {
   "cell_type": "code",
   "execution_count": 9,
   "id": "c84a4b7e",
   "metadata": {},
   "outputs": [],
   "source": [
    "def segregate3(arr):\n",
    "    left = 0\n",
    "    right = len(arr)-1\n",
    "    while left<right:\n",
    "        while arr[left] == 0 and left<right:\n",
    "            left = left +1\n",
    "            print(left,\"llllllllllll\")\n",
    "        while arr[right] == 1 and left<right:\n",
    "            right = right - 1\n",
    "            print(right,\"rrrrrrrrrrrrrr\")\n",
    "        if left<right:    \n",
    "            arr[left] = 0\n",
    "            arr[right] = 1\n",
    "            left = left +1\n",
    "            right = right - 1\n",
    "    return arr    "
   ]
  },
  {
   "cell_type": "code",
   "execution_count": 10,
   "id": "90c43509",
   "metadata": {},
   "outputs": [
    {
     "name": "stdout",
     "output_type": "stream",
     "text": [
      "1 llllllllllll\n",
      "2 llllllllllll\n",
      "3 llllllllllll\n",
      "4 llllllllllll\n",
      "5 llllllllllll\n",
      "8 rrrrrrrrrrrrrr\n",
      "7 rrrrrrrrrrrrrr\n",
      "6 rrrrrrrrrrrrrr\n",
      "5 rrrrrrrrrrrrrr\n"
     ]
    },
    {
     "data": {
      "text/plain": [
       "[0, 0, 0, 0, 0, 1, 1, 1, 1, 1]"
      ]
     },
     "execution_count": 10,
     "metadata": {},
     "output_type": "execute_result"
    }
   ],
   "source": [
    "segregate3(arr1)"
   ]
  },
  {
   "cell_type": "code",
   "execution_count": 11,
   "id": "a08794ed",
   "metadata": {},
   "outputs": [],
   "source": [
    "def segregate4(arr):\n",
    "    left = 0\n",
    "    right = len(arr)-1\n",
    "    while left<right:\n",
    "        if arr[left] == 1:\n",
    "            arr[left],arr[right] = arr[right],arr[left]\n",
    "            right -=1\n",
    "        else:\n",
    "            left +=1\n",
    "    return arr        "
   ]
  },
  {
   "cell_type": "code",
   "execution_count": 12,
   "id": "a92a49d1",
   "metadata": {},
   "outputs": [
    {
     "data": {
      "text/plain": [
       "[0, 0, 0, 0, 0, 1, 1, 1, 1, 1]"
      ]
     },
     "execution_count": 12,
     "metadata": {},
     "output_type": "execute_result"
    }
   ],
   "source": [
    "segregate4(arr1)"
   ]
  },
  {
   "cell_type": "code",
   "execution_count": 13,
   "id": "b6bc9c17",
   "metadata": {},
   "outputs": [],
   "source": [
    "def sort012Method(arr):\n",
    "    arr.sort()\n",
    "    return arr"
   ]
  },
  {
   "cell_type": "code",
   "execution_count": 14,
   "id": "9dd3fbdd",
   "metadata": {},
   "outputs": [
    {
     "data": {
      "text/plain": [
       "[0, 0, 0, 0, 0, 0, 1, 1, 1, 1, 2, 2, 2, 2]"
      ]
     },
     "execution_count": 14,
     "metadata": {},
     "output_type": "execute_result"
    }
   ],
   "source": [
    "arr = [0,1,2,0,1,0,2,1,0,2,1,0,2,0]\n",
    "sort012Method(arr)"
   ]
  },
  {
   "cell_type": "code",
   "execution_count": 15,
   "id": "4c4754e7",
   "metadata": {},
   "outputs": [],
   "source": [
    "def sort012Method2(arr):\n",
    "    new_arr = []\n",
    "    zero = []\n",
    "    one = []\n",
    "    two = []\n",
    "    for i in arr:\n",
    "        if i == 0:\n",
    "            zero.append(i)\n",
    "        if i == 1:\n",
    "            one.append(i)\n",
    "        if i == 2:\n",
    "            two.append(i)\n",
    "        new_arr = zero + one +two\n",
    "    return new_arr    "
   ]
  },
  {
   "cell_type": "code",
   "execution_count": 16,
   "id": "d2aea057",
   "metadata": {},
   "outputs": [
    {
     "data": {
      "text/plain": [
       "[0, 0, 0, 0, 0, 0, 1, 1, 1, 1, 2, 2, 2, 2]"
      ]
     },
     "execution_count": 16,
     "metadata": {},
     "output_type": "execute_result"
    }
   ],
   "source": [
    "sort012Method2(arr)"
   ]
  },
  {
   "cell_type": "code",
   "execution_count": 17,
   "id": "1a8845ca",
   "metadata": {},
   "outputs": [],
   "source": [
    "def sort012Method3(arr):\n",
    "    count0 = 0\n",
    "    count1 = 0\n",
    "    for i in arr:\n",
    "        if i == 0:\n",
    "            count0 +=1    \n",
    "        if i == 1:\n",
    "            count1 += 1\n",
    "    for i in range(count0):\n",
    "        arr[i] = 0\n",
    "    for i in range(count0,count1+count0):\n",
    "        arr[i] = 1\n",
    "    for i in range(count1+count0,len(arr)):\n",
    "        arr[i] = 2\n",
    "    return arr    "
   ]
  },
  {
   "cell_type": "code",
   "execution_count": 18,
   "id": "e268d63e",
   "metadata": {},
   "outputs": [
    {
     "data": {
      "text/plain": [
       "[0, 0, 0, 0, 0, 0, 1, 1, 1, 1, 2, 2, 2, 2]"
      ]
     },
     "execution_count": 18,
     "metadata": {},
     "output_type": "execute_result"
    }
   ],
   "source": [
    "ar = [0,1,2,0,1,0,2,1,0,2,1,0,2,0]\n",
    "sort012Method3(ar)"
   ]
  },
  {
   "cell_type": "code",
   "execution_count": 19,
   "id": "68908a75",
   "metadata": {},
   "outputs": [],
   "source": [
    "def sort012Method4(arr):\n",
    "    low = 0\n",
    "    high = len(arr)-1\n",
    "    mid = 0\n",
    "    while mid<=high:\n",
    "        if arr[mid] == 0:\n",
    "            arr[low],arr[mid] = arr[mid],arr[low]\n",
    "            low +=1\n",
    "            mid +=1\n",
    "        elif arr[mid] == 1:\n",
    "            mid +=1\n",
    "        else:\n",
    "            arr[mid],arr[high] = arr[high],arr[mid] \n",
    "            high -=1\n",
    "    return arr        "
   ]
  },
  {
   "cell_type": "code",
   "execution_count": 20,
   "id": "1d27fdf6",
   "metadata": {},
   "outputs": [
    {
     "data": {
      "text/plain": [
       "[0, 0, 0, 0, 0, 0, 1, 1, 1, 1, 2, 2, 2, 2]"
      ]
     },
     "execution_count": 20,
     "metadata": {},
     "output_type": "execute_result"
    }
   ],
   "source": [
    "a = [0,1,2,0,1,0,2,1,0,2,1,0,2,0]\n",
    "sort012Method4(a)"
   ]
  },
  {
   "cell_type": "code",
   "execution_count": 21,
   "id": "e838bd25",
   "metadata": {},
   "outputs": [],
   "source": [
    "def reverseArray(arr):\n",
    "    op_arr = [-1]*len(arr)\n",
    "    j = 0\n",
    "    for i in range(len(arr)-1,-1,-1):\n",
    "        op_arr[j] = arr[i]\n",
    "        j = j+1\n",
    "    return op_arr"
   ]
  },
  {
   "cell_type": "code",
   "execution_count": 22,
   "id": "a54563fa",
   "metadata": {},
   "outputs": [
    {
     "data": {
      "text/plain": [
       "[1, 2, 3, 4, 5]"
      ]
     },
     "execution_count": 22,
     "metadata": {},
     "output_type": "execute_result"
    }
   ],
   "source": [
    "arr = [5,4,3,2,1]\n",
    "reverseArray(arr)"
   ]
  },
  {
   "cell_type": "code",
   "execution_count": 23,
   "id": "eebd9a52",
   "metadata": {},
   "outputs": [],
   "source": [
    "def reverseArray2(arr):\n",
    "    for i in range(len(arr)//2):\n",
    "        arr[i],arr[len(arr)-1-i] = arr[len(arr)-1-i],arr[i]\n",
    "    return arr    "
   ]
  },
  {
   "cell_type": "code",
   "execution_count": 24,
   "id": "563fff6c",
   "metadata": {},
   "outputs": [
    {
     "data": {
      "text/plain": [
       "[1, 2, 3, 4, 5, 6]"
      ]
     },
     "execution_count": 24,
     "metadata": {},
     "output_type": "execute_result"
    }
   ],
   "source": [
    "ab = [6,5,4,3,2,1]\n",
    "reverseArray2(ab)"
   ]
  },
  {
   "cell_type": "code",
   "execution_count": 25,
   "id": "455d6559",
   "metadata": {},
   "outputs": [],
   "source": [
    "def reverseArray3(arr):\n",
    "    i = 0\n",
    "    j = len(arr)-1\n",
    "    while i<j:\n",
    "        arr[i],arr[j] = arr[j],arr[i]\n",
    "        i +=1\n",
    "        j -=1\n",
    "    return arr    "
   ]
  },
  {
   "cell_type": "code",
   "execution_count": 26,
   "id": "3c9eeaef",
   "metadata": {},
   "outputs": [
    {
     "data": {
      "text/plain": [
       "[1, 2, 3, 4, 5, 6]"
      ]
     },
     "execution_count": 26,
     "metadata": {},
     "output_type": "execute_result"
    }
   ],
   "source": [
    "aa = [6,5,4,3,2,1]\n",
    "reverseArray3(aa)"
   ]
  },
  {
   "cell_type": "code",
   "execution_count": 27,
   "id": "15d691c1",
   "metadata": {},
   "outputs": [],
   "source": [
    "import sys\n",
    "def mostFrequent(arr):\n",
    "    count = []\n",
    "    for i in list(set(arr)):\n",
    "        c = 0\n",
    "        for j in arr:\n",
    "            if i == j:\n",
    "                c = c + 1\n",
    "        count.append([i,c])\n",
    "    print(count)    \n",
    "    max_sys = -sys.maxsize\n",
    "    ans = -1\n",
    "    for nu, cou in count:\n",
    "        if cou>max_sys:\n",
    "            max_sys = cou\n",
    "            ans = nu\n",
    "    return ans    "
   ]
  },
  {
   "cell_type": "code",
   "execution_count": 28,
   "id": "56ff482c",
   "metadata": {},
   "outputs": [
    {
     "name": "stdout",
     "output_type": "stream",
     "text": [
      "[[1, 5], [2, 2], [3, 2], [4, 2], [5, 2], [6, 2], [7, 1]]\n"
     ]
    },
    {
     "data": {
      "text/plain": [
       "1"
      ]
     },
     "execution_count": 28,
     "metadata": {},
     "output_type": "execute_result"
    }
   ],
   "source": [
    "r = [1,1,2,2,3,3,4,4,1,1,1,5,6,5,6,7]\n",
    "mostFrequent(r)"
   ]
  },
  {
   "cell_type": "code",
   "execution_count": 29,
   "id": "b9e1b5fa",
   "metadata": {},
   "outputs": [],
   "source": [
    "import sys\n",
    "def mostFrequent2(arr):\n",
    "    count = {}\n",
    "    for i in arr:\n",
    "        if i not in count:\n",
    "            count[i] = 1\n",
    "        else:\n",
    "            count[i] = count[i]+1\n",
    "    print(count)    \n",
    "    max_sys = -sys.maxsize\n",
    "    ans = -1\n",
    "    for nu, cou in count.items():\n",
    "        if cou>max_sys:\n",
    "            max_sys = cou\n",
    "            ans = nu\n",
    "    return ans    "
   ]
  },
  {
   "cell_type": "code",
   "execution_count": 30,
   "id": "909227fd",
   "metadata": {},
   "outputs": [
    {
     "name": "stdout",
     "output_type": "stream",
     "text": [
      "{1: 5, 2: 2, 3: 2, 4: 2, 5: 2, 6: 2, 7: 1}\n"
     ]
    },
    {
     "data": {
      "text/plain": [
       "1"
      ]
     },
     "execution_count": 30,
     "metadata": {},
     "output_type": "execute_result"
    }
   ],
   "source": [
    "rr = [1,1,2,2,3,3,4,4,1,1,1,5,6,5,6,7]\n",
    "mostFrequent2(rr)"
   ]
  },
  {
   "cell_type": "code",
   "execution_count": 31,
   "id": "2ea26091",
   "metadata": {},
   "outputs": [],
   "source": [
    "def nonRepeatingEle(arr):\n",
    "    count = {}\n",
    "    for i in arr:\n",
    "        if i not in count:\n",
    "            count[i] = 1\n",
    "        else:\n",
    "            count[i] = count[i]+1\n",
    "    print(count)\n",
    "    nonRepeatingElements = []\n",
    "    for key,value in count.items():\n",
    "        if value == 1:\n",
    "            nonRepeatingElements.append(key)\n",
    "    return nonRepeatingElements    "
   ]
  },
  {
   "cell_type": "code",
   "execution_count": 32,
   "id": "95934369",
   "metadata": {},
   "outputs": [
    {
     "name": "stdout",
     "output_type": "stream",
     "text": [
      "{1: 1, 2: 3, 7: 2, 5: 1, 9: 1}\n"
     ]
    },
    {
     "data": {
      "text/plain": [
       "[1, 5, 9]"
      ]
     },
     "execution_count": 32,
     "metadata": {},
     "output_type": "execute_result"
    }
   ],
   "source": [
    "ar = [1,2,7,7,5,2,2,9]\n",
    "nonRepeatingEle(ar)"
   ]
  },
  {
   "cell_type": "code",
   "execution_count": 33,
   "id": "272caf9e",
   "metadata": {},
   "outputs": [],
   "source": [
    "def repeatingElements(arr):\n",
    "    count = {}\n",
    "    for i in arr:\n",
    "        if i not in count:\n",
    "            count[i] = 1\n",
    "        else:\n",
    "            count[i] = count[i] + 1\n",
    "    print(count) \n",
    "    ans = []\n",
    "    for key,value in count.items():\n",
    "        if value > 1:\n",
    "            ans.append(key)\n",
    "    return ans        "
   ]
  },
  {
   "cell_type": "code",
   "execution_count": 34,
   "id": "02393c77",
   "metadata": {},
   "outputs": [
    {
     "name": "stdout",
     "output_type": "stream",
     "text": [
      "{1: 1, 7: 2, 5: 1, 2: 2, 9: 1}\n"
     ]
    },
    {
     "data": {
      "text/plain": [
       "[7, 2]"
      ]
     },
     "execution_count": 34,
     "metadata": {},
     "output_type": "execute_result"
    }
   ],
   "source": [
    "ar = [1,7,7,5,2,2,9]\n",
    "repeatingElements(ar)"
   ]
  },
  {
   "cell_type": "code",
   "execution_count": 35,
   "id": "0929b2f5",
   "metadata": {},
   "outputs": [],
   "source": [
    "def firstRepeatingElements(arr):\n",
    "    count = {}\n",
    "    for i in arr:\n",
    "        if i not in count:\n",
    "            count[i] = 1\n",
    "        else:\n",
    "            return i"
   ]
  },
  {
   "cell_type": "code",
   "execution_count": 36,
   "id": "a0be317f",
   "metadata": {},
   "outputs": [
    {
     "data": {
      "text/plain": [
       "7"
      ]
     },
     "execution_count": 36,
     "metadata": {},
     "output_type": "execute_result"
    }
   ],
   "source": [
    "ar = [1,7,7,1,5,2,2,9]\n",
    "firstRepeatingElements(ar)"
   ]
  },
  {
   "cell_type": "code",
   "execution_count": 37,
   "id": "67488ed3",
   "metadata": {},
   "outputs": [],
   "source": [
    "def firstNonRepeatingEle(arr):\n",
    "    count = {}\n",
    "    for i in arr:\n",
    "        if i not in count:\n",
    "            count[i] = 1\n",
    "        else:\n",
    "            count[i] = count[i]+1\n",
    "    print(count)\n",
    "    for key,value in count.items():\n",
    "        if value == 1:\n",
    "            return key"
   ]
  },
  {
   "cell_type": "code",
   "execution_count": 38,
   "id": "41526caf",
   "metadata": {},
   "outputs": [
    {
     "name": "stdout",
     "output_type": "stream",
     "text": [
      "{1: 2, 7: 2, 5: 1, 2: 2, 9: 1}\n"
     ]
    },
    {
     "data": {
      "text/plain": [
       "5"
      ]
     },
     "execution_count": 38,
     "metadata": {},
     "output_type": "execute_result"
    }
   ],
   "source": [
    "ar = [1,7,7,1,5,2,2,9]\n",
    "firstNonRepeatingEle(ar)"
   ]
  },
  {
   "cell_type": "code",
   "execution_count": 39,
   "id": "b11d17ec",
   "metadata": {},
   "outputs": [],
   "source": [
    "def uniqueElements(arr):\n",
    "    ans = []\n",
    "    for i in arr:\n",
    "        if i not in ans:\n",
    "            ans.append(i)\n",
    "    return ans        "
   ]
  },
  {
   "cell_type": "code",
   "execution_count": 40,
   "id": "6c9b1237",
   "metadata": {},
   "outputs": [
    {
     "data": {
      "text/plain": [
       "[1, 7, 5, 2, 9]"
      ]
     },
     "execution_count": 40,
     "metadata": {},
     "output_type": "execute_result"
    }
   ],
   "source": [
    "array = [1,7,7,1,5,2,2,9]\n",
    "uniqueElements(array)"
   ]
  },
  {
   "cell_type": "code",
   "execution_count": 41,
   "id": "d248e390",
   "metadata": {},
   "outputs": [],
   "source": [
    "def uniqueElements2(arr):\n",
    "    ins = {}\n",
    "    for i in arr:\n",
    "        ins[i] = True\n",
    "    '''ans = []\n",
    "    for key,value in ins.items():\n",
    "        ans.append(key)'''\n",
    "    ans = list(ins.keys())\n",
    "    return ans  "
   ]
  },
  {
   "cell_type": "code",
   "execution_count": 42,
   "id": "920442d9",
   "metadata": {},
   "outputs": [
    {
     "data": {
      "text/plain": [
       "[1, 7, 5, 2, 9, 10, 12]"
      ]
     },
     "execution_count": 42,
     "metadata": {},
     "output_type": "execute_result"
    }
   ],
   "source": [
    "array = [1,7,7,1,5,2,2,9,10,12]\n",
    "uniqueElements2(array)"
   ]
  },
  {
   "cell_type": "code",
   "execution_count": 43,
   "id": "fc6bc71c",
   "metadata": {},
   "outputs": [],
   "source": [
    "def uniqueElements3(arr):\n",
    "    ans = list(set(arr))\n",
    "    return ans"
   ]
  },
  {
   "cell_type": "code",
   "execution_count": 44,
   "id": "bbe10f27",
   "metadata": {},
   "outputs": [
    {
     "data": {
      "text/plain": [
       "[1, 2, 5, 7, 9, 10, 12, 15]"
      ]
     },
     "execution_count": 44,
     "metadata": {},
     "output_type": "execute_result"
    }
   ],
   "source": [
    "array = [1,7,7,1,5,2,2,9,10,12,15]\n",
    "uniqueElements3(array)"
   ]
  },
  {
   "cell_type": "code",
   "execution_count": 45,
   "id": "a1220431",
   "metadata": {},
   "outputs": [],
   "source": [
    "def sortedOrNot(arr):\n",
    "    if len(arr)==0 or len(arr) == 1:\n",
    "        return True\n",
    "    ans = True\n",
    "    for i in range(1,len(arr)):\n",
    "        if arr[i-1] < arr[i]:\n",
    "            ans = True\n",
    "        else:\n",
    "            ans = False\n",
    "    return ans        "
   ]
  },
  {
   "cell_type": "code",
   "execution_count": 46,
   "id": "c0ea059e",
   "metadata": {},
   "outputs": [
    {
     "data": {
      "text/plain": [
       "True"
      ]
     },
     "execution_count": 46,
     "metadata": {},
     "output_type": "execute_result"
    }
   ],
   "source": [
    "a = [1,2,3,5,8,9]\n",
    "sortedOrNot(a)"
   ]
  },
  {
   "cell_type": "code",
   "execution_count": 47,
   "id": "b722aef9",
   "metadata": {},
   "outputs": [],
   "source": [
    "def sortedOrNot2(arr):\n",
    "    if len(arr) == 0 or len(arr) == 1:\n",
    "        return True\n",
    "    n = len(arr)\n",
    "    return arr[n-2]<arr[n-1] and sortedOrNot2(arr[0:n-1])     "
   ]
  },
  {
   "cell_type": "code",
   "execution_count": 48,
   "id": "4897cbcd",
   "metadata": {},
   "outputs": [
    {
     "data": {
      "text/plain": [
       "False"
      ]
     },
     "execution_count": 48,
     "metadata": {},
     "output_type": "execute_result"
    }
   ],
   "source": [
    "arr = [1,2,3,7,5,8,9]\n",
    "sortedOrNot2(arr)"
   ]
  },
  {
   "cell_type": "code",
   "execution_count": 49,
   "id": "ecf1c21f",
   "metadata": {},
   "outputs": [],
   "source": [
    "def segregateNegative(arr):\n",
    "    i = 0\n",
    "    j = len(arr)-1\n",
    "    while i<j:\n",
    "        if arr[i]<0:\n",
    "            arr[i],arr[j] = arr[j],arr[i]\n",
    "            j = j-1\n",
    "        else:\n",
    "            i = i+1\n",
    "    return arr        "
   ]
  },
  {
   "cell_type": "code",
   "execution_count": 50,
   "id": "be00ea09",
   "metadata": {},
   "outputs": [
    {
     "data": {
      "text/plain": [
       "[9, 0, 1, 8, 4, -6, -7, -2, -5]"
      ]
     },
     "execution_count": 50,
     "metadata": {},
     "output_type": "execute_result"
    }
   ],
   "source": [
    "ar = [-5,0,1,-2,4,-6,8,-7,9]\n",
    "segregateNegative(ar)"
   ]
  },
  {
   "cell_type": "code",
   "execution_count": 51,
   "id": "2baadc81",
   "metadata": {},
   "outputs": [],
   "source": [
    "def segregateNegative2(arr):\n",
    "    i = 0\n",
    "    j = len(arr)-1\n",
    "    alpha = []\n",
    "    while i<j:\n",
    "        if arr[i]<0:\n",
    "            temp = arr.pop(i)\n",
    "            alpha.append(temp)\n",
    "            j = j-1\n",
    "        else:\n",
    "            i = i+1\n",
    "    arr.extend(alpha)     \n",
    "    return arr"
   ]
  },
  {
   "cell_type": "code",
   "execution_count": 52,
   "id": "efced125",
   "metadata": {},
   "outputs": [
    {
     "data": {
      "text/plain": [
       "[0, 1, 2, 4, 8, 9, 10, -5, -6, -7]"
      ]
     },
     "execution_count": 52,
     "metadata": {},
     "output_type": "execute_result"
    }
   ],
   "source": [
    "ar = [-5,0,1,2,4,-6,-7,8,9,10]\n",
    "segregateNegative2(ar)"
   ]
  },
  {
   "cell_type": "code",
   "execution_count": 53,
   "id": "d44b020b",
   "metadata": {},
   "outputs": [],
   "source": [
    "def missingNo(arr):\n",
    "    lastElement = arr[-1]\n",
    "    missingNumbers = []\n",
    "    for i in range(1,lastElement+1):\n",
    "        if i not in arr:\n",
    "            missingNumbers.append(i)\n",
    "    return missingNumbers        "
   ]
  },
  {
   "cell_type": "code",
   "execution_count": 54,
   "id": "bef8f496",
   "metadata": {},
   "outputs": [
    {
     "data": {
      "text/plain": [
       "[7, 11, 13, 14]"
      ]
     },
     "execution_count": 54,
     "metadata": {},
     "output_type": "execute_result"
    }
   ],
   "source": [
    "arr = [1,2,3,8,9,4,5,6,10,12,15]\n",
    "missingNo(arr)"
   ]
  },
  {
   "cell_type": "code",
   "execution_count": 55,
   "id": "b4ee2d2b",
   "metadata": {},
   "outputs": [],
   "source": [
    "import random \n",
    "\n",
    "def listInit():\n",
    "    l = []\n",
    "    for i in range(1,101):\n",
    "        l.append(i)\n",
    "    missingIndex = random.randint(0,99)\n",
    "    print(\"Popped element \", l[missingIndex])\n",
    "    l.pop(missingIndex)\n",
    "    return l\n",
    "\n",
    "def missngEle(arr):\n",
    "    ele = -1\n",
    "    for i in range(1,101):\n",
    "        if i not in arr:\n",
    "            ele = i\n",
    "            break\n",
    "    return ele        "
   ]
  },
  {
   "cell_type": "code",
   "execution_count": 56,
   "id": "162be1c5",
   "metadata": {},
   "outputs": [
    {
     "name": "stdout",
     "output_type": "stream",
     "text": [
      "Popped element  59\n"
     ]
    },
    {
     "data": {
      "text/plain": [
       "59"
      ]
     },
     "execution_count": 56,
     "metadata": {},
     "output_type": "execute_result"
    }
   ],
   "source": [
    "arr = listInit()\n",
    "missngEle(arr)"
   ]
  },
  {
   "cell_type": "code",
   "execution_count": 57,
   "id": "10008e6b",
   "metadata": {},
   "outputs": [],
   "source": [
    "import random \n",
    "\n",
    "def listInit():\n",
    "    l = []\n",
    "    for i in range(1,101):\n",
    "        l.append(i)\n",
    "    missingIndex = random.randint(0,99)\n",
    "    print(\"Popped element \", l[missingIndex])\n",
    "    l.pop(missingIndex)\n",
    "    return l\n",
    "\n",
    "def missngEle2(arr):\n",
    "    ele = -1\n",
    "    ans = {}\n",
    "    for i in arr:\n",
    "        ans[i] = True\n",
    "    for i in range(1,101):\n",
    "        if i not in ans:\n",
    "            ele = i\n",
    "            break\n",
    "    return ele        "
   ]
  },
  {
   "cell_type": "code",
   "execution_count": 58,
   "id": "155482ed",
   "metadata": {},
   "outputs": [
    {
     "name": "stdout",
     "output_type": "stream",
     "text": [
      "Popped element  39\n"
     ]
    },
    {
     "data": {
      "text/plain": [
       "39"
      ]
     },
     "execution_count": 58,
     "metadata": {},
     "output_type": "execute_result"
    }
   ],
   "source": [
    "arr = listInit()\n",
    "missngEle2(arr)"
   ]
  },
  {
   "cell_type": "code",
   "execution_count": 59,
   "id": "ea647f28",
   "metadata": {},
   "outputs": [],
   "source": [
    "import random \n",
    "\n",
    "def listInit():\n",
    "    l = []\n",
    "    for i in range(1,101):\n",
    "        l.append(i)\n",
    "    missingIndex = random.randint(0,99)\n",
    "    print(\"Popped element \", l[missingIndex])\n",
    "    l.pop(missingIndex)\n",
    "    return l\n",
    "\n",
    "def missngEle3(arr):\n",
    "    n = len(arr)+1\n",
    "    actual_sum = sum(arr)\n",
    "    print(actual_sum)\n",
    "    expected_sum = int(n*(n+1)/2)\n",
    "    print(expected_sum)\n",
    "    ans = expected_sum-actual_sum\n",
    "    return ans        "
   ]
  },
  {
   "cell_type": "code",
   "execution_count": 60,
   "id": "c97ab5d8",
   "metadata": {},
   "outputs": [
    {
     "name": "stdout",
     "output_type": "stream",
     "text": [
      "Popped element  96\n",
      "4954\n",
      "5050\n"
     ]
    },
    {
     "data": {
      "text/plain": [
       "96"
      ]
     },
     "execution_count": 60,
     "metadata": {},
     "output_type": "execute_result"
    }
   ],
   "source": [
    "arr = listInit()\n",
    "missngEle3(arr)"
   ]
  },
  {
   "cell_type": "code",
   "execution_count": 61,
   "id": "d844d425",
   "metadata": {},
   "outputs": [],
   "source": [
    "def moveAllZeros(arr):\n",
    "    i = 0\n",
    "    j = len(arr)-1\n",
    "    while i<j:\n",
    "        if arr[i] == 0:\n",
    "            arr[i],arr[j] = arr[j],arr[i]\n",
    "            j = j-1\n",
    "        else:\n",
    "            i = i+1\n",
    "    return arr       "
   ]
  },
  {
   "cell_type": "code",
   "execution_count": 62,
   "id": "186c28d2",
   "metadata": {},
   "outputs": [
    {
     "data": {
      "text/plain": [
       "[5, 4, 7, 3, 1, 0, 0, 0]"
      ]
     },
     "execution_count": 62,
     "metadata": {},
     "output_type": "execute_result"
    }
   ],
   "source": [
    "ag = [5,0,7,0,0,1,3,4]\n",
    "moveAllZeros(ag)       "
   ]
  },
  {
   "cell_type": "code",
   "execution_count": 63,
   "id": "21e35eb5",
   "metadata": {},
   "outputs": [],
   "source": [
    "def moveAllZeros2(arr):\n",
    "    i = 0\n",
    "    j = len(arr)-1\n",
    "    alpha = []\n",
    "    while i<j:\n",
    "        if arr[i]==0:\n",
    "            temp = arr.pop(i)\n",
    "            alpha.append(temp)\n",
    "            j = j-1\n",
    "        else:\n",
    "            i = i+1\n",
    "    arr.extend(alpha)     \n",
    "    return arr"
   ]
  },
  {
   "cell_type": "code",
   "execution_count": 64,
   "id": "3f52e4c8",
   "metadata": {},
   "outputs": [
    {
     "data": {
      "text/plain": [
       "[5, 7, 1, 3, 4, 0, 0, 0, 0]"
      ]
     },
     "execution_count": 64,
     "metadata": {},
     "output_type": "execute_result"
    }
   ],
   "source": [
    "ak = [5,0,0,7,0,0,1,3,4]\n",
    "moveAllZeros2(ak)       "
   ]
  },
  {
   "cell_type": "code",
   "execution_count": 65,
   "id": "5bdaf117",
   "metadata": {},
   "outputs": [],
   "source": [
    "def moveAllZeros3(arr):\n",
    "    i = 0\n",
    "    for j in range(len(arr)):\n",
    "        if arr[i]==0:\n",
    "            temp = arr.pop(i)\n",
    "            arr.append(temp)\n",
    "        else:\n",
    "            i = i+1\n",
    "        \n",
    "    return arr"
   ]
  },
  {
   "cell_type": "code",
   "execution_count": 66,
   "id": "3bae8cf5",
   "metadata": {},
   "outputs": [
    {
     "data": {
      "text/plain": [
       "[5, 7, 1, 3, 4, 0, 0, 0, 0]"
      ]
     },
     "execution_count": 66,
     "metadata": {},
     "output_type": "execute_result"
    }
   ],
   "source": [
    "ak = [5,0,0,7,0,0,1,3,4]\n",
    "moveAllZeros3(ak)       "
   ]
  },
  {
   "cell_type": "code",
   "execution_count": 203,
   "id": "de4854ee",
   "metadata": {},
   "outputs": [],
   "source": [
    "def removeDuplicate(arr):\n",
    "    count = {}\n",
    "    i = 0\n",
    "    while i<len(arr):\n",
    "        if arr[i] in count:\n",
    "            arr.pop(i)\n",
    "        else:\n",
    "            count[arr[i]] = 1\n",
    "            i = i+1\n",
    "    return list(count.keys())        "
   ]
  },
  {
   "cell_type": "code",
   "execution_count": 204,
   "id": "43e579c6",
   "metadata": {},
   "outputs": [
    {
     "data": {
      "text/plain": [
       "[1, 7, 5, 2, 9]"
      ]
     },
     "execution_count": 204,
     "metadata": {},
     "output_type": "execute_result"
    }
   ],
   "source": [
    "arr = [1,7,7,5,2,2,9]\n",
    "removeDuplicate(arr)"
   ]
  },
  {
   "cell_type": "code",
   "execution_count": 80,
   "id": "ef3b8e0e",
   "metadata": {},
   "outputs": [],
   "source": [
    "def nthRow(mat,n):\n",
    "    if n >= len(mat):\n",
    "        return -1\n",
    "    row = []\n",
    "    for i in range(len(mat)):\n",
    "        row.append(mat[n-1][i])\n",
    "    return row \n",
    "def nthCol(mat,n):\n",
    "    if n >= len(mat):\n",
    "        return -1\n",
    "    col = []\n",
    "    for i in range(len(mat)):\n",
    "        col.append(mat[i][n-1])\n",
    "    return col"
   ]
  },
  {
   "cell_type": "code",
   "execution_count": 82,
   "id": "56823862",
   "metadata": {},
   "outputs": [
    {
     "name": "stdout",
     "output_type": "stream",
     "text": [
      "[4, 5, 6]\n",
      "[2, 5, 8]\n"
     ]
    }
   ],
   "source": [
    "mat = [[1,2,3],[4,5,6],[7,8,9]]\n",
    "n = 2\n",
    "print(nthRow(mat,n))\n",
    "print(nthCol(mat,n))"
   ]
  },
  {
   "cell_type": "code",
   "execution_count": 87,
   "id": "cc557401",
   "metadata": {},
   "outputs": [
    {
     "data": {
      "text/plain": [
       "3"
      ]
     },
     "execution_count": 87,
     "metadata": {},
     "output_type": "execute_result"
    }
   ],
   "source": [
    "len(mat)"
   ]
  },
  {
   "cell_type": "code",
   "execution_count": 105,
   "id": "509b4c1d",
   "metadata": {},
   "outputs": [],
   "source": [
    "def diagonalEle(mat):\n",
    "    diaR = []\n",
    "    diaL = []\n",
    "    for i in range(len(mat)):\n",
    "        for j in range(len(mat[0])):\n",
    "            if i == j:\n",
    "                diaR.append(mat[i][j])\n",
    "            if i+j == len(mat)-1:\n",
    "                diaL.append(mat[i][j])\n",
    "                \n",
    "    return diaR,diaL           "
   ]
  },
  {
   "cell_type": "code",
   "execution_count": 106,
   "id": "494296a4",
   "metadata": {},
   "outputs": [
    {
     "data": {
      "text/plain": [
       "([1, 5, 9], [3, 5, 7])"
      ]
     },
     "execution_count": 106,
     "metadata": {},
     "output_type": "execute_result"
    }
   ],
   "source": [
    "diagonalEle(mat)"
   ]
  },
  {
   "cell_type": "code",
   "execution_count": 113,
   "id": "08bce777",
   "metadata": {},
   "outputs": [],
   "source": [
    "def diagonalEle2(mat):\n",
    "    diaR = []\n",
    "    diaL = []\n",
    "    j = len(mat)-1\n",
    "    for i in range(len(mat)):\n",
    "        diaR.append(mat[i][i])\n",
    "        diaL.append(mat[i][j])\n",
    "        j=j-1\n",
    "                \n",
    "    return diaR,diaL           "
   ]
  },
  {
   "cell_type": "code",
   "execution_count": 114,
   "id": "b3fb7851",
   "metadata": {},
   "outputs": [
    {
     "data": {
      "text/plain": [
       "([1, 5, 9], [3, 5, 7])"
      ]
     },
     "execution_count": 114,
     "metadata": {},
     "output_type": "execute_result"
    }
   ],
   "source": [
    "diagonalEle2(mat)"
   ]
  },
  {
   "cell_type": "code",
   "execution_count": 138,
   "id": "52dee887",
   "metadata": {},
   "outputs": [],
   "source": [
    "def lowerAndUpper(mat):\n",
    "    upper = []\n",
    "    lower = []\n",
    "    for i in range(len(mat)):\n",
    "        row = []\n",
    "        col = []\n",
    "        for j in range(len(mat[0])):\n",
    "            if i<=j:\n",
    "                row.append(mat[i][j])    \n",
    "            if i>=j:\n",
    "                col.append(mat[i][j])\n",
    "        upper.append(row)        \n",
    "        lower.append(col)        \n",
    "    return upper,lower           "
   ]
  },
  {
   "cell_type": "code",
   "execution_count": 139,
   "id": "dca60e31",
   "metadata": {},
   "outputs": [
    {
     "data": {
      "text/plain": [
       "([[1, 2, 3], [5, 6], [9]], [[1], [4, 5], [7, 8, 9]])"
      ]
     },
     "execution_count": 139,
     "metadata": {},
     "output_type": "execute_result"
    }
   ],
   "source": [
    "lowerAndUpper(mat)"
   ]
  },
  {
   "cell_type": "code",
   "execution_count": 173,
   "id": "ec03030b",
   "metadata": {},
   "outputs": [],
   "source": [
    "def transpose(mat):\n",
    "    l = []\n",
    "    for i in range(len(mat)):\n",
    "        row = []\n",
    "        for j in range(len(mat[0])):\n",
    "            row.append(-1)\n",
    "        l.append(row)\n",
    "    for i in range(len(mat)):\n",
    "        for j in range(len(mat[0])):\n",
    "            l[i][j] = mat[j][i]\n",
    "    return l        "
   ]
  },
  {
   "cell_type": "code",
   "execution_count": 174,
   "id": "831e7a93",
   "metadata": {},
   "outputs": [
    {
     "data": {
      "text/plain": [
       "[[1, 4, 7], [2, 5, 8], [3, 6, 9]]"
      ]
     },
     "execution_count": 174,
     "metadata": {},
     "output_type": "execute_result"
    }
   ],
   "source": [
    "transpose(mat)"
   ]
  },
  {
   "cell_type": "code",
   "execution_count": 175,
   "id": "c8338b06",
   "metadata": {},
   "outputs": [
    {
     "data": {
      "text/plain": [
       "[[1, 2, 3], [4, 5, 6], [7, 8, 9]]"
      ]
     },
     "execution_count": 175,
     "metadata": {},
     "output_type": "execute_result"
    }
   ],
   "source": [
    "mat = [[1,2,3],[4,5,6],[7,8,9]]\n",
    "mat"
   ]
  },
  {
   "cell_type": "code",
   "execution_count": 177,
   "id": "0b9644f6",
   "metadata": {},
   "outputs": [],
   "source": [
    "def transpose2(mat):\n",
    "    for i in range(len(mat)):\n",
    "        for j in range(len(mat[0])):\n",
    "            if i>j:\n",
    "                mat[i][j],mat[j][i] = mat[j][i],mat[i][j]\n",
    "    return mat       "
   ]
  },
  {
   "cell_type": "code",
   "execution_count": 178,
   "id": "65ae161d",
   "metadata": {},
   "outputs": [
    {
     "data": {
      "text/plain": [
       "[[1, 4, 7], [2, 5, 8], [3, 6, 9]]"
      ]
     },
     "execution_count": 178,
     "metadata": {},
     "output_type": "execute_result"
    }
   ],
   "source": [
    "transpose2(mat)"
   ]
  },
  {
   "cell_type": "code",
   "execution_count": null,
   "id": "e63d98a7",
   "metadata": {},
   "outputs": [],
   "source": []
  },
  {
   "cell_type": "code",
   "execution_count": null,
   "id": "2f8896e2",
   "metadata": {},
   "outputs": [],
   "source": []
  },
  {
   "cell_type": "code",
   "execution_count": null,
   "id": "363e9fd1",
   "metadata": {},
   "outputs": [],
   "source": []
  },
  {
   "cell_type": "code",
   "execution_count": null,
   "id": "2e504222",
   "metadata": {},
   "outputs": [],
   "source": []
  },
  {
   "cell_type": "code",
   "execution_count": null,
   "id": "7cd410f7",
   "metadata": {},
   "outputs": [],
   "source": []
  },
  {
   "cell_type": "code",
   "execution_count": null,
   "id": "84201d06",
   "metadata": {},
   "outputs": [],
   "source": []
  },
  {
   "cell_type": "code",
   "execution_count": null,
   "id": "c3890979",
   "metadata": {},
   "outputs": [],
   "source": []
  },
  {
   "cell_type": "code",
   "execution_count": null,
   "id": "3c66aba6",
   "metadata": {},
   "outputs": [],
   "source": []
  },
  {
   "cell_type": "code",
   "execution_count": null,
   "id": "ce7830c1",
   "metadata": {},
   "outputs": [],
   "source": []
  },
  {
   "cell_type": "code",
   "execution_count": null,
   "id": "4f397094",
   "metadata": {},
   "outputs": [],
   "source": []
  }
 ],
 "metadata": {
  "kernelspec": {
   "display_name": "Python 3",
   "language": "python",
   "name": "python3"
  },
  "language_info": {
   "codemirror_mode": {
    "name": "ipython",
    "version": 3
   },
   "file_extension": ".py",
   "mimetype": "text/x-python",
   "name": "python",
   "nbconvert_exporter": "python",
   "pygments_lexer": "ipython3",
   "version": "3.8.8"
  }
 },
 "nbformat": 4,
 "nbformat_minor": 5
}
